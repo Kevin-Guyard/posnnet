{
 "cells": [
  {
   "cell_type": "markdown",
   "id": "a649e0f4-2a9f-46de-b481-5dba332f72b3",
   "metadata": {},
   "source": [
    "# Framework validation"
   ]
  },
  {
   "cell_type": "markdown",
   "id": "900f7215-e505-45ef-9b8f-fc8b7058680e",
   "metadata": {},
   "source": [
    "This notebook presents the results of the framework validation as detailed in the scientific publication \"POSNNET: POSitioning Neural Network Estimation Tool\" by Guyard et al.\n",
    "\n",
    "**Summary**\n",
    "\n",
    "[0. Before starting](#0.-Before-starting)  \n",
    "[1. Load project](#1.-Load-project)  \n",
    "[2. Settings](#2.-Settings)  \n",
    "[3. Preprocess data](#3.-Preprocess-data)  \n",
    "[4. Fit the scalers](#4.-Fit-the-scalers)  \n",
    "[5. Models tuning](#5.-Models-tuning)  \n",
    "[6. Models evaluation](#6.-Models-evaluation)  \n",
    "[7. Averaging configuration](#7.-Averaging-configuration)  \n",
    "[8. Results dashboard](#8.-Results-dashboard)"
   ]
  },
  {
   "cell_type": "markdown",
   "id": "1d95662d-38df-40a5-a3bf-88862b7f6ab8",
   "metadata": {
    "jp-MarkdownHeadingCollapsed": true
   },
   "source": [
    "## 0. Before starting"
   ]
  },
  {
   "cell_type": "markdown",
   "id": "8aba931b-e8ef-40ea-ab5b-2a8eb7ab9664",
   "metadata": {},
   "source": [
    "Before runing this notebook, prepare the environment:\n",
    "\n",
    "1. Create a new environment with Python 3.12.9.\n",
    "\n",
    "2. Install Pytorch 2.6.0 with CUDA 12.4 (see Pytorch installation guide [https://pytorch.org/](https://pytorch.org/)).\n",
    "\n",
    "3. Install the other required packages <code>pip install -r requirements.txt</code>.\n",
    "\n",
    "Then, collect the evaluation data and material:\n",
    "\n",
    "1. Collect the framework validation project folder:\n",
    "\n",
    "    - Download the folder *project_framework_validation* available in POSNNET GitHub: [https://github.com/Kevin-Guyard/posnnet](https://github.com/Kevin-Guyard/posnnet).\n",
    "\n",
    "    - Place the folder in the same location as this notebook.  \n",
    "\n",
    "2. Collect the evaluation dataset:\n",
    "\n",
    "    -  Download the zip *POSNNET_evaluation_dataset.zip* available in Zenodo: [https://zenodo.org/records/16750909](https://zenodo.org/records/16750909).\n",
    "\n",
    "    -  Unzip the folder.\n",
    "  \n",
    "    -  Open it and copy the folder *data* inside.\n",
    "  \n",
    "    -  Paste the folder *data* inside the folder *project_framework_validation*.\n",
    "  \n",
    "3. Collect the evaluation material:\n",
    "\n",
    "    - Download the zip *POSNNET_evaluation_material.zip* available in Zenodo: [https://zenodo.org/records/16751248](https://zenodo.org/records/16751248).\n",
    "\n",
    "    - Unzip the folder.\n",
    "  \n",
    "    - Open it and copy the folder *exteral* inside.\n",
    "  \n",
    "    - Paste the folder *external* inside the folder *project_framework_validation*."
   ]
  },
  {
   "cell_type": "markdown",
   "id": "9d6b22cc-c234-486a-a3d6-5b49c35fdea8",
   "metadata": {
    "jp-MarkdownHeadingCollapsed": true
   },
   "source": [
    "## 1. Load project"
   ]
  },
  {
   "cell_type": "code",
   "execution_count": null,
   "id": "d41e15e7-2d77-4202-96d7-709e18efbb2e",
   "metadata": {},
   "outputs": [],
   "source": [
    "from posnnet import Project\n",
    "\n",
    "project = Project(project_name=\"framework_validation\")"
   ]
  },
  {
   "cell_type": "markdown",
   "id": "6ec03dc9-0848-4047-9c0e-08b641978526",
   "metadata": {
    "jp-MarkdownHeadingCollapsed": true
   },
   "source": [
    "## 2. Settings"
   ]
  },
  {
   "cell_type": "markdown",
   "id": "c85055a9-c0bf-4558-9217-84a9d7aaaa77",
   "metadata": {},
   "source": [
    "**General settings**"
   ]
  },
  {
   "cell_type": "code",
   "execution_count": null,
   "id": "0a8e61b7-924b-444d-9ac5-ac317fc73f09",
   "metadata": {},
   "outputs": [],
   "source": [
    "# DO NOT RUN. The project provided in the folder './project_framework_validation' is already initialized with the settings.\n",
    "\n",
    "project.set_general_settings(\n",
    "    random_seed=1,\n",
    "    dtype='float32',\n",
    "    device='auto'\n",
    ")"
   ]
  },
  {
   "cell_type": "markdown",
   "id": "3fa04d60-42a7-4489-93c9-0fea31f48573",
   "metadata": {},
   "source": [
    "**CSV files settings**"
   ]
  },
  {
   "cell_type": "code",
   "execution_count": null,
   "id": "e8d40a74-00f1-412e-b314-c818395fb622",
   "metadata": {},
   "outputs": [],
   "source": [
    "# DO NOT RUN. The project provided in the folder './project_framework_validation' is already initialized with the settings.\n",
    "\n",
    "project.set_csv_files_settings(\n",
    "    csv_sep=',',\n",
    "    csv_encoding='utf-8'\n",
    ")"
   ]
  },
  {
   "cell_type": "markdown",
   "id": "621ae358-3f02-40db-8ab5-88b4c8a117ee",
   "metadata": {},
   "source": [
    "**Sensor settings**"
   ]
  },
  {
   "cell_type": "code",
   "execution_count": null,
   "id": "f4e59f27-e2ae-41e1-947c-f927061ceb8c",
   "metadata": {},
   "outputs": [],
   "source": [
    "# DO NOT RUN. The project provided in the folder './project_framework_validation' is already initialized with the settings.\n",
    "\n",
    "project.set_sensor_settings(\n",
    "    frequency=100,\n",
    "    name_accelerometer_x='accelerometer_x',\n",
    "    name_accelerometer_y='accelerometer_y',\n",
    "    name_accelerometer_z='accelerometer_z',\n",
    "    name_gyroscope_x='gyroscope_x',\n",
    "    name_gyroscope_y='gyroscope_y',\n",
    "    name_gyroscope_z='gyroscope_z',\n",
    "    name_magnetometer_x='magnetometer_x',\n",
    "    name_magnetometer_y='magnetometer_y',\n",
    "    name_magnetometer_z='magnetometer_z',\n",
    "    name_velocity_gps_x='velocity_gps_x',\n",
    "    name_velocity_gps_y='velocity_gps_y',\n",
    "    name_velocity_gps_z='velocity_gps_z',\n",
    "    name_position_fusion_x='position_fusion_x',\n",
    "    name_position_fusion_y='position_fusion_y',\n",
    "    name_position_fusion_z='position_fusion_z',\n",
    "    name_velocity_fusion_x='velocity_fusion_x',\n",
    "    name_velocity_fusion_y='velocity_fusion_y',\n",
    "    name_velocity_fusion_z='velocity_fusion_z',\n",
    "    name_orientation_fusion_x='orientation_fusion_x',\n",
    "    name_orientation_fusion_y='orientation_fusion_y',\n",
    "    name_orientation_fusion_z='orientation_fusion_z'\n",
    ")"
   ]
  },
  {
   "cell_type": "markdown",
   "id": "6dbed631-149b-4b2e-ad92-60491dcda834",
   "metadata": {},
   "source": [
    "**Dataset settings**"
   ]
  },
  {
   "cell_type": "code",
   "execution_count": null,
   "id": "2cb0b30d-8080-401b-a0e9-bb273cb29bba",
   "metadata": {},
   "outputs": [],
   "source": [
    "# DO NOT RUN. The project provided in the folder './project_framework_validation' is already initialized with the settings.\n",
    "\n",
    "project.set_dataset_settings(\n",
    "    sessions_id_training=[\n",
    "        2150, 7049, 7246, 7269, 7284, 7488, 7491, 7513, 7520, 7536, 7537, 7637, 7682, 7739, 7833, 7868, 7878, 7897, 7922, 7961, 7965, \n",
    "        7972, 7979, 7980, 7990, 7991, 8006, 8012, 8242, 8285, 8311, 8352, 8524, 8539, 8606, 8631, 8897, 9023, 9142, 9273, 9288, 9446, \n",
    "        9478, 9500, 9516, 9519, 9521, 9530, 9534, 9536, 9548, 9550, 9624, 9703, 9754, 9771, 9899, 9944, 9951, 9952, 9953, 9970, 9974, \n",
    "        9977, 10084, 10106, 10110, 10140, 10142, 10186, 10347, 10367, 10476, 10512, 10575, 10652, 10657, 10701, 10702, 10706, 10739, \n",
    "        10748, 10749, 10750, 10751, 10808, 10843, 10939, 10945, 11094, 11095, 11129, 11206, 11221, 11265, 11283, 11310, 11347, 11497, \n",
    "        11510, 11691, 11712, 11978, 11986, 12203, 12290, 12298, 12356, 12576, 12636, 12777, 12778, 12890\n",
    "    ],\n",
    "    sessions_id_validation=[\n",
    "        7285, 7498, 7535, 7619, 7850, 7885, 8058, 8282, 8367, 9277, 9379, 9419, 9520, 9535, 9549, 9890, 9972, 9976, 10038, 10432, 10708, \n",
    "        11069, 11083, 11096, 11097, 11202, 11236, 11323, 11566, 11987, 12326, 12517, 12602, 12904\n",
    "    ],\n",
    "    sessions_id_evaluation=[\n",
    "        7245, 7267, 7534, 7538, 7966, 8148, 8327, 8586, 9162, 9276, 9290, 9291, 9897, 9963, 9975, 9995, 10169, 10439, 10974, 11119, \n",
    "        11250, 11558, 12220, 12516, 12560, 12905\n",
    "    ],\n",
    "    n_duplications_per_eval_session='normal',\n",
    ")"
   ]
  },
  {
   "cell_type": "markdown",
   "id": "0b9f0854-e219-4002-b291-405bc72ba41d",
   "metadata": {},
   "source": [
    "**Objective settings**"
   ]
  },
  {
   "cell_type": "code",
   "execution_count": null,
   "id": "4f7d43da-3a51-482d-aa13-8ae2585c796e",
   "metadata": {},
   "outputs": [],
   "source": [
    "# DO NOT RUN. The project provided in the folder './project_framework_validation' is already initialized with the settings.\n",
    "\n",
    "project.set_objective_settings(\n",
    "    n_minimum_seconds_operational_gps=4,\n",
    "    gps_outage_durations_eval_at_beginning=[(\"00:30\", \"02:00\"), (\"02:00\", \"05:00\")],\n",
    "    gps_outage_durations_eval_within=[(\"00:30\", \"02:00\"), (\"02:00\", \"05:00\")],\n",
    "    gps_outage_durations_eval_at_end=[(\"00:30\", \"02:00\"), (\"02:00\", \"05:00\")]\n",
    ")"
   ]
  },
  {
   "cell_type": "markdown",
   "id": "204db32a-f97a-4612-a7ea-bd1a2f313ec3",
   "metadata": {},
   "source": [
    "**Training settings**"
   ]
  },
  {
   "cell_type": "code",
   "execution_count": null,
   "id": "72aabbde-b9c3-4a75-9945-86e2fc68c2c3",
   "metadata": {},
   "outputs": [],
   "source": [
    "# DO NOT RUN. The project provided in the folder './project_framework_validation' is already initialized with the settings.\n",
    "\n",
    "project.set_training_settings(\n",
    "    coeff_sampling_training=10000,\n",
    "    coeff_sampling_validation=2000,\n",
    "    n_epochs_sampling=20,\n",
    "    n_epochs=100,\n",
    "    patience=10,\n",
    "    num_workers=4,\n",
    "    use_mixed_precision=True,\n",
    "    n_epochs_training_checkpoint=10\n",
    ")"
   ]
  },
  {
   "cell_type": "markdown",
   "id": "fcd094ca-e6cf-431b-959c-c2e4dc90e1a2",
   "metadata": {},
   "source": [
    "**Tuning settings**"
   ]
  },
  {
   "cell_type": "code",
   "execution_count": null,
   "id": "195b8293-179c-4ebd-991d-23a18ef035b6",
   "metadata": {},
   "outputs": [],
   "source": [
    "# DO NOT RUN. The project provided in the folder './project_framework_validation' is already initialized with the settings.\n",
    "\n",
    "project.set_tuning_settings(\n",
    "    n_startup_trials=20,\n",
    "    save_every_state_dicts=False\n",
    ")"
   ]
  },
  {
   "cell_type": "markdown",
   "id": "cbe0e526-6d35-4415-8c53-b16a3a27069c",
   "metadata": {},
   "source": [
    "Validate the settings."
   ]
  },
  {
   "cell_type": "code",
   "execution_count": null,
   "id": "34dbedc6-e302-4b18-8b62-b4fc743ce370",
   "metadata": {},
   "outputs": [],
   "source": [
    "# DO NOT RUN. The project provided in the folder './project_framework_validation' is already initialized with the settings.\n",
    "\n",
    "project.validate_settings(force_validation=False)"
   ]
  },
  {
   "cell_type": "markdown",
   "id": "fa23ebc8-9ff9-452c-b97d-bb76df3a03c3",
   "metadata": {
    "jp-MarkdownHeadingCollapsed": true
   },
   "source": [
    "## 3. Preprocess data"
   ]
  },
  {
   "cell_type": "code",
   "execution_count": null,
   "id": "715412d1-2bad-4392-a2a0-45eb25fbb85c",
   "metadata": {},
   "outputs": [],
   "source": [
    "# DO NOT RUN. The raw data are not provided (proprietary data) but the evaluation data are already preprocessed and available for download.\n",
    "\n",
    "project.preprocess_data(verbosity=True)"
   ]
  },
  {
   "cell_type": "markdown",
   "id": "e6c5820a-c632-48f8-86fb-3a4e784d2a07",
   "metadata": {
    "jp-MarkdownHeadingCollapsed": true
   },
   "source": [
    "## 4. Fit the scalers"
   ]
  },
  {
   "cell_type": "code",
   "execution_count": null,
   "id": "a3ba998d-e602-4ec0-800c-766344669f5d",
   "metadata": {},
   "outputs": [],
   "source": [
    "# DO NOT RUN. The training data are not provided (proprietary data) but the scalers are already provided in the folder './project_framework_validation'\n",
    "\n",
    "project.fit_scalers()"
   ]
  },
  {
   "cell_type": "markdown",
   "id": "f8350d11-0003-48a8-b1f1-f111bc8f7495",
   "metadata": {
    "jp-MarkdownHeadingCollapsed": true
   },
   "source": [
    "## 5. Models tuning"
   ]
  },
  {
   "cell_type": "code",
   "execution_count": null,
   "id": "9b443cee-0775-4000-abdb-7b4ae9873f1e",
   "metadata": {},
   "outputs": [],
   "source": [
    "# DO NOT RUN. The training and validation data are not provided (proprietary data) but the models' torch script are available for download.\n",
    "\n",
    "# Iterate over neural network architectures.\n",
    "for model_name in ['CLSTMTFAWB', 'CLSTMTWB', 'STTFAWB', 'STTWB', 'TCANWB']:\n",
    "\n",
    "    # Iterate over adversarial training types.\n",
    "    for use_adversarial in [None, 'imu', 'full']:\n",
    "\n",
    "        # Iterate over training types.\n",
    "        for training_type in ['beginning', 'centered', 'end', 'random']:\n",
    "\n",
    "            # Iterate over gps outage duration capacities.\n",
    "            for gps_outage_duration in [(\"00:30\", \"02:00\"), (\"02:00\", \"05:00\")]:\n",
    "\n",
    "                # Perform 100 trials.\n",
    "                project.run_tuning(\n",
    "                    n_experiments=100,\n",
    "                    model_name=model_name,\n",
    "                    use_adversarial=use_adversarial,\n",
    "                    training_type=training_type,\n",
    "                    coeff_frequency_division=10,\n",
    "                    gps_outage_duration=gps_outage_duration,\n",
    "                    verbosity=2\n",
    "                )"
   ]
  },
  {
   "cell_type": "markdown",
   "id": "b4552582-44d5-46c7-b2e4-814a637a252d",
   "metadata": {
    "jp-MarkdownHeadingCollapsed": true
   },
   "source": [
    "## 6. Models evaluation"
   ]
  },
  {
   "cell_type": "code",
   "execution_count": null,
   "id": "03b7b9c2-8869-49b7-a3ff-27b5dc2b1b41",
   "metadata": {},
   "outputs": [],
   "source": [
    "# The results are already stored in the folder './project_framework_validation' but you can run this cellule by yourself to recompute the evaluation.\n",
    "# NB: This will remove the averaging configuration results and you will have to add them again after that or rerun the averaging configuration method.\n",
    "\n",
    "from posnnet.project_life_cycle_manager import ProjectLifeCycleManager\n",
    "\n",
    "project.move_to_previous_stage(desired_stage=ProjectLifeCycleManager.MODELS_TUNING_STAGE, force_move=True)\n",
    "\n",
    "# Iterate over neural network architectures.\n",
    "for model_name in ['CLSTMTFAWB', 'CLSTMTWB', 'STTFAWB', 'STTWB', 'TCANWB']:\n",
    "\n",
    "    # Iterate over adversarial training types.\n",
    "    for use_adversarial in [None, 'imu', 'full']:\n",
    "\n",
    "        # Iterate over training types.\n",
    "        for training_type in ['beginning', 'centered', 'end', 'random']:\n",
    "\n",
    "            # Iterate over gps outage duration capacities.\n",
    "            for gps_outage_duration in [(\"00:30\", \"02:00\"), (\"02:00\", \"05:00\")]:\n",
    "\n",
    "                project.evaluate_configuration(\n",
    "                    model_name=model_name,\n",
    "                    use_adversarial=use_adversarial,\n",
    "                    training_type=training_type,\n",
    "                    coeff_frequency_division=10,\n",
    "                    gps_outage_duration=gps_outage_duration,\n",
    "                    verbosity=True,\n",
    "                    external_source=True\n",
    "                )\n",
    "\n",
    "# Validate tuning to continue to the next step.\n",
    "project.validate_models_tuning(force_validation=False)"
   ]
  },
  {
   "cell_type": "markdown",
   "id": "52df94fe-ca61-4df0-8917-2f005ad6602f",
   "metadata": {
    "jp-MarkdownHeadingCollapsed": true
   },
   "source": [
    "## 7. Averaging configuration"
   ]
  },
  {
   "cell_type": "code",
   "execution_count": null,
   "id": "214f6248-169c-4093-ace7-e83a6089cbc0",
   "metadata": {},
   "outputs": [],
   "source": [
    "# The results are already stored in the folder './project_framework_validation' but you can run this cellule by yourself to recompute the evaluation.\n",
    "\n",
    "from posnnet.project_life_cycle_manager import ProjectLifeCycleManager\n",
    "\n",
    "project.move_to_previous_stage(desired_stage=ProjectLifeCycleManager.AVERAGING_CONFIGURATION_STAGE, force_move=True)\n",
    "\n",
    "project.averaging_configuration(\n",
    "    model_selection_levels=[0.17, 0.34, 0.51, 0.67, 0.84, 1.0], # 5, 10, 15, 20, 25, and 30 networks.\n",
    "    verbosity=True,\n",
    "    external_source=True\n",
    ")"
   ]
  },
  {
   "cell_type": "markdown",
   "id": "2a8a5477-ae88-4031-a858-1107a618a39d",
   "metadata": {
    "jp-MarkdownHeadingCollapsed": true
   },
   "source": [
    "## 8. Results dashboard"
   ]
  },
  {
   "cell_type": "code",
   "execution_count": null,
   "id": "f9e97ef9-255d-40c1-a2cc-0d47d9f7d844",
   "metadata": {},
   "outputs": [],
   "source": [
    "# Run to display the dashboard with evaluation results.\n",
    "\n",
    "project.display_dashboard()"
   ]
  }
 ],
 "metadata": {
  "kernelspec": {
   "display_name": "Python 3 (ipykernel)",
   "language": "python",
   "name": "python3"
  },
  "language_info": {
   "codemirror_mode": {
    "name": "ipython",
    "version": 3
   },
   "file_extension": ".py",
   "mimetype": "text/x-python",
   "name": "python",
   "nbconvert_exporter": "python",
   "pygments_lexer": "ipython3",
   "version": "3.12.9"
  }
 },
 "nbformat": 4,
 "nbformat_minor": 5
}
