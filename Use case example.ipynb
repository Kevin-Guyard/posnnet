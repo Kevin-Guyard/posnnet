{
 "cells": [
  {
   "cell_type": "markdown",
   "id": "0db4b6e0-bec4-4d08-b620-105637d52fa9",
   "metadata": {},
   "source": [
    "# POSNNET use case example"
   ]
  },
  {
   "cell_type": "markdown",
   "id": "ed77efec-10c8-4e52-833b-857fffb54c70",
   "metadata": {},
   "source": [
    "Welcome to this POSNNET use case example. This notebook presents an example of how to use the framework in a real-world scenario. It is a complementary resource to the user guide notebook.\n",
    "\n",
    "\n",
    "**Here is the use case:**\n",
    "\n",
    "Tony and Johnny developed a device designed for runners to analyze their training sessions and competitions. The device is capable of outputting both position and velocity data. These outputs are then processed to derive various performance metrics for the runner. Since runners typically analyze their sessions after completing them, postprocessing is a suitable solution rather than requiring real-time computation.\n",
    "\n",
    "<u>Device description</u>\n",
    "\n",
    "The device is equipped with:\n",
    "\n",
    "- An **Inertial Measurement Unit (IMU)**, consisting of an accelerometer and a gyroscope, both providing data across three axes at a frequency of 100 Hz.\n",
    "- A **GPS chip**, which provides velocity data across three axes at a frequency of 10 Hz.\n",
    "- A **data fusion algorithm**, which combines the IMU and GPS data to output final position and velocity at a frequency of 100 Hz.\n",
    "\n",
    "<u>Problem observed</u>\n",
    "\n",
    "Some users experience GPS outages during usage. Because the output position and velocity depend heavily on GPS data, the accuracy of the results drops significantly during these outages. Tony and Johnny have identified two main scenarios where GPS outages occur:\n",
    "\n",
    "- **At the beginning of a session**, when the user starts indoors. In this case, GPS outages last between 10 and 30 seconds.\n",
    "- **Within a session**, when the user passes through areas with poor GPS coverage (e.g., forests or mountains). These outages last between 20 seconds and 10 minutes.\n",
    "\n",
    "Additionally, they observed that when multiple GPS outages occur within a session, there is always at least 10 seconds of operational GPS data between them.\n",
    "\n",
    "<u>Solution</u>\n",
    "\n",
    "They decided to use the POSNNET framework, which is particularly well-suited for their problem. To maximize efficiency and meet both short-term and long-term goals, they chose to work in parallel:\n",
    "\n",
    "- **Tony** will run the framework with minimal parameters to quickly obtain a usable solution. This version is intended to provide immediate improvements and be deployed to clients who are dissatisfied with the loss of accuracy during GPS outages.\n",
    "\n",
    "- **Johnny** will run the framework using more robust parameters to produce a more accurate and stable solution. Once finalized, Johnny’s solution will replace Tony’s temporary version in production.\n",
    "\n",
    "Both Tony and Johnny have access to a system equipped with a suitable GPU capable of handling the framework’s computational requirements. Tony will use a **dedicated computing node** to perform the tuning, ensuring that all resources are available exclusively for his tasks. Johnny, on the other hand, will use a **shared computing node**, meaning that the available resources may be distributed among multiple users.\n",
    "\n",
    "<u>Note</u> \n",
    "\n",
    "Tony and Johnny are used in this example to illustrate two different usage scenarios:\n",
    "\n",
    "- **Tony** represents a case where you have limited time and/or low computational resources.  \n",
    "- **Johnny** represents a case where you have plenty of time and/or access to a powerful computing system.\n",
    "\n",
    "These examples help demonstrate how to adapt the use of the POSNNET framework based on available resources and urgency.\n"
   ]
  },
  {
   "cell_type": "markdown",
   "id": "d4ea85df-d8f8-4c38-bc0b-85a3da3f07a9",
   "metadata": {
    "jp-MarkdownHeadingCollapsed": true
   },
   "source": [
    "## 1. Data collection"
   ]
  },
  {
   "cell_type": "markdown",
   "id": "4c9718ae-6228-4818-b3a9-55a9ffeb3bc2",
   "metadata": {},
   "source": [
    "Before starting with the POSNNET framework, Tony and Johnny aggregated data from multiple devices used by runners who agreed to participate in the data collection. The recorded sessions cover a wide range of usage scenarios for their device:\n",
    "\n",
    "- **Environments:** urban areas, forests, flat courses, and routes with varying elevation (ascents and descents)  \n",
    "- **Runner profiles:** beginner, intermediate, and advanced levels  \n",
    "- **Session characteristics:** varying in intensity and duration\n",
    "\n",
    "After aggregating the data, they conducted a **quality check** to filter out sessions where the GPS signal was not consistently strong throughout the entire duration. After this filtering process, they retained **100 hours of high-quality data**.\n",
    "\n",
    "They then split the dataset into three parts:\n",
    "- **70 hours for training**\n",
    "- **15 hours for validation**\n",
    "- **15 hours for evaluation**\n",
    "\n",
    "The split was done carefully to ensure that all three subsets maintained a representative distribution of the various usage scenarios."
   ]
  },
  {
   "cell_type": "markdown",
   "id": "19c29914-fd0c-4c41-b635-bdf324ef552c",
   "metadata": {
    "jp-MarkdownHeadingCollapsed": true
   },
   "source": [
    "## 2. Project creation"
   ]
  },
  {
   "cell_type": "markdown",
   "id": "2901034c-4be1-4be3-9e31-461177283e16",
   "metadata": {},
   "source": [
    "Tony and Johnny each create a project."
   ]
  },
  {
   "cell_type": "code",
   "execution_count": null,
   "id": "50eb8ef4-7937-4ba4-a3af-853f9de36a86",
   "metadata": {},
   "outputs": [],
   "source": [
    "from posnnet import Project\n",
    "\n",
    "project_tony = Project(project_name='tony')\n",
    "project_johnny = Project(project_name='johnny')"
   ]
  },
  {
   "cell_type": "markdown",
   "id": "88f8d8f3-fc30-4e06-86c0-a5faac4c5d23",
   "metadata": {
    "jp-MarkdownHeadingCollapsed": true
   },
   "source": [
    "## 3. Settings"
   ]
  },
  {
   "cell_type": "markdown",
   "id": "96c7ea18-1637-4c50-acb3-481e8bbf40b8",
   "metadata": {
    "jp-MarkdownHeadingCollapsed": true
   },
   "source": [
    "### 3.1. General settings"
   ]
  },
  {
   "cell_type": "markdown",
   "id": "2fa7a508-c25e-4411-ad3f-d166f73e0ace",
   "metadata": {},
   "source": [
    "**Random seed**\n",
    "\n",
    "The value of the random seed has no impact on the results. To ensure they work on the same dataset and obtain reproducible results, both Tony and Johnny will use the same value.\n",
    "\n",
    "**Dtype**\n",
    "\n",
    "Tony can consider using <code>'float16'</code> or <code>'float32'</code>. Since he wants quick results but also wants to avoid sacrificing too much accuracy, he will stick to <code>'float32'</code> and uses the mixed precision which will run in both 16 and 32 bits precision depending of the operations.\n",
    "\n",
    "Johnny can consider using <code>'float32'</code> or <code>'float64'</code>. While <code>'float64'</code> could slightly improve accuracy, it comes with a significant computational cost. Johnny estimates that the minor accuracy gain does not justify the additional cost, so he will also use <code>'float32'</code>.\n",
    "\n",
    "**Device**\n",
    "\n",
    "Both Tony and Johnny will use <code>'auto'</code> to let the framework automatically select the most suitable device available (preferably a GPU)."
   ]
  },
  {
   "cell_type": "code",
   "execution_count": null,
   "id": "54641bc0-dbc7-4976-a712-19301587dc7f",
   "metadata": {},
   "outputs": [],
   "source": [
    "project_tony.set_general_settings(\n",
    "    random_seed=42,\n",
    "    dtype='float32',\n",
    "    device='auto'\n",
    ")\n",
    "\n",
    "project_johnny.set_general_settings(\n",
    "    random_seed=42,\n",
    "    dtype='float32',\n",
    "    device='auto'\n",
    ")"
   ]
  },
  {
   "cell_type": "markdown",
   "id": "61eb4f04-77c3-4799-94bb-bb6c6d362a58",
   "metadata": {
    "jp-MarkdownHeadingCollapsed": true
   },
   "source": [
    "### 3.2. CSV files settings"
   ]
  },
  {
   "cell_type": "markdown",
   "id": "223b777b-af6a-4f28-8e50-e98e6e02bb14",
   "metadata": {},
   "source": [
    "**CSV sep**\n",
    "\n",
    "They both work on the same CSV files, which use <code>','</code> as the separator.\n",
    "\n",
    "**CSV encoding**\n",
    "\n",
    "They both work on the same CSV files, which use <code>'utf-8'</code> as the encoding format."
   ]
  },
  {
   "cell_type": "code",
   "execution_count": null,
   "id": "03f28df6-afa0-4cf6-8d41-980d66141031",
   "metadata": {},
   "outputs": [],
   "source": [
    "project_tony.set_csv_files_settings(\n",
    "    csv_sep=',',\n",
    "    csv_encoding='utf-8'\n",
    ")\n",
    "\n",
    "project_johnny.set_csv_files_settings(\n",
    "    csv_sep=',',\n",
    "    csv_encoding='utf-8'\n",
    ")"
   ]
  },
  {
   "cell_type": "markdown",
   "id": "23eef8da-55f4-4a6a-8d43-3d29b0fbaecd",
   "metadata": {
    "jp-MarkdownHeadingCollapsed": true
   },
   "source": [
    "### 3.3. Sensor settings"
   ]
  },
  {
   "cell_type": "markdown",
   "id": "8302b8b8-ae8a-46c8-9274-3d0075117860",
   "metadata": {},
   "source": [
    "They both use the same sensor, so the sensor settings are identical for both cases.\n",
    "\n",
    "**Frequency**\n",
    "\n",
    "The frequency of the data provided by the sensor is <code>100</code> Hz. Although the GPS chip itself provides data at 10 Hz, each measurement is duplicated 10 times to align with the 100 Hz frequency of the sensor output.\n",
    "\n",
    "**Features names**\n",
    "\n",
    "The IMU provides:\n",
    "- 3D acceleration from the accelerometer, named <code>accelerometer_i</code> where <code>i</code> is either <code>x</code>, <code>y</code>, or <code>z</code>\n",
    "- 3D angular velocity from the gyroscope, named <code>gyroscope_i</code> where <code>i</code> is either <code>x</code>, <code>y</code>, or <code>z</code>\n",
    "- No magnetic field data (the sensor does not include a magnetometer)\n",
    "\n",
    "The GPS chip provides:\n",
    "- 3D velocity, named <code>velocity_gps_i</code> where <code>i</code> is either <code>x</code>, <code>y</code>, or <code>z</code>\n",
    "\n",
    "The fusion algorithm provides:\n",
    "- 3D position, named <code>position_fusion_i</code> where <code>i</code> is either <code>x</code>, <code>y</code>, or <code>z</code>\n",
    "- 3D velocity, named <code>velocity_fusion_i</code> where <code>i</code> is either <code>x</code>, <code>y</code>, or <code>z</code>\n",
    "- No orientation data\n"
   ]
  },
  {
   "cell_type": "code",
   "execution_count": null,
   "id": "0d56373a-c1c1-4fc1-8b9a-142e71364d75",
   "metadata": {},
   "outputs": [],
   "source": [
    "project_tony.set_sensor_settings(\n",
    "    frequency=100,\n",
    "    name_accelerometer_x='accelerometer_x',\n",
    "    name_accelerometer_y='accelerometer_y',\n",
    "    name_accelerometer_z='accelerometer_z',\n",
    "    name_gyroscope_x='gyroscope_x',\n",
    "    name_gyroscope_y='gyroscope_y',\n",
    "    name_gyroscope_z='gyroscope_z',\n",
    "    name_magnetometer_x=None,\n",
    "    name_magnetometer_y=None,\n",
    "    name_magnetometer_z=None,\n",
    "    name_velocity_gps_x='velocity_gps_x',\n",
    "    name_velocity_gps_y='velocity_gps_y',\n",
    "    name_velocity_gps_z='velocity_gps_z',\n",
    "    name_position_fusion_x='position_fusion_x',\n",
    "    name_position_fusion_y='position_fusion_y',\n",
    "    name_position_fusion_z='position_fusion_z',\n",
    "    name_velocity_fusion_x='velocity_fusion_x',\n",
    "    name_velocity_fusion_y='velocity_fusion_y',\n",
    "    name_velocity_fusion_z='velocity_fusion_z',\n",
    "    name_orientation_fusion_x=None,\n",
    "    name_orientation_fusion_y=None,\n",
    "    name_orientation_fusion_z=None\n",
    ")\n",
    "\n",
    "project_johnny.set_sensor_settings(\n",
    "    frequency=100,\n",
    "    name_accelerometer_x='accelerometer_x',\n",
    "    name_accelerometer_y='accelerometer_y',\n",
    "    name_accelerometer_z='accelerometer_z',\n",
    "    name_gyroscope_x='gyroscope_x',\n",
    "    name_gyroscope_y='gyroscope_y',\n",
    "    name_gyroscope_z='gyroscope_z',\n",
    "    name_magnetometer_x=None,\n",
    "    name_magnetometer_y=None,\n",
    "    name_magnetometer_z=None,\n",
    "    name_velocity_gps_x='velocity_gps_x',\n",
    "    name_velocity_gps_y='velocity_gps_y',\n",
    "    name_velocity_gps_z='velocity_gps_z',\n",
    "    name_position_fusion_x='position_fusion_x',\n",
    "    name_position_fusion_y='position_fusion_y',\n",
    "    name_position_fusion_z='position_fusion_z',\n",
    "    name_velocity_fusion_x='velocity_fusion_x',\n",
    "    name_velocity_fusion_y='velocity_fusion_y',\n",
    "    name_velocity_fusion_z='velocity_fusion_z',\n",
    "    name_orientation_fusion_x=None,\n",
    "    name_orientation_fusion_y=None,\n",
    "    name_orientation_fusion_z=None\n",
    ")"
   ]
  },
  {
   "cell_type": "markdown",
   "id": "00acb40a-5a38-4746-8f57-8c0848dc2afe",
   "metadata": {
    "jp-MarkdownHeadingCollapsed": true
   },
   "source": [
    "### 3.4. Dataset settings"
   ]
  },
  {
   "cell_type": "markdown",
   "id": "ac4711f4-1ea6-46bf-9280-24d2c3a0d2d5",
   "metadata": {},
   "source": [
    "**Number of duplications per evaluation session**\n",
    "\n",
    "Tony and Johnny have recorded up to 100 hours of high-quality data, with 15 hours allocated for evaluation. Given the sufficient size of the evaluation dataset, they will use <code>'normal'</code> for the number of duplications per evaluation session.\n",
    "\n",
    "**Sessions id**\n",
    "\n",
    "Tony and Johnny split their dataset into three parts while maintaining a good distribution of usage scenarios, using the following proportions:\n",
    "- 70% for training\n",
    "- 15% for validation\n",
    "- 15% for evaluation\n",
    "\n",
    "NB: The dataset parameters are essentially the same for both Tony and Johnny."
   ]
  },
  {
   "cell_type": "code",
   "execution_count": null,
   "id": "67657590-9cd0-49c4-9d93-f449271c94ba",
   "metadata": {},
   "outputs": [],
   "source": [
    "# The purpose of this notebook is purely demonstrative, so only a small portion of the dataset has been included to speed up operations.\n",
    "\n",
    "project_tony.set_dataset_settings(\n",
    "    n_duplications_per_eval_session='normal',\n",
    "    sessions_id_training=[1, 2, 3, 4, 5, 6],\n",
    "    sessions_id_validation=[7, 8],\n",
    "    sessions_id_evaluation=[9, 10]\n",
    ")\n",
    "\n",
    "project_johnny.set_dataset_settings(\n",
    "    n_duplications_per_eval_session='normal',\n",
    "    sessions_id_training=[1, 2, 3, 4, 5, 6],\n",
    "    sessions_id_validation=[7, 8],\n",
    "    sessions_id_evaluation=[9, 10]\n",
    ")"
   ]
  },
  {
   "cell_type": "markdown",
   "id": "4bdccffd-6a45-4adc-b336-dcf976b578bc",
   "metadata": {
    "jp-MarkdownHeadingCollapsed": true
   },
   "source": [
    "### 3.5. Objective settings"
   ]
  },
  {
   "cell_type": "markdown",
   "id": "415e88a4-9612-4fb9-9184-fc47594713b5",
   "metadata": {},
   "source": [
    "**Number of minimum seconds of operational GPS**\n",
    "\n",
    "As mentioned in the introduction, preliminary analysis has shown that at least 10 seconds of operational GPS can be guaranteed around each GPS outage. Since the framework can operate with as few as 4 seconds, both Tony and Johnny will use <code>4</code>.\n",
    "\n",
    "**GPS outage durations evaluation at beginning**\n",
    "\n",
    "As stated earlier, the device is subject to GPS outages at the beginning of sessions, typically lasting from 10 to 30 seconds. Both Tony and Johnny will use: <code>[(\"00:10\", \"00:30\")]</code>\n",
    "\n",
    "**GPS outage durations evaluation within**\n",
    "\n",
    "Preliminary analysis also revealed that GPS outages can occur within sessions, lasting from 20 seconds up to 10 minutes. To allow fine-grained evaluation across different outage durations, they will split the range into several segments: <code>[(\"00:20\", \"01:00\"), (\"01:00\", \"03:00\"), (\"03:00\", \"06:00\"), (\"06:00\", \"10:00\")]</code>\n",
    "\n",
    "**GPS outage durations evaluation at end**\n",
    "\n",
    "Since the analysis did not reveal any GPS outages occurring at the end of sessions, they will use:  \n",
    "<code>[]</code>"
   ]
  },
  {
   "cell_type": "code",
   "execution_count": null,
   "id": "cff2a629-1c2e-401e-b9de-0cc264754af2",
   "metadata": {},
   "outputs": [],
   "source": [
    "project_tony.set_objective_settings(\n",
    "    n_minimum_seconds_operational_gps=4,\n",
    "    gps_outage_durations_eval_at_beginning=[(\"00:10\", \"00:30\")],\n",
    "    gps_outage_durations_eval_within=[(\"00:20\", \"01:00\"), (\"01:00\", \"03:00\"), (\"03:00\", \"06:00\"), (\"06:00\", \"10:00\")],\n",
    "    gps_outage_durations_eval_at_end=[]\n",
    ")\n",
    "\n",
    "project_johnny.set_objective_settings(\n",
    "    n_minimum_seconds_operational_gps=4,\n",
    "    gps_outage_durations_eval_at_beginning=[(\"00:10\", \"00:30\")],\n",
    "    gps_outage_durations_eval_within=[(\"00:20\", \"01:00\"), (\"01:00\", \"03:00\"), (\"03:00\", \"06:00\"), (\"06:00\", \"10:00\")],\n",
    "    gps_outage_durations_eval_at_end=[]\n",
    ")"
   ]
  },
  {
   "cell_type": "markdown",
   "id": "240598aa-e693-4531-b696-d6e2db7f1f57",
   "metadata": {
    "jp-MarkdownHeadingCollapsed": true
   },
   "source": [
    "### 3.6. Training settings"
   ]
  },
  {
   "cell_type": "markdown",
   "id": "0d2a7a15-409b-4d28-89e6-040457d40fbe",
   "metadata": {},
   "source": [
    "**Coeff sampling training**\n",
    "\n",
    "To determine an appropriate coefficient value, Tony and Johnny considered the following:\n",
    "- Their dataset is large enough, so a lower coefficient is not needed to artificially \"increase\" the dataset size.\n",
    "- Their device outputs data at a frequency of 100 Hz.\n",
    "- They are targeting GPS outages lasting from 10 seconds to 10 minutes.\n",
    "\n",
    "Based on this, both will use a coefficient of <code>10000</code>. This means that for each session, a data window (up to 10 minutes long) will be cut every 10000 / 100 Hz = 100 seconds.\n",
    "\n",
    "**Coeff sampling validation**\n",
    "\n",
    "Following the framework's recommendation to use one-fifth of the training coefficient, they will both use <code>2000</code> for validation.\n",
    "\n",
    "**Number of epochs**\n",
    "\n",
    "- Tony, aiming for quick results, will use <code>30</code> epochs.\n",
    "- Johnny, prioritizing accuracy, will extend training up to <code>100</code> epochs.\n",
    "\n",
    "**Patience**\n",
    "\n",
    "- Tony will use <code>8</code> epochs for early stopping.\n",
    "- Johnny will use <code>10</code> epochs to allow a bit more flexibility before stopping.\n",
    "\n",
    "**Number of epochs for the sampling**\n",
    "\n",
    "To follow best practices (one-fifth of the maximum number of epochs, with a minimum of 10):\n",
    "- Tony will use <code>10</code>.\n",
    "- Johnny will use <code>20</code>.\n",
    "\n",
    "**Velocity loss**\n",
    "\n",
    "Both will use <code>'mse'</code> to prioritize minimizing extreme errors.\n",
    "\n",
    "**Mixed precision**\n",
    "\n",
    "Both will enable mixed precision by setting it to <code>True</code>, taking advantage of faster computation and reduced memory usage, with minimal/none loss in accuracy.\n",
    "\n",
    "**Num workers**\n",
    "\n",
    "Each will use <code>4</code> workers, which is recommended for one GPU.\n",
    "\n",
    "**Number of epochs between training checkpoint**\n",
    "\n",
    "- Tony, using a **dedicated computing node** where interruptions are not expected, will set this to the maximum number of epochs (<code>30</code>). This means no checkpoints will be saved.\n",
    "- Johnny, using a **shared computing node** where interruptions may occur, will use <code>20</code>. This will allow the framework to save up to 4 checkpoints (at epochs 20, 40, 60, and 80) during a full 100-epoch training.\n"
   ]
  },
  {
   "cell_type": "code",
   "execution_count": null,
   "id": "07a5fbee-e90b-4c40-91bd-ad6572aef7e5",
   "metadata": {},
   "outputs": [],
   "source": [
    "project_tony.set_training_settings(\n",
    "    coeff_sampling_training=10000,\n",
    "    coeff_sampling_validation=2000,\n",
    "    n_epochs_sampling=10,\n",
    "    n_epochs=30,\n",
    "    patience=8,\n",
    "    num_workers=4,\n",
    "    use_mixed_precision=True,\n",
    "    n_epochs_training_checkpoint=30\n",
    ")\n",
    "\n",
    "project_johnny.set_training_settings(\n",
    "    coeff_sampling_training=10000,\n",
    "    coeff_sampling_validation=2000,\n",
    "    n_epochs_sampling=20,\n",
    "    n_epochs=100,\n",
    "    patience=10,\n",
    "    num_workers=4,\n",
    "    use_mixed_precision=True,\n",
    "    n_epochs_training_checkpoint=20\n",
    ")"
   ]
  },
  {
   "cell_type": "markdown",
   "id": "4b5cf9a5-6c39-49a0-85e6-ff69e8d5f002",
   "metadata": {
    "jp-MarkdownHeadingCollapsed": true
   },
   "source": [
    "### 3.7. Tuning settings"
   ]
  },
  {
   "cell_type": "markdown",
   "id": "88b84223-5d71-4cd3-9a66-ad2ad2d820f3",
   "metadata": {},
   "source": [
    "**N startup trials**\n",
    "\n",
    "- Tony plans to perform between 30 to 50 trials per configuration. To ensure quick results while still exploring the hyperparameter space, he will set <code>10</code> startup trials. These will be randomly sampled before the framework switches to Bayesian optimization.\n",
    "\n",
    "- Johnny plans to perform 100 trials per configuration. To allow better exploration of the hyperparameter space before Bayesian optimization begins, he will set <code>20</code> startup trials.\n",
    "\n",
    "**Save every state dict**\n",
    "\n",
    "Since neither Tony nor Johnny need to debug or have any specific requirement to keep every model state, they will only save the best-performing state dict by setting <code>False</code>."
   ]
  },
  {
   "cell_type": "code",
   "execution_count": null,
   "id": "0a17775a-4acd-4d80-9a02-a703b43c78a1",
   "metadata": {},
   "outputs": [],
   "source": [
    "project_tony.set_tuning_settings(\n",
    "    n_startup_trials=10,\n",
    "    save_every_state_dicts=False\n",
    ")\n",
    "\n",
    "project_johnny.set_tuning_settings(\n",
    "    n_startup_trials=20,\n",
    "    save_every_state_dicts=False\n",
    ")"
   ]
  },
  {
   "cell_type": "markdown",
   "id": "6dc1dc12-c4c1-45db-bfaf-9238702c0359",
   "metadata": {
    "jp-MarkdownHeadingCollapsed": true
   },
   "source": [
    "### 3.8. Settings validation"
   ]
  },
  {
   "cell_type": "markdown",
   "id": "a966004a-49df-49c8-a0cc-576f6c516955",
   "metadata": {},
   "source": [
    "Finally, Tony and Johnny can validate their project settings."
   ]
  },
  {
   "cell_type": "code",
   "execution_count": null,
   "id": "2b6320b8-90f0-4945-a12e-0ccdda886bab",
   "metadata": {},
   "outputs": [],
   "source": [
    "project_tony.validate_settings()"
   ]
  },
  {
   "cell_type": "code",
   "execution_count": null,
   "id": "a11b4de8-17d9-434a-a6c0-9fd55cbaf56d",
   "metadata": {},
   "outputs": [],
   "source": [
    "project_johnny.validate_settings()"
   ]
  },
  {
   "cell_type": "markdown",
   "id": "da2ec86a-da72-4b75-b669-8b6c330c3081",
   "metadata": {},
   "source": [
    "Upon validation, both receive the following warnings:\n",
    "\n",
    "- **3 warnings** for not providing names for the magnetometer axes — this is expected and acceptable, as their IMU does not include a magnetometer.\n",
    "- **3 warnings** for not providing names for the fusion orientation axes — also expected, since their fusion algorithm does not output orientation data.\n",
    "\n",
    "In addition, Tony receives an extra warning:\n",
    "\n",
    "- **1 warning** indicating that using 30 epochs as the maximum of training epochs and setting 30 epochs between each training checkpoint means no training checkpoints will be saved. This is intentional and aligns with Tony’s plan, so it is not a concern.\n",
    "\n",
    "In conclusion, Tony and Johnny decide not to modify their settings in response to the warnings, as all of them are expected and justified. Therefore, they proceed by calling the validation method again with <code>force_validation=True</code> to finalize and validate their settings."
   ]
  },
  {
   "cell_type": "code",
   "execution_count": null,
   "id": "62618230-22dd-494c-b038-0062263fc7c3",
   "metadata": {},
   "outputs": [],
   "source": [
    "project_tony.validate_settings(force_validation=True)"
   ]
  },
  {
   "cell_type": "code",
   "execution_count": null,
   "id": "b3dfdde5-7176-472b-b2c2-54014e307d67",
   "metadata": {},
   "outputs": [],
   "source": [
    "project_johnny.validate_settings(force_validation=True)"
   ]
  },
  {
   "cell_type": "markdown",
   "id": "049a4948-4917-492b-912f-2beabb371f5f",
   "metadata": {
    "jp-MarkdownHeadingCollapsed": true
   },
   "source": [
    "## 4. Preprocess data"
   ]
  },
  {
   "cell_type": "markdown",
   "id": "4887f884-e725-4858-9c95-d6986174abc4",
   "metadata": {},
   "source": [
    "Now that Tony and Johnny have configured their respective projects, they can proceed with the data preprocessing stage."
   ]
  },
  {
   "cell_type": "code",
   "execution_count": null,
   "id": "6a77f436-791e-46f5-9095-6905366cbb83",
   "metadata": {},
   "outputs": [],
   "source": [
    "project_tony.preprocess_data(verbosity=True)"
   ]
  },
  {
   "cell_type": "code",
   "execution_count": null,
   "id": "514102f6-de0b-470c-9f6f-4322743c2bbc",
   "metadata": {},
   "outputs": [],
   "source": [
    "project_johnny.preprocess_data(verbosity=True)"
   ]
  },
  {
   "cell_type": "markdown",
   "id": "57af4aac-257c-4316-a4d3-ef832ac1a052",
   "metadata": {
    "jp-MarkdownHeadingCollapsed": true
   },
   "source": [
    "## 5. Scalers fitting"
   ]
  },
  {
   "cell_type": "markdown",
   "id": "387260ce-6a0b-4b46-9b38-ae17b8c41f49",
   "metadata": {},
   "source": [
    "Before starting to tune the configurations on their data, they have to fit the scalers."
   ]
  },
  {
   "cell_type": "code",
   "execution_count": null,
   "id": "ad1bf6ee-9139-4c35-a55f-9d430ef4f93f",
   "metadata": {},
   "outputs": [],
   "source": [
    "project_tony.fit_scalers()"
   ]
  },
  {
   "cell_type": "code",
   "execution_count": null,
   "id": "c9cd0e9b-963d-449d-b150-2e7ff2c65059",
   "metadata": {},
   "outputs": [],
   "source": [
    "project_johnny.fit_scalers()"
   ]
  },
  {
   "cell_type": "markdown",
   "id": "a5bf2a49-7c08-4e12-9560-f77e8974156a",
   "metadata": {
    "jp-MarkdownHeadingCollapsed": true
   },
   "source": [
    "## 6. Models tuning and evaluation"
   ]
  },
  {
   "cell_type": "markdown",
   "id": "d2c10d9f-a09c-4d03-add5-4e4b4a7cf763",
   "metadata": {},
   "source": [
    "Because Tony and Johnny have different goals and levels of urgency (as a reminder, Tony aims to quickly deliver a working solution for dissatisfied customers, while Johnny focuses on building a more accurate and robust model to replace Tony’s solution when ready), they will approach the model tuning stage with different strategies:\n",
    "\n",
    "- **Tony** will start by performing <code>30</code> trials for each configuration he wants to explore. If he identifies configurations that struggle to achieve acceptable accuracy, he will perform <code>20</code> additional trials for those configurations.\n",
    "\n",
    "- **Johnny** will perform <code>100</code> trials for each configuration to allow thorough exploration of the hyperparameter space and maximize the chances of optimal accuracy.\n",
    "\n",
    "**Configuration Choices**\n",
    "\n",
    "- **Neural network architecture**  \n",
    "  Both Tony and Johnny will explore all available architectures:\n",
    "  - <code>'CLSTMTWB'</code>\n",
    "  - <code>'CLSTMTFAWB'</code>\n",
    "  - <code>'STTWB'</code>\n",
    "  - <code>'STTFAWB'</code>\n",
    "  - <code>'TCANWB'</code><br><br>\n",
    "\n",
    "- **Training type**  \n",
    "  Tony will use only one training type per GPS outages duration:\n",
    "  - For short GPS outages, he will use <code>random</code> to generalize across beginning and within-session cases.\n",
    "  - For medium and long outages (which only occur within sessions), he will use <code>centered</code>.<br><br>\n",
    "\n",
    "  Johnny will use both fixed and random training types:\n",
    "  - For short outages, he will use <code>random</code>, <code>beginning</code>, and <code>centered</code>.\n",
    "  - For medium and long outages, he will use <code>random</code> and <code>centered</code>.<br><br>\n",
    "\n",
    "- **Adversarial examples training**  \n",
    "  Tony will not use adversarial examples (<code>None</code>).  \n",
    "  Johnny will explore both without (<code>None</code>) and with on IMU data (<code>'imu'</code>).\n",
    "\n",
    "- **Coefficient of frequency division**  \n",
    "  To manage GPS outages up to 10 minutes at a frequency of 100 Hz, both will use a frequency division coefficient of <code>10</code> to reduce computational cost.\n",
    "\n",
    "- **GPS outage durations**  \n",
    "  Tony will use:\n",
    "  - <code>(\"00:10\", \"00:30\")</code>\n",
    "  - <code>(\"00:30\", \"05:00\")</code>\n",
    "  - <code>(\"05:00\", \"10:00\")</code>\n",
    "\n",
    "  Johnny will use:\n",
    "  - <code>(\"00:10\", \"00:30\")</code>\n",
    "  - <code>(\"00:30\", \"02:00\")</code>\n",
    "  - <code>(\"02:00\", \"05:00\")</code>\n",
    "  - <code>(\"05:00\", \"10:00\")</code>\n"
   ]
  },
  {
   "cell_type": "markdown",
   "id": "419cc7d6-c4c0-4cf6-a2ff-60c32ebc8272",
   "metadata": {
    "jp-MarkdownHeadingCollapsed": true
   },
   "source": [
    "### 6.1. Tony"
   ]
  },
  {
   "cell_type": "markdown",
   "id": "aa33e512-5a10-430e-b1d0-f1b0928273de",
   "metadata": {},
   "source": [
    "Here is the recap of the configurations that Tony will explore:\n",
    "\n",
    "| Training type | Architecture | Adversarial examples | GPS outages capacity | Coeff freq division |\n",
    "| ------------- | ------------ | -------------------- | -------------------- | ------------------- |\n",
    "| Random        | CLSTMTWB     | None                 | 00:10 to 00:30       | 10                  |\n",
    "| Random        | CLSTMTFAWB   | None                 | 00:10 to 00:30       | 10                  |\n",
    "| Random        | STTWB        | None                 | 00:10 to 00:30       | 10                  |\n",
    "| Random        | STTFAWB      | None                 | 00:10 to 00:30       | 10                  |\n",
    "| Random        | TCANWB       | None                 | 00:10 to 00:30       | 10                  |\n",
    "| Centered      | CLSTMTWB     | None                 | 00:30 to 05:00       | 10                  |\n",
    "| Centered      | CLSTMTFAWB   | None                 | 00:30 to 05:00       | 10                  |\n",
    "| Centered      | STTWB        | None                 | 00:30 to 05:00       | 10                  |\n",
    "| Centered      | STTFAWB      | None                 | 00:30 to 05:00       | 10                  |\n",
    "| Centered      | TCANWB       | None                 | 00:30 to 05:00       | 10                  |\n",
    "| Centered      | CLSTMTWB     | None                 | 05:00 to 10:00       | 10                  |\n",
    "| Centered      | CLSTMTFAWB   | None                 | 05:00 to 10:00       | 10                  |\n",
    "| Centered      | STTWB        | None                 | 05:00 to 10:00       | 10                  |\n",
    "| Centered      | STTFAWB      | None                 | 05:00 to 10:00       | 10                  |\n",
    "| Centered      | TCANWB       | None                 | 05:00 to 10:00       | 10                  |"
   ]
  },
  {
   "cell_type": "markdown",
   "id": "aea51217-b786-4a70-8636-b71d23de9a7e",
   "metadata": {},
   "source": [
    "Tony starts by performing 30 trials for each configuration."
   ]
  },
  {
   "cell_type": "code",
   "execution_count": null,
   "id": "511570ae-109d-43b4-b2e0-137898a817c7",
   "metadata": {},
   "outputs": [],
   "source": [
    "for gps_outage_duration, training_type in [\n",
    "    ((\"00:10\", \"00:30\"), \"random\"),\n",
    "    ((\"00:30\", \"05:00\"), \"centered\"),\n",
    "    ((\"05:00\", \"10:00\"), \"centered\")\n",
    "]:\n",
    "    \n",
    "    for model_name in [\"CLSTMTWB\", \"CLSTMTFAWB\", \"STTWB\", \"STTFAWB\", \"TCANWB\"]:\n",
    "\n",
    "        project_tony.run_tuning(\n",
    "            n_experiments=30,\n",
    "            model_name=model_name,\n",
    "            use_adversarial=None,\n",
    "            training_type=training_type,\n",
    "            coeff_frequency_division=10,\n",
    "            gps_outage_duration=gps_outage_duration,\n",
    "            verbosity=1\n",
    "        )"
   ]
  },
  {
   "cell_type": "markdown",
   "id": "013db538-a4e5-44b5-9053-38b49c94c608",
   "metadata": {},
   "source": [
    "Then Tony analyzes the tuning results.\n",
    "\n",
    "For each configuration, he examines the following metrics provided by the framework:\n",
    "\n",
    "- <code>Velocity loss</code> to observe the model's training performance (note: values are on scaled data and not interpretable in m/s)\n",
    "- <code>ATE (in m)</code> to evaluate the average error in trajectory reconstruction"
   ]
  },
  {
   "cell_type": "code",
   "execution_count": null,
   "id": "c7eeddd3-05e4-4768-b92d-9845c9f1d631",
   "metadata": {},
   "outputs": [],
   "source": [
    "project_tony.display_dashboard()"
   ]
  },
  {
   "cell_type": "markdown",
   "id": "91abbf13-5f2b-4e96-87cc-1da5335bd3aa",
   "metadata": {},
   "source": [
    "By reviewing these metrics on the dashboard, he identifies configurations that show poor reconstruction performance. For such configurations, he plans to run 20 additional tuning trials to try and improve their results."
   ]
  },
  {
   "cell_type": "code",
   "execution_count": null,
   "id": "79cb9d54-3ff3-4792-b766-23acd84f56be",
   "metadata": {},
   "outputs": [],
   "source": [
    "project_tony.run_tuning(\n",
    "    n_experiments=50,\n",
    "    model_name=\"CLSTMTFAWB\",\n",
    "    use_adversarial=None,\n",
    "    training_type=\"centered\",\n",
    "    coeff_frequency_division=10,\n",
    "    gps_outage_duration=(\"00:30\", \"05:00\"),\n",
    "    verbosity=1\n",
    ")\n",
    "\n",
    "project_tony.run_tuning(\n",
    "    n_experiments=50,\n",
    "    model_name=\"TCANWB\",\n",
    "    use_adversarial=None,\n",
    "    training_type=\"centered\",\n",
    "    coeff_frequency_division=10,\n",
    "    gps_outage_duration=(\"00:30\", \"05:00\"),\n",
    "    verbosity=1\n",
    ")\n",
    "\n",
    "project_tony.run_tuning(\n",
    "    n_experiments=50,\n",
    "    model_name=\"TCANWB\",\n",
    "    use_adversarial=None,\n",
    "    training_type=\"centered\",\n",
    "    coeff_frequency_division=10,\n",
    "    gps_outage_duration=(\"05:00\", \"10:00\"),\n",
    "    verbosity=1\n",
    ")"
   ]
  },
  {
   "cell_type": "markdown",
   "id": "b106ff02-82ea-47f0-8d68-788d4c42311a",
   "metadata": {},
   "source": [
    "Finally, Tony performs the evaluation of these configurations."
   ]
  },
  {
   "cell_type": "code",
   "execution_count": null,
   "id": "281b6e2a-6933-41a8-9168-fa27e58d2890",
   "metadata": {},
   "outputs": [],
   "source": [
    "for gps_outage_duration, training_type in zip(\n",
    "    [(\"00:10\", \"00:30\"), (\"00:30\", \"05:00\"), (\"05:00\", \"10:00\")],\n",
    "    [\"random\", \"centered\", \"centered\"]\n",
    "):\n",
    "    \n",
    "    for model_name in [\"CLSTMTWB\", \"CLSTMTFAWB\", \"STTWB\", \"STTFAWB\", \"TCANWB\"]:\n",
    "\n",
    "        project_tony.evaluate_configuration(\n",
    "            model_name=model_name,\n",
    "            use_adversarial=None,\n",
    "            training_type=training_type,\n",
    "            coeff_frequency_division=10,\n",
    "            gps_outage_duration=gps_outage_duration,\n",
    "            verbosity=True\n",
    "        )"
   ]
  },
  {
   "cell_type": "markdown",
   "id": "c743ad2d-10c8-4328-a8e9-e38c03463716",
   "metadata": {},
   "source": [
    "For each configuration, he can now examines the following metrics provided by the framework:\n",
    "\n",
    "- <code>AVE (in m/s)</code>: Average Velocity Error  \n",
    "- <code>RMVE (%)</code>: Relative Maximum Velocity Error  \n",
    "- <code>STDVE (in m/s)</code>: Standard Deviation of the Velocity Error  \n",
    "- <code>ATE (in m)</code>: Average Trajectory Error  \n",
    "- <code>RMTE (%)</code>: Relative Maximum Trajectory Error  \n",
    "- <code>STDTE (in m)</code>: Standard Deviation of the Trajectory Error  \n",
    "- <code>RDE</code>: Relative Distance Error  \n",
    "- <code>RFTTE (%)</code>: Relative Form Transformed Trajectory Error  \n",
    "- <code>STE (%)</code>: Scale Transformation Error  \n",
    "- <code>TTE (in m)</code>: Translation Transformation Error  \n",
    "- <code>RTE (in deg)</code>: Rotation Transformation Error  \n",
    "\n",
    "These evaluation results give Tony a clear view of how each configuration is expected to perform in a real-world production setting."
   ]
  },
  {
   "cell_type": "code",
   "execution_count": null,
   "id": "6f7404c9-ab9c-4217-b46d-f643d9524069",
   "metadata": {},
   "outputs": [],
   "source": [
    "project_tony.display_dashboard()"
   ]
  },
  {
   "cell_type": "markdown",
   "id": "b939bc46-9dd6-4fa2-904e-bb4646751e2f",
   "metadata": {},
   "source": [
    "Tony can now validate the models tuning stage."
   ]
  },
  {
   "cell_type": "code",
   "execution_count": null,
   "id": "a3c273e0-46dc-49cb-99b0-e458955e5413",
   "metadata": {},
   "outputs": [],
   "source": [
    "project_tony.validate_models_tuning()"
   ]
  },
  {
   "cell_type": "markdown",
   "id": "43a64634-2a93-4acb-a4bc-b4f9b0fe7a6c",
   "metadata": {
    "jp-MarkdownHeadingCollapsed": true
   },
   "source": [
    "### 6.2. Johnny"
   ]
  },
  {
   "cell_type": "markdown",
   "id": "8b6fa328-13e3-47c7-8e5c-16f940463072",
   "metadata": {},
   "source": [
    "Here is the recap of the configurations that Johnny will explore:\n",
    "\n",
    "| Training type | Architecture | Adversarial examples | GPS outages capacity | Coeff freq division |\n",
    "| ------------- | ------------ | -------------------- | -------------------- | ------------------- |\n",
    "| Random        | CLSTMTWB     | None                 | 00:10 to 00:30       | 10                  |\n",
    "| Random        | CLSTMTFAWB   | None                 | 00:10 to 00:30       | 10                  |\n",
    "| Random        | STTWB        | None                 | 00:10 to 00:30       | 10                  |\n",
    "| Random        | STTFAWB      | None                 | 00:10 to 00:30       | 10                  |\n",
    "| Random        | TCANWB       | None                 | 00:10 to 00:30       | 10                  |\n",
    "| Centered      | CLSTMTWB     | None                 | 00:10 to 00:30       | 10                  |\n",
    "| Centered      | CLSTMTFAWB   | None                 | 00:10 to 00:30       | 10                  |\n",
    "| Centered      | STTWB        | None                 | 00:10 to 00:30       | 10                  |\n",
    "| Centered      | STTFAWB      | None                 | 00:10 to 00:30       | 10                  |\n",
    "| Centered      | TCANWB       | None                 | 00:10 to 00:30       | 10                  |\n",
    "| Beginning     | CLSTMTWB     | None                 | 00:10 to 00:30       | 10                  |\n",
    "| Beginning     | CLSTMTFAWB   | None                 | 00:10 to 00:30       | 10                  |\n",
    "| Beginning     | STTWB        | None                 | 00:10 to 00:30       | 10                  |\n",
    "| Beginning     | STTFAWB      | None                 | 00:10 to 00:30       | 10                  |\n",
    "| Beginning     | TCANWB       | None                 | 00:10 to 00:30       | 10                  |\n",
    "| Random        | CLSTMTWB     | imu                  | 00:10 to 00:30       | 10                  |\n",
    "| Random        | CLSTMTFAWB   | imu                  | 00:10 to 00:30       | 10                  |\n",
    "| Random        | STTWB        | imu                  | 00:10 to 00:30       | 10                  |\n",
    "| Random        | STTFAWB      | imu                  | 00:10 to 00:30       | 10                  |\n",
    "| Random        | TCANWB       | imu                  | 00:10 to 00:30       | 10                  |\n",
    "| Centered      | CLSTMTWB     | imu                  | 00:10 to 00:30       | 10                  |\n",
    "| Centered      | CLSTMTFAWB   | imu                  | 00:10 to 00:30       | 10                  |\n",
    "| Centered      | STTWB        | imu                  | 00:10 to 00:30       | 10                  |\n",
    "| Centered      | STTFAWB      | imu                  | 00:10 to 00:30       | 10                  |\n",
    "| Centered      | TCANWB       | imu                  | 00:10 to 00:30       | 10                  |\n",
    "| Beginning     | CLSTMTWB     | imu                  | 00:10 to 00:30       | 10                  |\n",
    "| Beginning     | CLSTMTFAWB   | imu                  | 00:10 to 00:30       | 10                  |\n",
    "| Beginning     | STTWB        | imu                  | 00:10 to 00:30       | 10                  |\n",
    "| Beginning     | STTFAWB      | imu                  | 00:10 to 00:30       | 10                  |\n",
    "| Beginning     | TCANWB       | imu                  | 00:10 to 00:30       | 10                  |\n",
    "| Random        | CLSTMTWB     | None                 | 00:30 to 02:00       | 10                  |\n",
    "| Random        | CLSTMTFAWB   | None                 | 00:30 to 02:00       | 10                  |\n",
    "| Random        | STTWB        | None                 | 00:30 to 02:00       | 10                  |\n",
    "| Random        | STTFAWB      | None                 | 00:30 to 02:00       | 10                  |\n",
    "| Random        | TCANWB       | None                 | 00:30 to 02:00       | 10                  |\n",
    "| Centered      | CLSTMTWB     | None                 | 00:30 to 02:00       | 10                  |\n",
    "| Centered      | CLSTMTFAWB   | None                 | 00:30 to 02:00       | 10                  |\n",
    "| Centered      | STTWB        | None                 | 00:30 to 02:00       | 10                  |\n",
    "| Centered      | STTFAWB      | None                 | 00:30 to 02:00       | 10                  |\n",
    "| Centered      | TCANWB       | None                 | 00:30 to 02:00       | 10                  |\n",
    "| Random        | CLSTMTWB     | imu                  | 00:30 to 02:00       | 10                  |\n",
    "| Random        | CLSTMTFAWB   | imu                  | 00:30 to 02:00       | 10                  |\n",
    "| Random        | STTWB        | imu                  | 00:30 to 02:00       | 10                  |\n",
    "| Random        | STTFAWB      | imu                  | 00:30 to 02:00       | 10                  |\n",
    "| Random        | TCANWB       | imu                  | 00:30 to 02:00       | 10                  |\n",
    "| Centered      | CLSTMTWB     | imu                  | 00:30 to 02:00       | 10                  |\n",
    "| Centered      | CLSTMTFAWB   | imu                  | 00:30 to 02:00       | 10                  |\n",
    "| Centered      | STTWB        | imu                  | 00:30 to 02:00       | 10                  |\n",
    "| Centered      | STTFAWB      | imu                  | 00:30 to 02:00       | 10                  |\n",
    "| Centered      | TCANWB       | imu                  | 00:30 to 02:00       | 10                  |\n",
    "| Random        | CLSTMTWB     | None                 | 02:00 to 05:00       | 10                  |\n",
    "| Random        | CLSTMTFAWB   | None                 | 02:00 to 05:00       | 10                  |\n",
    "| Random        | STTWB        | None                 | 02:00 to 05:00       | 10                  |\n",
    "| Random        | STTFAWB      | None                 | 02:00 to 05:00       | 10                  |\n",
    "| Random        | TCANWB       | None                 | 02:00 to 05:00       | 10                  |\n",
    "| Centered      | CLSTMTWB     | None                 | 02:00 to 05:00       | 10                  |\n",
    "| Centered      | CLSTMTFAWB   | None                 | 02:00 to 05:00       | 10                  |\n",
    "| Centered      | STTWB        | None                 | 02:00 to 05:00       | 10                  |\n",
    "| Centered      | STTFAWB      | None                 | 02:00 to 05:00       | 10                  |\n",
    "| Centered      | TCANWB       | None                 | 02:00 to 05:00       | 10                  |\n",
    "| Random        | CLSTMTWB     | imu                  | 02:00 to 05:00       | 10                  |\n",
    "| Random        | CLSTMTFAWB   | imu                  | 02:00 to 05:00       | 10                  |\n",
    "| Random        | STTWB        | imu                  | 02:00 to 05:00       | 10                  |\n",
    "| Random        | STTFAWB      | imu                  | 02:00 to 05:00       | 10                  |\n",
    "| Random        | TCANWB       | imu                  | 02:00 to 05:00       | 10                  |\n",
    "| Centered      | CLSTMTWB     | imu                  | 02:00 to 05:00       | 10                  |\n",
    "| Centered      | CLSTMTFAWB   | imu                  | 02:00 to 05:00       | 10                  |\n",
    "| Centered      | STTWB        | imu                  | 02:00 to 05:00       | 10                  |\n",
    "| Centered      | STTFAWB      | imu                  | 02:00 to 05:00       | 10                  |\n",
    "| Centered      | TCANWB       | imu                  | 02:00 to 05:00       | 10                  |\n",
    "| Random        | CLSTMTWB     | None                 | 05:00 to 10:00       | 10                  |\n",
    "| Random        | CLSTMTFAWB   | None                 | 05:00 to 10:00       | 10                  |\n",
    "| Random        | STTWB        | None                 | 05:00 to 10:00       | 10                  |\n",
    "| Random        | STTFAWB      | None                 | 05:00 to 10:00       | 10                  |\n",
    "| Random        | TCANWB       | None                 | 05:00 to 10:00       | 10                  |\n",
    "| Centered      | CLSTMTWB     | None                 | 05:00 to 10:00       | 10                  |\n",
    "| Centered      | CLSTMTFAWB   | None                 | 05:00 to 10:00       | 10                  |\n",
    "| Centered      | STTWB        | None                 | 05:00 to 10:00       | 10                  |\n",
    "| Centered      | STTFAWB      | None                 | 05:00 to 10:00       | 10                  |\n",
    "| Centered      | TCANWB       | None                 | 05:00 to 10:00       | 10                  |\n",
    "| Random        | CLSTMTWB     | imu                  | 05:00 to 10:00       | 10                  |\n",
    "| Random        | CLSTMTFAWB   | imu                  | 05:00 to 10:00       | 10                  |\n",
    "| Random        | STTWB        | imu                  | 05:00 to 10:00       | 10                  |\n",
    "| Random        | STTFAWB      | imu                  | 05:00 to 10:00       | 10                  |\n",
    "| Random        | TCANWB       | imu                  | 05:00 to 10:00       | 10                  |\n",
    "| Centered      | CLSTMTWB     | imu                  | 05:00 to 10:00       | 10                  |\n",
    "| Centered      | CLSTMTFAWB   | imu                  | 05:00 to 10:00       | 10                  |\n",
    "| Centered      | STTWB        | imu                  | 05:00 to 10:00       | 10                  |\n",
    "| Centered      | STTFAWB      | imu                  | 05:00 to 10:00       | 10                  |\n",
    "| Centered      | TCANWB       | imu                  | 05:00 to 10:00       | 10                  |"
   ]
  },
  {
   "cell_type": "code",
   "execution_count": null,
   "id": "607f689d-be93-40ae-9b57-e4774046b6a1",
   "metadata": {},
   "outputs": [],
   "source": [
    "for gps_outage_duration, training_types in [\n",
    "    ((\"00:10\", \"00:30\"), [\"random\", \"centered\", \"beginning\"]), \n",
    "    ((\"00:30\", \"02:00\"), [\"random\", \"centered\"]), \n",
    "    ((\"02:00\", \"05:00\"), [\"random\", \"centered\"]), \n",
    "    ((\"05:00\", \"10:00\"), [\"random\", \"centered\"])\n",
    "]:\n",
    "\n",
    "    for training_type in training_types:\n",
    "    \n",
    "        for model_name in [\"CLSTMTWB\", \"CLSTMTFAWB\", \"STTWB\", \"STTFAWB\", \"TCANWB\"]:\n",
    "\n",
    "            for use_adversarial in [None, 'imu']:\n",
    "    \n",
    "                project_johnny.run_tuning(\n",
    "                    n_experiments=30,\n",
    "                    model_name=model_name,\n",
    "                    use_adversarial=use_adversarial,\n",
    "                    training_type=training_type,\n",
    "                    coeff_frequency_division=10,\n",
    "                    gps_outage_duration=gps_outage_duration,\n",
    "                    verbosity=1\n",
    "                )"
   ]
  },
  {
   "cell_type": "code",
   "execution_count": null,
   "id": "52e51c6c-14aa-4f75-b8c7-4128b52d346b",
   "metadata": {},
   "outputs": [],
   "source": [
    "for gps_outage_duration, training_types in [\n",
    "    ((\"00:10\", \"00:30\"), [\"random\", \"centered\", \"beginning\"]), \n",
    "    ((\"00:30\", \"02:00\"), [\"random\", \"centered\"]), \n",
    "    ((\"02:00\", \"05:00\"), [\"random\", \"centered\"]), \n",
    "    ((\"05:00\", \"10:00\"), [\"random\", \"centered\"])\n",
    "]:\n",
    "\n",
    "    for training_type in training_types:\n",
    "    \n",
    "        for model_name in [\"CLSTMTWB\", \"CLSTMTFAWB\", \"STTWB\", \"STTFAWB\", \"TCANWB\"]:\n",
    "\n",
    "            for use_adversarial in [None, 'imu']:\n",
    "    \n",
    "                project_johnny.evaluate_configuration(\n",
    "                    model_name=model_name,\n",
    "                    use_adversarial=use_adversarial,\n",
    "                    training_type=training_type,\n",
    "                    coeff_frequency_division=10,\n",
    "                    gps_outage_duration=gps_outage_duration,\n",
    "                    verbosity=True\n",
    "                )"
   ]
  },
  {
   "cell_type": "markdown",
   "id": "762332d0-ff30-41b0-8dba-728c764a12b8",
   "metadata": {},
   "source": [
    "Johnny can now validate the models tuning stage."
   ]
  },
  {
   "cell_type": "code",
   "execution_count": null,
   "id": "6a102de2-500f-46f4-b0dd-202061d13b1b",
   "metadata": {},
   "outputs": [],
   "source": [
    "project_johnny.validate_models_tuning()"
   ]
  },
  {
   "cell_type": "markdown",
   "id": "1b8b92ab-077a-4164-8bf0-ca84f05b5df9",
   "metadata": {
    "jp-MarkdownHeadingCollapsed": true
   },
   "source": [
    "## 7. Configuration of the models' predictions averaging"
   ]
  },
  {
   "cell_type": "markdown",
   "id": "c89e36f1-07d8-4013-9d57-8193c01526b2",
   "metadata": {},
   "source": [
    "Tony and Johnny can now proceed to the next step of their framework preparation journey: configuring the averaging of the models' predictions.\n",
    "\n",
    "Tony has trained 5 configurations per subcase, so he will choose to configure the averaging for 2, 3, 4, and 5 configurations.\n",
    "\n",
    "Johnny, on the other hand, has trained 30 configurations per subcase, so he will choose to configure the averaging for 5, 10, 15, 20, 25, and 30 configurations."
   ]
  },
  {
   "cell_type": "code",
   "execution_count": null,
   "id": "5bfabc93-fc93-45a3-8209-372aae5ca844",
   "metadata": {},
   "outputs": [],
   "source": [
    "project_tony.averaging_configuration(\n",
    "    model_selection_levels=[0.4, 0.6, 0.8, 1.0],\n",
    "    verbosity=True\n",
    ")\n",
    "project_johnny.averaging_configuration(\n",
    "    model_selection_levels=[0.17, 0.34, 0.50, 0.67, 0.84, 1.0],\n",
    "    verbosity=True\n",
    ")"
   ]
  },
  {
   "cell_type": "markdown",
   "id": "a24f1ef3-08f4-4fd7-aa54-ff1870fb9370",
   "metadata": {},
   "source": [
    "## Production"
   ]
  },
  {
   "cell_type": "markdown",
   "id": "88d28967-ee07-4bf9-b858-3a8919f94b89",
   "metadata": {},
   "source": [
    "Tony and Johnny can now use the framework to reconstruct position and velocity during GNSS outages in production.\n",
    "\n",
    "This part of the use case example is coming soon."
   ]
  }
 ],
 "metadata": {
  "kernelspec": {
   "display_name": "Python 3 (ipykernel)",
   "language": "python",
   "name": "python3"
  },
  "language_info": {
   "codemirror_mode": {
    "name": "ipython",
    "version": 3
   },
   "file_extension": ".py",
   "mimetype": "text/x-python",
   "name": "python",
   "nbconvert_exporter": "python",
   "pygments_lexer": "ipython3",
   "version": "3.12.9"
  }
 },
 "nbformat": 4,
 "nbformat_minor": 5
}
