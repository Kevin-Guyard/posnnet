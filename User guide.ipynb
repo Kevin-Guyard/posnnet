{
 "cells": [
  {
   "cell_type": "markdown",
   "id": "5c1b23a2-1fed-4a6b-90f1-480d111d7118",
   "metadata": {},
   "source": [
    "# POSNNET user guide"
   ]
  },
  {
   "cell_type": "markdown",
   "id": "704d5a39-ae6e-4e90-9dbd-61044e98cf15",
   "metadata": {},
   "source": [
    "Welcome to the POSNNET user guide. This jupyter notebook introduces the various features of POSNNET and explains how to leverage the full capabilities of the framework.\n",
    "\n",
    "<u>Contact</u>\n",
    "\n",
    "Kévin Guyard  \n",
    "University of Geneva (Switzerland)  \n",
    "Email: kevin.guyard@live.fr  \n",
    "Linkedin: https://www.linkedin.com/in/kevin-guyard-8857aa191\n",
    "\n",
    "<u>Note</u>\n",
    "\n",
    "- The summary links only work in a local environment. It is recommended to clone or fork the GitHub repository and open it locally.\n",
    "\n",
    "- Despite the efforts made to make this framework accessible to everyone, including those without specific knowledge in AI, some features may still be difficult to understand—especially when they depend on your specific application needs. In general, you can rely on the default settings, which should provide satisfactory results in most cases. Please don’t hesitate to contact me if you need help or specific guidance.\n",
    "\n",
    "- In the GitHub repository, you will also find a notebook with a use case example (Use case example.ipynb) and another notebook presenting the scientific validation results (Framework validation.ipynb).\n",
    "\n",
    "- This framework is the result of several years of research conducted during my Ph.D. in artificial intelligence. It is distributed without any restrictions, except citing the author and sharing the adaptations under the same terms (CC BY-SA 4.0). If this work helps you advance your research, please cite the scientific publication linked to this framework. If you distribute a part or the totality of the framework code, please cite both the scientific publication and the GitHub repository.\n",
    "\n",
    "\n",
    "<u>Summary of the user guide</u>\n",
    "\n",
    "[1. What is POSNNET](#1.-What-is-POSNNET)  \n",
    "[2. Before starting](#2.-Before-starting)  \n",
    "[3. Framework flow](#3.-Framework-flow)  \n",
    "[4. Project basis](#4.-Project-basis)  \n",
    "[5. Define the setting of the project](#5.-Define-the-settings-of-the-project)  \n",
    "[6. Preprocess your data](#6.-Preprocess-your-data)  \n",
    "[7. Fit the scalers](#7.-Fit-the-scalers)  \n",
    "[8. Tune and evaluate the neural networks](#8.-Tune-and-evaluate-the-neural-networks)  \n",
    "[9. Configuration of the models' predictions averaging](#9.-Configuration-of-the-models'-predictions-averaging)  \n",
    "[10. Use POSNNET in production](#10.-Use-POSNNET-in-production)  \n",
    "[11. Revert to a previous stage](#11.-Revert-to-a-previous-stage)"
   ]
  },
  {
   "cell_type": "markdown",
   "id": "17723943-f1c3-4aa0-9d44-33b794cd0acf",
   "metadata": {
    "jp-MarkdownHeadingCollapsed": true
   },
   "source": [
    "## 1. What is POSNNET"
   ]
  },
  {
   "cell_type": "markdown",
   "id": "514c15c5-23ad-4b45-b77f-550a6658affc",
   "metadata": {},
   "source": [
    "Many applications require **localizing an object in 2D or 3D** within environments of varying scale, without relying on additional infrastructure. A commonly preferred solution is to use a sensor composed of an **IMU** and a **GPS** chip. Data from the IMU and GPS are **fused through an algorithm** (for example, a Kalman Filter) to provide accurate estimates of the object's position, velocity, and orientation. While this solution yields satisfactory results when the GPS signal is strong, localization accuracy drops drastically when the **GPS signal is weak or unavailable**. \n",
    "\n",
    "The POSNNET framework is **a solution designed to address this problem through postprocessing**. Leveraging advanced state-of-the-art artificial intelligence, **POSNNET can reconstruct the localization of the object during periods of weak or missing GPS signals**. The framework has been designed to be accessible to everyone, regardless of their experience with artificial intelligence. All you need is very basic knowledge of Python.\n",
    "\n",
    "The use of the POSNNET framework is quite simple. After setting up a POSNNET project, the framework will learn the dynamics of your sensor using the data you provide. Once this process is complete, you will be able to use the framework to reconstruct trajectories in situations where the GPS signal is weak or unavailable.\n",
    "\n",
    "If you're interested in what's under the hood, please refer to the scientific publication that describes the framework: \"POSNNET: POSitioning Neural Network Estimation Tool\" by Guyard et al."
   ]
  },
  {
   "cell_type": "markdown",
   "id": "563b7e6d-8c33-4151-b11d-497301aef8b8",
   "metadata": {
    "jp-MarkdownHeadingCollapsed": true
   },
   "source": [
    "## 2. Before starting"
   ]
  },
  {
   "cell_type": "markdown",
   "id": "6eb02793-f9a0-43e0-8ff1-c2ea32434aed",
   "metadata": {},
   "source": [
    "This section presents some important information to know before you start using the POSNNET framework:\n",
    "\n",
    "[2.1. Installation](#2.1.-Installation)  \n",
    "[2.2. Data](#2.2.-Data)  \n",
    "[2.3. Reproductibility](#2.3.-Reproductibility)"
   ]
  },
  {
   "cell_type": "markdown",
   "id": "5e757aa2-5ac0-4e09-be62-dd094a559ffd",
   "metadata": {
    "jp-MarkdownHeadingCollapsed": true
   },
   "source": [
    "### 2.1. Installation"
   ]
  },
  {
   "cell_type": "markdown",
   "id": "e8a9cdd7-a21a-4cd1-9ffe-b88d4a0aea44",
   "metadata": {},
   "source": [
    "Before using POSNNET:\n",
    "\n",
    "- Create a new environment with Python (POSNNET has been developed on Python 3.12.9)\n",
    "- Install Pytorch with/out CUDA (POSNNET has been developed with PyTorch 2.6.0 and CUDA 12.4), see Pytorch installation guide https://pytorch.org/\n",
    "- Install the other required packages: <code>pip install -r requirements.txt</code>"
   ]
  },
  {
   "cell_type": "markdown",
   "id": "341be73c-86ce-48f2-8ccd-0abf08db1207",
   "metadata": {
    "jp-MarkdownHeadingCollapsed": true
   },
   "source": [
    "### 2.2. Data"
   ]
  },
  {
   "cell_type": "markdown",
   "id": "9efdb44c-ccd4-4a17-a4bb-7f7c4787c00d",
   "metadata": {},
   "source": [
    "In order to use the POSNNET framework, you must first collect data with your sensor. It is essential to gather **high-quality data**, as the accuracy of the framework's reconstruction heavily depends on the quality of the data used to train the neural networks within the framework.\n",
    " \n",
    "Follow these guidelines to ensure the best results from POSNNET:\n",
    "\n",
    "- Collect data using the sensor for which you want to reconstruct localization during periods of weak or missing GPS signals. The results from the POSNNET framework, trained on data from a particular sensor, will only be accurate for that specific sensor.\n",
    "\n",
    "- Conduct multiple recordings (referred to as \"sessions\" in this notebook). The total duration of data collection depends on your goals, but **the more sessions you gather, the better** the framework can characterize your sensor, leverage more information, and provide accurate reconstructions. If your goal is to reconstruct localization during GPS outages lasting 10 to 30 seconds, collecting 10 to 20 hours of data should be sufficient. For GPS outages lasting several minutes, consider collecting 50 to 100 hours of recordings. In any case, if you can collect more, do not hesitate.\n",
    "\n",
    "- Each session must last at least as long as the GPS outages you aim to reconstruct. For example, if you plan to reconstruct localization up to 5 minutes, the sessions must be at least 5 minutes long.\n",
    "\n",
    "- Ensure that each session is recorded **under good or strong GPS conditions** (i.e., when the localization accuracy provided by your sensor is satisfactory). The framework learns to reconstruct the localization produced by your sensor based on the data you provide. If you include sessions where localization is inaccurate, the framework will learn these inaccuracies, resulting in lower-quality reconstructions.\n",
    "\n",
    "- Record sessions in a **variety of environments and cases** that represent the real-life positioning scenarios your sensor is likely to encounter.\n",
    "\n",
    "- If possible, **record sessions in environments where GPS outages may occur**, as long as you are able to maintain good GPS signal conditions during the data collection. This provides a significant advantage. However, **do not include such sessions if the GPS signal is too weak** to ensure reliable localization from your sensor.\n",
    "\n",
    "Once you have collected your sessions, create one CSV file per session and name it *session_{id_session}.csv*, where *id_session* is a unique integer. The column names, file format, and encoding should be consistent across all your files.\n"
   ]
  },
  {
   "cell_type": "markdown",
   "id": "8626445b-c2dc-40f0-b388-b8c16814c000",
   "metadata": {
    "jp-MarkdownHeadingCollapsed": true
   },
   "source": [
    "### 2.3. Reproductibility"
   ]
  },
  {
   "cell_type": "markdown",
   "id": "f9fd87fe-ad90-44fb-82ed-63bbe5d7dde5",
   "metadata": {},
   "source": [
    "<u>This section is intended for developers</u> \n",
    "\n",
    "The POSNNET framework incorporates randomness in several stages (such as GPS outage simulation, hyperparameter space exploration before Bayesian optimization, neuron dropout, etc.). To ensure reproducibility of results, it uses a random seed to enforce deterministic behavior of the random number generator.\n",
    "\n",
    "However, despite setting a random seed, you may still observe slight stochastic behavior during training when using mixed precision. This is due to the use of non-deterministic PyTorch mixed precision. In most cases (if not all), this is not an issue because once the model is trained, its state dictionary is saved and predictions become fully deterministic. \n",
    "\n",
    "If, for any reason, you require fully deterministic behavior during training as well, you can:\n",
    "\n",
    "- Recommended option: Avoid using mixed precision (note that this will increase training time and memory usage), or  \n",
    "- Set <code>torch.backends.cudnn.deterministic = True</code> (be aware that this will significantly increase training time)."
   ]
  },
  {
   "cell_type": "markdown",
   "id": "0f43510c-e042-4cb5-a272-e7c69700c98e",
   "metadata": {
    "jp-MarkdownHeadingCollapsed": true
   },
   "source": [
    "## 3. Framework flow"
   ]
  },
  {
   "cell_type": "markdown",
   "id": "f13de3fa-f79a-44fb-80a0-db61ab0b3f69",
   "metadata": {},
   "source": [
    "This section presents the project format of the POSNNET framework and its lifecycle:\n",
    "\n",
    "[3.1. Project-based](#3.1.-Project-based)  \n",
    "[3.2. Life cycle](#3.2.-Life-cycle)"
   ]
  },
  {
   "cell_type": "markdown",
   "id": "4b664390-4040-406b-ab74-ae3f23bfa8dd",
   "metadata": {
    "jp-MarkdownHeadingCollapsed": true
   },
   "source": [
    "### 3.1. Project-based"
   ]
  },
  {
   "cell_type": "markdown",
   "id": "99c9c2e5-c6d5-4d68-82ff-f9351267a715",
   "metadata": {},
   "source": [
    "The POSNNET framework is designed around a project-based structure. You can create one or multiple projects depending on your needs. Each project contains a configuration, your sensor data, the trained neural networks, and the evaluation results. Projects are automatically saved when modified and can be reloaded at any time. They can also be exported from one computer to another."
   ]
  },
  {
   "cell_type": "markdown",
   "id": "e47c49e7-1371-4bd7-a621-367dc7f1ef9f",
   "metadata": {
    "jp-MarkdownHeadingCollapsed": true
   },
   "source": [
    "### 3.2. Life cycle"
   ]
  },
  {
   "cell_type": "markdown",
   "id": "12da45f9-afa4-4fe8-a185-9c76490ac5fc",
   "metadata": {},
   "source": [
    "A POSNNET project follows a sequential lifecycle described as follows:\n",
    "\n",
    "1. **Settings definition stage:** This is the initial stage when you create a POSNNET project. It involves configuring the various settings of the project to meet the needs and requirements of your specific case.\n",
    "\n",
    "2. **Data preprocessing stage:** To operate correctly, the neural networks need to receive your data in a specific format. This stage consists of preparing the data to match that format, as well as setting up the simulation of GPS outages on the evaluation dataset.\n",
    "\n",
    "3. **Scalers fitting stage:** Another requirement of the neural networks is to receive scaled data. During this stage, the scalers used to normalize the data before feeding them into the neural networks will be fitted.\n",
    "\n",
    "4. **Models tuning stage:** This is the main stage of the project. For each configuration you want to use, the framework will train several neural networks of the same architecture with different hyperparameters and select the best combinations. It will then evaluate the top-performing combination for each configuration on the evaluation dataset to provide representative results that you can expect to observe in a production environment.\n",
    "\n",
    "5. **Averaging configuration stage:** To achieve accurate and consistent reconstruction, the framework utilizes multiple neural networks during trajectory reconstruction. In this stage, it defines the specific set of neural networks that will be used to perform reconstruction during GNSS outages in the production phase.\n",
    "\n",
    "6. **Production:** This is the final stage of the framework. At this point, it is fully prepared to reconstruct both position and velocity during GNSS outages in a production environment."
   ]
  },
  {
   "cell_type": "markdown",
   "id": "9670df80-06d8-4689-bd68-f1c1f26d8d98",
   "metadata": {
    "jp-MarkdownHeadingCollapsed": true
   },
   "source": [
    "## 4. Project basis"
   ]
  },
  {
   "cell_type": "markdown",
   "id": "837a3cd4-9ecf-429e-b06b-d79b86f999aa",
   "metadata": {},
   "source": [
    "This section presents the fundamentals of the POSNNET framework for managing a project:\n",
    "\n",
    "[4.1. Create a new project](#4.1.-Create-a-new-project)  \n",
    "[4.2. Add your data](#4.2.-Add-your-data)  \n",
    "[4.3. Load an existing project](#4.3.-Load-an-existing-project)  \n",
    "[4.4. Change the name of the project](#4.4.-Change-the-name-of-the-project)"
   ]
  },
  {
   "cell_type": "markdown",
   "id": "ae06bbf0-e626-497e-985b-fe1d29170bad",
   "metadata": {
    "jp-MarkdownHeadingCollapsed": true
   },
   "source": [
    "### 4.1. Create a new project"
   ]
  },
  {
   "cell_type": "markdown",
   "id": "6fb6836f-9fb9-4324-aa9f-5b90f68a0e66",
   "metadata": {},
   "source": [
    "To create a project, instantiate the <code>Project</code> class and provide a name for your project."
   ]
  },
  {
   "cell_type": "code",
   "execution_count": 1,
   "id": "c22612d7-e3a5-498d-8aed-fde9cb7405fd",
   "metadata": {},
   "outputs": [
    {
     "name": "stdout",
     "output_type": "stream",
     "text": [
      "Project user_guide_example successfully created.\n"
     ]
    }
   ],
   "source": [
    "from posnnet import Project\n",
    "\n",
    "project = Project(project_name=\"user_guide_example\")"
   ]
  },
  {
   "cell_type": "markdown",
   "id": "15703e88-3de5-486c-9459-99a9d755d397",
   "metadata": {},
   "source": [
    "As you might have observed, a project folder has been created (named *project_{project_name}*). This folder will contain all aspects of your project so it can be reloaded later. Moreover, if you want to export your project, simply copy this folder and paste it onto the other system."
   ]
  },
  {
   "cell_type": "markdown",
   "id": "75d8adbb-5ea8-4503-9ff5-36fec29f4372",
   "metadata": {
    "jp-MarkdownHeadingCollapsed": true
   },
   "source": [
    "### 4.2. Add your data"
   ]
  },
  {
   "cell_type": "markdown",
   "id": "878329ba-a3e9-4e4d-8eb0-76e3386c3bf9",
   "metadata": {},
   "source": [
    "After creating your project, you will need to add your data to it. To do this, paste your CSV files into the subfolder */project_{project_name}/data/raw/*."
   ]
  },
  {
   "cell_type": "markdown",
   "id": "5ee89950-fc4e-4055-b5db-ac0b3051f2ac",
   "metadata": {
    "jp-MarkdownHeadingCollapsed": true
   },
   "source": [
    "### 4.3. Load an existing project"
   ]
  },
  {
   "cell_type": "markdown",
   "id": "4906f8be-1fe1-4ff5-81da-3462b5344b45",
   "metadata": {},
   "source": [
    "To load an existing project, the method is the same as for creating one—you simply instantiate the <code>Project</code> class with the name of your project. \n",
    "\n",
    "NB: When you instantiate the <code>Project</code> class, if a project with the provided name exists, it will be loaded; otherwise, the framework will create a new project.\n"
   ]
  },
  {
   "cell_type": "code",
   "execution_count": 2,
   "id": "32d73133-b11d-479a-b23d-aeeb898facdd",
   "metadata": {},
   "outputs": [
    {
     "name": "stdout",
     "output_type": "stream",
     "text": [
      "Project user_guide_example successfully loaded.\n"
     ]
    }
   ],
   "source": [
    "from posnnet import Project\n",
    "\n",
    "project = Project(project_name=\"user_guide_example\")"
   ]
  },
  {
   "cell_type": "markdown",
   "id": "fde6dca2-7650-4b88-8337-3327fc630d53",
   "metadata": {
    "jp-MarkdownHeadingCollapsed": true
   },
   "source": [
    "### 4.4. Change the name of the project"
   ]
  },
  {
   "cell_type": "markdown",
   "id": "cde14fb9-1d18-4a4a-bd0c-f2a972e09487",
   "metadata": {},
   "source": [
    "You can change the name of your project by calling the <code>change_project_name</code> method with the new name of your project."
   ]
  },
  {
   "cell_type": "code",
   "execution_count": 3,
   "id": "21365d6e-2752-4887-a757-5e1b99d2e4ef",
   "metadata": {},
   "outputs": [],
   "source": [
    "project.change_project_name(new_project_name=\"user_guide\")"
   ]
  },
  {
   "cell_type": "markdown",
   "id": "e236dc99-2730-461c-a226-01fe9175ffb0",
   "metadata": {},
   "source": [
    "As you might have observed, the name of the folder of your project has changed."
   ]
  },
  {
   "cell_type": "markdown",
   "id": "30e499e4-1bcf-453a-b9a5-9c2e0b4bfb3c",
   "metadata": {
    "jp-MarkdownHeadingCollapsed": true
   },
   "source": [
    "## 5. Define the settings of the project"
   ]
  },
  {
   "cell_type": "markdown",
   "id": "0983e76b-1db4-4ba4-b362-857daa93a76d",
   "metadata": {},
   "source": [
    "After creating a project, it enters the **Settings definition stage**. During this stage, you can configure the framework's settings to match your specific needs.\n",
    "\n",
    "In this section, you will find the information needed to manage the settings of your POSNNET project:\n",
    "\n",
    "[5.1. List of settings](#5.1.-List-of-settings)  \n",
    "[5.2. Modify the settings](#5.2.-Modify-the-settings)  \n",
    "[5.3. Display the settings](#5.3.-Display-the-settings)  \n",
    "[5.4. Validate the settings](#5.4.-Validate-the-settings)"
   ]
  },
  {
   "cell_type": "markdown",
   "id": "c939d094-f3d4-4c78-b5f0-27ec8e4b318f",
   "metadata": {
    "jp-MarkdownHeadingCollapsed": true
   },
   "source": [
    "### 5.1. List of settings"
   ]
  },
  {
   "cell_type": "markdown",
   "id": "514e125d-8941-48ef-a29d-5c2c11d8dfbb",
   "metadata": {},
   "source": [
    "The POSNNET framework includes seven categories of settings:\n",
    "\n",
    "[5.1.1. General settings](#5.1.1.-General-settings)  \n",
    "[5.1.2. CSV files settings](#5.1.2.-CSV-files-settings)  \n",
    "[5.1.3. Sensor settings](#5.1.3.-Sensor-settings)  \n",
    "[5.1.4. Dataset settings](#5.1.4.-Dataset-settings)  \n",
    "[5.1.5. Objective settings](#5.1.5.-Objective-settings)  \n",
    "[5.1.6. Training settings](#5.1.6.-Training-settings)  \n",
    "[5.1.7. Tuning settings](#5.1.7.-Tuning-settings)"
   ]
  },
  {
   "cell_type": "markdown",
   "id": "e8c0e3bb-d948-4df1-ad2d-ef5b9827489d",
   "metadata": {
    "jp-MarkdownHeadingCollapsed": true
   },
   "source": [
    "#### 5.1.1. General settings"
   ]
  },
  {
   "cell_type": "markdown",
   "id": "8723f933-4348-437d-90cb-6ed73b0734f7",
   "metadata": {},
   "source": [
    "- <u>**Random seed**</u>\n",
    "    - Positive integer  \n",
    "    - Default = <code>42</code>\n",
    "\n",
    "The random seed is used to enforce deterministic behavior of the random number generator to ensure reproducibility. In other words, it guarantees that if you run your code twice with the same data, you will get the same results. You can use any positive integer—the specific value doesn't matter. What matters is that, if you want to reproduce the same behavior, you use the same number."
   ]
  },
  {
   "cell_type": "code",
   "execution_count": 4,
   "id": "984a54ec-6f61-400d-97ea-3325de1463a1",
   "metadata": {},
   "outputs": [],
   "source": [
    "RANDOM_SEED = 42"
   ]
  },
  {
   "cell_type": "markdown",
   "id": "c449d51c-279b-4f7d-a769-4ea194e0a11f",
   "metadata": {},
   "source": [
    "- <u>**Dtype**</u>  \n",
    "    - Either <code>'float16'</code>, <code>'float32'</code>, or <code>'float64'</code>  \n",
    "    - Default = <code>'float32'</code>  \n",
    "\n",
    "The data type defines how the values of neural network variables are stored. <code>'float16'</code> stands for 16-bit floating point, <code>'float32'</code> for 32-bit floating point, and <code>'float64'</code> for 64-bit floating point. The more bits used to store variables, the higher the precision—but this comes at the cost of increased memory consumption (especially during training) and longer training/inference times.\n",
    "\n",
    "In general, <code>'float32'</code> offers a good balance for most cases. If you have a high-performance computing system (e.g., compute nodes with the latest-generation GPUs and several dozen GB of RAM), you might consider using <code>'float64'</code> to slightly improve final accuracy. On the other hand, if you're working on a lower-performance system, using <code>'float16'</code> can help reduce training time, though it may sacrifice some accuracy.\n"
   ]
  },
  {
   "cell_type": "code",
   "execution_count": 5,
   "id": "1d699438-cba4-499c-9941-d113e09fa981",
   "metadata": {},
   "outputs": [],
   "source": [
    "DTYPE = 'float32'"
   ]
  },
  {
   "cell_type": "markdown",
   "id": "d3e45a69-f33a-403e-9c5f-37d297935104",
   "metadata": {},
   "source": [
    "- <u>**Device**</u>  \n",
    "    - Either <code>'cpu'</code>, <code>'cuda'</code>, or <code>'auto'</code>  \n",
    "    - Default = <code>'auto'</code>  \n",
    "\n",
    "The device setting determines which component of your system will be used for training and inference. If you select <code>'cpu'</code>, computations will be performed on your system’s CPU. If you select <code>'cuda'</code>, they will be performed on your GPU (which must be CUDA-compatible). If you select <code>'auto'</code>, the system will automatically use the GPU if a CUDA-compatible one is available; otherwise, it will fall back to the CPU.\n",
    "\n",
    "Training and inference on a CPU are significantly slower than on a GPU. Unless you have a specific reason to force the use of either the GPU or CPU, it is recommended to use <code>'auto'</code>, allowing the framework to utilize the GPU if available, or the CPU otherwise.\n"
   ]
  },
  {
   "cell_type": "code",
   "execution_count": 6,
   "id": "9c24f1d2-689c-4d78-b678-9762e0abbbdd",
   "metadata": {},
   "outputs": [],
   "source": [
    "DEVICE = 'auto'"
   ]
  },
  {
   "cell_type": "markdown",
   "id": "578bfe3e-2b14-44b5-bf48-aced9895a1f0",
   "metadata": {
    "jp-MarkdownHeadingCollapsed": true
   },
   "source": [
    "#### 5.1.2. CSV files settings"
   ]
  },
  {
   "cell_type": "markdown",
   "id": "3bc5721d-0fd8-4425-b7a6-d1a8364ad5d8",
   "metadata": {},
   "source": [
    "- <u>**CSV separator**</u>\n",
    "    - String\n",
    "    - Default = <code>','</code>\n",
    "\n",
    "The CSV separator is the character or regex pattern used to delimit columns in your CSV files. If you're unsure which separator is used, open one of the files and check which character is used to separate each columns' data."
   ]
  },
  {
   "cell_type": "code",
   "execution_count": 7,
   "id": "3756bb3a-8fc8-45c9-ba1e-1a8b211824d4",
   "metadata": {},
   "outputs": [],
   "source": [
    "CSV_SEP = ','"
   ]
  },
  {
   "cell_type": "markdown",
   "id": "bba0c9fa-3dbd-44f0-a430-f001ed43c86d",
   "metadata": {},
   "source": [
    "- <u>**CSV encoding**</u>\n",
    "    - String\n",
    "    - Default = <code>'utf-8'</code>\n",
    "\n",
    "Encoding to use for UTF when reading the CSV files."
   ]
  },
  {
   "cell_type": "code",
   "execution_count": 8,
   "id": "0928d202-817a-4cf9-9808-2b5d0bda3626",
   "metadata": {},
   "outputs": [],
   "source": [
    "CSV_ENCODING = 'utf-8'"
   ]
  },
  {
   "cell_type": "markdown",
   "id": "2ac3a0d2-c4ee-4b88-94a4-2d06dd7b07e0",
   "metadata": {
    "jp-MarkdownHeadingCollapsed": true
   },
   "source": [
    "#### 5.1.3. Sensor settings"
   ]
  },
  {
   "cell_type": "markdown",
   "id": "3f964126-5692-430c-8e62-12fc83e51c28",
   "metadata": {},
   "source": [
    "- <u>**Frequency**</u>\n",
    "    - Strictly positive integer\n",
    "    - Default = <code>100</code>\n",
    "\n",
    "The frequency, in Hertz, of the output from your sensor (not from the IMU or GPS chip directly, but from the fusion algorithm’s output)."
   ]
  },
  {
   "cell_type": "code",
   "execution_count": 9,
   "id": "9c497ec4-bdce-41f6-8a14-61b83837bc13",
   "metadata": {},
   "outputs": [],
   "source": [
    "FREQUENCY = 100"
   ]
  },
  {
   "cell_type": "markdown",
   "id": "46df3f6a-8efe-4612-a8a3-5ae8e4b3f938",
   "metadata": {},
   "source": [
    "- <u>**Name accelerometer X**</u>  \n",
    "    - String or <code>None</code>  \n",
    "    - No default value  \n",
    "\n",
    "The name of the column in your CSV files that represents the X-axis of the accelerometer. Use <code>None</code> if your sensor does not have one."
   ]
  },
  {
   "cell_type": "code",
   "execution_count": 10,
   "id": "c4ac062c-3af3-43f4-bf3b-d78540123d5a",
   "metadata": {},
   "outputs": [],
   "source": [
    "NAME_ACCELEROMETER_X = 'accelerometer_x'"
   ]
  },
  {
   "cell_type": "markdown",
   "id": "2b1ccffe-01e4-4e9e-8aac-70ec8d3bb272",
   "metadata": {},
   "source": [
    "- <u>**Name accelerometer Y**</u>  \n",
    "    - String or <code>None</code>  \n",
    "    - No default value  \n",
    "\n",
    "The name of the column in your CSV files that represents the Y-axis of the accelerometer. Use <code>None</code> if your sensor does not have one."
   ]
  },
  {
   "cell_type": "code",
   "execution_count": 11,
   "id": "92407083-5f29-4a9a-aade-17a03d53d35d",
   "metadata": {},
   "outputs": [],
   "source": [
    "NAME_ACCELEROMETER_Y = 'accelerometer_y'"
   ]
  },
  {
   "cell_type": "markdown",
   "id": "1a539ca9-7b95-4d53-984d-91f4ac0971f9",
   "metadata": {},
   "source": [
    "- <u>**Name accelerometer Z**</u>  \n",
    "    - String or <code>None</code>  \n",
    "    - No default value  \n",
    "\n",
    "The name of the column in your CSV files that represents the Z-axis of the accelerometer. Use <code>None</code> if your sensor does not have one."
   ]
  },
  {
   "cell_type": "code",
   "execution_count": 12,
   "id": "041f8c37-7f8a-4a2b-a2a7-170e03728a05",
   "metadata": {},
   "outputs": [],
   "source": [
    "NAME_ACCELEROMETER_Z = 'accelerometer_z'"
   ]
  },
  {
   "cell_type": "markdown",
   "id": "8ab2d612-6d94-400e-a5be-08f203ce6d48",
   "metadata": {},
   "source": [
    "- <u>**Name gyroscope X**</u>  \n",
    "    - String or <code>None</code>  \n",
    "    - No default value  \n",
    "\n",
    "The name of the column in your CSV files that represents the X-axis of the gyroscope. Use <code>None</code> if your sensor does not have one."
   ]
  },
  {
   "cell_type": "code",
   "execution_count": 13,
   "id": "bd1a3562-1f08-4dea-8142-79f3b6bd4548",
   "metadata": {},
   "outputs": [],
   "source": [
    "NAME_GYROSCOPE_X = 'gyroscope_x'"
   ]
  },
  {
   "cell_type": "markdown",
   "id": "ef556e00-11f0-4944-b430-9e81695973e8",
   "metadata": {},
   "source": [
    "- <u>**Name gyroscope Y**</u>  \n",
    "    - String or <code>None</code>  \n",
    "    - No default value  \n",
    "\n",
    "The name of the column in your CSV files that represents the Y-axis of the gyroscope. Use <code>None</code> if your sensor does not have one."
   ]
  },
  {
   "cell_type": "code",
   "execution_count": 14,
   "id": "8d2ce7a4-3678-4495-93d0-e8aadfdba60a",
   "metadata": {},
   "outputs": [],
   "source": [
    "NAME_GYROSCOPE_Y = 'gyroscope_y'"
   ]
  },
  {
   "cell_type": "markdown",
   "id": "26496474-a9a8-499d-9a85-138e8701588c",
   "metadata": {},
   "source": [
    "- <u>**Name gyroscope Z**</u>  \n",
    "    - String or <code>None</code>  \n",
    "    - No default value  \n",
    "\n",
    "The name of the column in your CSV files that represents the Z-axis of the gyroscope. Use <code>None</code> if your sensor does not have one."
   ]
  },
  {
   "cell_type": "code",
   "execution_count": 15,
   "id": "bc0f7457-8fb0-46b5-bf7e-32672cb5d85d",
   "metadata": {},
   "outputs": [],
   "source": [
    "NAME_GYROSCOPE_Z = 'gyroscope_z'"
   ]
  },
  {
   "cell_type": "markdown",
   "id": "08524417-822b-43b9-9dff-01322c549384",
   "metadata": {},
   "source": [
    "- <u>**Name magnetometer X**</u>  \n",
    "    - String or <code>None</code>  \n",
    "    - No default value  \n",
    "\n",
    "The name of the column in your CSV files that represents the X-axis of the magnetometer. Use <code>None</code> if your sensor does not have one."
   ]
  },
  {
   "cell_type": "code",
   "execution_count": 16,
   "id": "9ffe47d1-5a89-4045-9785-73ab17fae461",
   "metadata": {},
   "outputs": [],
   "source": [
    "NAME_MAGNETOMETER_X = 'magnetometer_x'"
   ]
  },
  {
   "cell_type": "markdown",
   "id": "5685e152-eb78-4ed8-afdc-6d8aab7b2080",
   "metadata": {},
   "source": [
    "- <u>**Name magnetometer Y**</u>  \n",
    "    - String or <code>None</code>  \n",
    "    - No default value  \n",
    "\n",
    "The name of the column in your CSV files that represents the Y-axis of the magnetometer. Use <code>None</code> if your sensor does not have one."
   ]
  },
  {
   "cell_type": "code",
   "execution_count": 17,
   "id": "197461f6-6fad-482c-a85d-6ae6ee649bc7",
   "metadata": {},
   "outputs": [],
   "source": [
    "NAME_MAGNETOMETER_Y = 'magnetometer_y'"
   ]
  },
  {
   "cell_type": "markdown",
   "id": "84a8bb04-75da-437d-87f0-c93ac381e300",
   "metadata": {},
   "source": [
    "- <u>**Name magnetometer Z**</u>  \n",
    "    - String or <code>None</code>  \n",
    "    - No default value  \n",
    "\n",
    "The name of the column in your CSV files that represents the Z-axis of the magnetometer. Use <code>None</code> if your sensor does not have one."
   ]
  },
  {
   "cell_type": "code",
   "execution_count": 18,
   "id": "edfbbc75-639c-49ea-b357-e6f51c8a39d8",
   "metadata": {},
   "outputs": [],
   "source": [
    "NAME_MAGNETOMETER_Z = 'magnetometer_z'"
   ]
  },
  {
   "cell_type": "markdown",
   "id": "7e2af327-e872-4b27-92a6-696ac5588446",
   "metadata": {},
   "source": [
    "- <u>**Name velocity GPS X**</u>  \n",
    "    - String or <code>None</code>  \n",
    "    - No default value  \n",
    "\n",
    "The name of the column in your CSV files that represents the X-axis of the velocity provided by the GPS. Use <code>None</code> if your sensor does not have one."
   ]
  },
  {
   "cell_type": "code",
   "execution_count": 19,
   "id": "0b6c24f6-a782-45ea-9c31-278b4fc98c6b",
   "metadata": {},
   "outputs": [],
   "source": [
    "NAME_VELOCITY_GPS_X = 'velocity_gps_x'"
   ]
  },
  {
   "cell_type": "markdown",
   "id": "8868ecd0-a3e6-4d22-8cae-7fa4a03ae33f",
   "metadata": {},
   "source": [
    "- <u>**Name velocity GPS Y**</u>  \n",
    "    - String or <code>None</code>  \n",
    "    - No default value  \n",
    "\n",
    "The name of the column in your CSV files that represents the Y-axis of the velocity provided by the GPS. Use <code>None</code> if your sensor does not have one."
   ]
  },
  {
   "cell_type": "code",
   "execution_count": 20,
   "id": "458bee84-3fef-4be2-abf0-274bed07a446",
   "metadata": {},
   "outputs": [],
   "source": [
    "NAME_VELOCITY_GPS_Y = 'velocity_gps_y'"
   ]
  },
  {
   "cell_type": "markdown",
   "id": "74db5494-c449-4e50-a526-575f7fd5d6e8",
   "metadata": {},
   "source": [
    "- <u>**Name velocity GPS Z**</u>  \n",
    "    - String or <code>None</code>  \n",
    "    - No default value  \n",
    "\n",
    "The name of the column in your CSV files that represents the Z-axis of the velocity provided by the GPS. Use <code>None</code> if your sensor does not have one."
   ]
  },
  {
   "cell_type": "code",
   "execution_count": 21,
   "id": "e641beec-c5a1-43b7-a38e-c97d0413fa1a",
   "metadata": {},
   "outputs": [],
   "source": [
    "NAME_VELOCITY_GPS_Z = 'velocity_gps_z'"
   ]
  },
  {
   "cell_type": "markdown",
   "id": "f1276d0f-4320-4141-beea-43cd1762feee",
   "metadata": {},
   "source": [
    "- <u>**Name position fusion X**</u>  \n",
    "    - String or <code>None</code>  \n",
    "    - No default value  \n",
    "\n",
    "The name of the column in your CSV files that represents the X-axis of the position provided by the fusion algorithm. Use <code>None</code> if your sensor does not have one."
   ]
  },
  {
   "cell_type": "code",
   "execution_count": 22,
   "id": "34670fa5-fa68-4a81-a1d8-262507d94e88",
   "metadata": {},
   "outputs": [],
   "source": [
    "NAME_POSITION_FUSION_X = 'position_fusion_x'"
   ]
  },
  {
   "cell_type": "markdown",
   "id": "b84285d3-5a75-437d-8093-211a236fe6fd",
   "metadata": {},
   "source": [
    "- <u>**Name position fusion Y**</u>  \n",
    "    - String or <code>None</code>  \n",
    "    - No default value  \n",
    "\n",
    "The name of the column in your CSV files that represents the Y-axis of the position provided by the fusion algorithm. Use <code>None</code> if your sensor does not have one."
   ]
  },
  {
   "cell_type": "code",
   "execution_count": 23,
   "id": "51829d1e-b3a4-4cd4-b50c-a927541c8fdd",
   "metadata": {},
   "outputs": [],
   "source": [
    "NAME_POSITION_FUSION_Y = 'position_fusion_y'"
   ]
  },
  {
   "cell_type": "markdown",
   "id": "d8b64c6c-ab63-424c-9095-59a7fc98a496",
   "metadata": {},
   "source": [
    "- <u>**Name position fusion Z**</u>  \n",
    "    - String or <code>None</code>  \n",
    "    - No default value  \n",
    "\n",
    "The name of the column in your CSV files that represents the Z-axis of the position provided by the fusion algorithm. Use <code>None</code> if your sensor does not have one."
   ]
  },
  {
   "cell_type": "code",
   "execution_count": 24,
   "id": "901dbb1a-833f-4aa3-b1af-0f168fc615cf",
   "metadata": {},
   "outputs": [],
   "source": [
    "NAME_POSITION_FUSION_Z = 'position_fusion_z'"
   ]
  },
  {
   "cell_type": "markdown",
   "id": "b4ec647e-1526-4a62-b2bb-1b990f2479b9",
   "metadata": {},
   "source": [
    "- <u>**Name velocity fusion X**</u>  \n",
    "    - String or <code>None</code>  \n",
    "    - No default value  \n",
    "\n",
    "The name of the column in your CSV files that represents the X-axis of the velocity provided by the fusion algorithm. Use <code>None</code> if your sensor does not have one."
   ]
  },
  {
   "cell_type": "code",
   "execution_count": 25,
   "id": "cebdb8b8-b3e7-45e7-af88-3eaf637ddc47",
   "metadata": {},
   "outputs": [],
   "source": [
    "NAME_VELOCITY_FUSION_X = 'velocity_fusion_x'"
   ]
  },
  {
   "cell_type": "markdown",
   "id": "6a6363e0-b42f-4bd2-9e5d-a88f16671eda",
   "metadata": {},
   "source": [
    "- <u>**Name velocity fusion Y**</u>  \n",
    "    - String or <code>None</code>  \n",
    "    - No default value  \n",
    "\n",
    "The name of the column in your CSV files that represents the Y-axis of the velocity provided by the fusion algorithm. Use <code>None</code> if your sensor does not have one."
   ]
  },
  {
   "cell_type": "code",
   "execution_count": 26,
   "id": "fa3054b1-3a7d-4f62-bb6e-f1d566a9425f",
   "metadata": {},
   "outputs": [],
   "source": [
    "NAME_VELOCITY_FUSION_Y = 'velocity_fusion_y'"
   ]
  },
  {
   "cell_type": "markdown",
   "id": "8ae506dd-e4da-436b-b600-aed6fb2b58e3",
   "metadata": {},
   "source": [
    "- <u>**Name velocity fusion Z**</u>  \n",
    "    - String or <code>None</code>  \n",
    "    - No default value  \n",
    "\n",
    "The name of the column in your CSV files that represents the Z-axis of the velocity provided by the fusion algorithm. Use <code>None</code> if your sensor does not have one."
   ]
  },
  {
   "cell_type": "code",
   "execution_count": 27,
   "id": "e01ef5ab-5c00-4f8d-a685-e890e1c1fa77",
   "metadata": {},
   "outputs": [],
   "source": [
    "NAME_VELOCITY_FUSION_Z = 'velocity_fusion_z'"
   ]
  },
  {
   "cell_type": "markdown",
   "id": "05ab934a-e08f-48e7-a082-45eab1afdd0d",
   "metadata": {},
   "source": [
    "- <u>**Name orientation fusion X**</u>  \n",
    "    - String or <code>None</code>  \n",
    "    - No default value  \n",
    "\n",
    "The name of the column in your CSV files that represents the X-axis of the orientation provided by the fusion algorithm. Use <code>None</code> if your sensor does not have one."
   ]
  },
  {
   "cell_type": "code",
   "execution_count": 28,
   "id": "2893bddc-3e1b-4e76-be0e-2b4521f851ed",
   "metadata": {},
   "outputs": [],
   "source": [
    "NAME_ORIENTATION_FUSION_X = 'orientation_fusion_x'"
   ]
  },
  {
   "cell_type": "markdown",
   "id": "7a5bfc8b-66c1-43d2-ac56-6ca824edf95f",
   "metadata": {},
   "source": [
    "- <u>**Name orientation fusion Y**</u>  \n",
    "    - String or <code>None</code>  \n",
    "    - No default value  \n",
    "\n",
    "The name of the column in your CSV files that represents the Y-axis of the orientation provided by the fusion algorithm. Use <code>None</code> if your sensor does not have one."
   ]
  },
  {
   "cell_type": "code",
   "execution_count": 29,
   "id": "9d174cfb-3ec2-492e-b874-e75c8ff3b21e",
   "metadata": {},
   "outputs": [],
   "source": [
    "NAME_ORIENTATION_FUSION_Y = 'orientation_fusion_y'"
   ]
  },
  {
   "cell_type": "markdown",
   "id": "2be3dc55-3345-4bd3-940a-7b6062cab184",
   "metadata": {},
   "source": [
    "- <u>**Name orientation fusion Z**</u>  \n",
    "    - String or <code>None</code>  \n",
    "    - No default value  \n",
    "\n",
    "The name of the column in your CSV files that represents the Z-axis of the orientation provided by the fusion algorithm. Use <code>None</code> if your sensor does not have one."
   ]
  },
  {
   "cell_type": "code",
   "execution_count": 30,
   "id": "2d564f76-af30-474e-9d20-63c087b54063",
   "metadata": {},
   "outputs": [],
   "source": [
    "NAME_ORIENTATION_FUSION_Z = 'orientation_fusion_z'"
   ]
  },
  {
   "cell_type": "markdown",
   "id": "60dd7ca8-f6a6-4600-a196-cee6aac69be8",
   "metadata": {
    "jp-MarkdownHeadingCollapsed": true
   },
   "source": [
    "#### 5.1.4. Dataset settings"
   ]
  },
  {
   "cell_type": "markdown",
   "id": "cf786366-df0f-4f8d-86f2-73d1191a8be0",
   "metadata": {},
   "source": [
    "- <u>**N duplications per evaluation session**</u>  \n",
    "    - Strictly positive integer, <code>'light'</code>, <code>'normal'</code>, or <code>'extensive'</code>  \n",
    "    - Default = <code>'normal'</code>  \n",
    "\n",
    "This setting defines the number of GPS outages that will be simulated in each evaluation session (used later to evaluate the trained neural networks). If you provide a strictly positive integer, that fixed number of GPS outages will be simulated per session. If you provide <code>'light'</code>, <code>'normal'</code>, or <code>'extensive'</code>, the framework will automatically determine the appropriate number of GPS outages to simulate based on the session length and the duration of the GPS outages:\n",
    "\n",
    "- <code>'light'</code>: Generates only a few GPS outages per evaluation session. Recommended if you've collected a very large dataset.  \n",
    "- <code>'normal'</code>: The default and recommended choice for most use cases.  \n",
    "- <code>'extensive'</code>: Use this mode if you’ve collected only a small dataset. It compensates for the lack of data by simulating a large number of GPS outages per evaluation session. However, be aware that the evaluations results may be less representative of the reality compared to those from a larger dataset with the <code>'normal'</code> mode. If you're considering this mode, it's better to first try collecting more data, if possible.\n"
   ]
  },
  {
   "cell_type": "code",
   "execution_count": 31,
   "id": "dad91ddf-1394-4c2c-81f6-95be8682dad3",
   "metadata": {},
   "outputs": [],
   "source": [
    "N_DUPLICATIONS_PER_EVAL_SESSION = 'normal'"
   ]
  },
  {
   "cell_type": "markdown",
   "id": "948829b2-5484-4eee-9812-0fe2c14fc156",
   "metadata": {},
   "source": [
    "- <u>**Sessions id training**</u>\n",
    "    - A list of strictly positive integer\n",
    "    - Default = <code>[]</code>\n",
    "\n",
    "The list of identifiers for the sessions you want to assign to the training dataset. It is recommended that the training dataset represents 60% to 70% of the total dataset (in duration, not in number of sessions). Make sure to include sessions from a variety of contexts. Your training dataset should be representative of the sensor’s real-world use cases."
   ]
  },
  {
   "cell_type": "code",
   "execution_count": 32,
   "id": "36a01980-fedb-47c3-a6b2-44d0dfb8dbcf",
   "metadata": {},
   "outputs": [],
   "source": [
    "SESSIONS_ID_TRAINING = [3, 5, 8, 9, 12, 14, 16, 25, 29, 34, 45, 74, 103]"
   ]
  },
  {
   "cell_type": "markdown",
   "id": "749ec071-a8ff-489a-bf17-bb1c73cb517b",
   "metadata": {},
   "source": [
    "- <u>**Sessions id validation**</u>\n",
    "    - A list of strictly positive integer\n",
    "    - Default = <code>[]</code>\n",
    "\n",
    "The list of identifiers for the sessions you want to assign to the validation dataset. It is recommended that the validation dataset represents 15% to 20% of the total dataset (in duration, not in number of sessions). Make sure to include sessions from a variety of contexts. Your validation dataset should be representative of the sensor’s real-world use cases."
   ]
  },
  {
   "cell_type": "code",
   "execution_count": 33,
   "id": "8e992f61-d3ce-4f72-9405-42ff046fa5ce",
   "metadata": {},
   "outputs": [],
   "source": [
    "SESSIONS_ID_VALIDATION = [4, 7, 44, 55]"
   ]
  },
  {
   "cell_type": "markdown",
   "id": "47ebded6-5002-485b-a0a0-f39c45245997",
   "metadata": {},
   "source": [
    "- <u>**Sessions id evaluation**</u>\n",
    "    - A list of strictly positive integer\n",
    "    - Default = <code>[]</code>\n",
    "\n",
    "The list of identifiers for the sessions you want to assign to the evaluation dataset. It is recommended that the evaluation dataset represents 15% to 20% of the total dataset (in duration, not in number of sessions). Make sure to include sessions from a variety of contexts. Your evaluation dataset should be representative of the sensor’s real-world use cases."
   ]
  },
  {
   "cell_type": "code",
   "execution_count": 34,
   "id": "562f3c91-c174-4a6c-8d36-d2e938e7f50d",
   "metadata": {},
   "outputs": [],
   "source": [
    "SESSIONS_ID_EVALUATION = [1, 13, 28, 65]"
   ]
  },
  {
   "cell_type": "markdown",
   "id": "1da92b72-b6cc-47c5-8d1d-31b6e29587e2",
   "metadata": {
    "jp-MarkdownHeadingCollapsed": true
   },
   "source": [
    "#### 5.1.5. Objective settings"
   ]
  },
  {
   "attachments": {
    "842e9729-6bd0-489c-abaf-069d845f4088.png": {
     "image/png": "[encoded data removed]"
    }
   },
   "cell_type": "markdown",
   "id": "7b4eb147-99bb-434d-afa5-93b36e46f968",
   "metadata": {},
   "source": [
    "- <u>**N minimum seconds operational GPS**</u>\n",
    "    - A strictly positive and even integer\n",
    "    - Default = <code>4</code>\n",
    "\n",
    "To reconstruct trajectories during periods of weak or missing GPS signal, the framework relies on data from before and/or after those periods—when the GPS signal is available. This parameter defines how many seconds of operational GPS data you can guarantee around each GPS outage.\n",
    "\n",
    "The value of this parameter depends on your use case, particularly on the characteristics of the GPS outages typically observed under normal usage of your sensor.\n",
    "\n",
    "Note:\n",
    "\n",
    "- During the training stage, the framework provides the neural networks with data windows that always include at least this amount of operational GPS data. Consequently, in production, the framework will be able to reconstruct the position and velocity across multiple successive GPS outages only if they are separated by at least this amount of operational GPS data. While the framework has mechanisms to handle exceptions, these cannot be relied upon consistently.\n",
    "\n",
    "- If you observe that in most GPS outages you can guarantee *a* seconds of operational GPS between outages, but in some rare cases only *b* seconds (with *b* < *a*), it is recommended to build your project using *a*. This allows the framework to accurately reconstruct the majority of cases. You may then consider creating a second project with value *b* to compare performance. If accuracy is significantly lower in that case (which is likely), you can either choose not to reconstruct those rare cases or use the second project as a fallback with reduced accuracy.\n",
    "\n",
    "- The framework requires a minimum amount of operational GPS signal around outage periods. However, adding too much does not significantly improve performance and will increase computational requirements. A good baseline is <code>4</code> seconds.\n",
    "\n",
    "![min_operational_gps.png](attachment:842e9729-6bd0-489c-abaf-069d845f4088.png)"
   ]
  },
  {
   "cell_type": "code",
   "execution_count": 35,
   "id": "dddcd2ff-6bea-4a9b-bf0f-2151699594cc",
   "metadata": {},
   "outputs": [],
   "source": [
    "N_MINIMUM_SECONDS_OPERATIONAL_GPS = 4"
   ]
  },
  {
   "cell_type": "markdown",
   "id": "c9e551d0-452e-418b-b551-6c1857c26e24",
   "metadata": {},
   "source": [
    "- <u>**GPS outage duration eval at beginning**</u>\n",
    "    - A list of tuple following the format (\"MM:SS\", \"MM:SS\")\n",
    "    - Default = <code>[]</code>\n",
    "\n",
    "After training the neural networks on your data, the framework will evaluate their accuracy using the evaluation dataset.\n",
    "\n",
    "This parameter controls the ranges of GPS outage durations for **beginning cases** (i.e., GPS outages that occur starting from the very first recorded sample) on which the networks will be evaluated. The format is a list of tuples: <code>(\"MM:SS\", \"MM:SS\")</code>, representing GPS outages lasting from MM minutes and SS seconds to MM minutes and SS seconds.\n",
    "\n",
    "These ranges should align with your specific needs, particularly the characteristics of GPS outages observed during normal sensor usage. It is recommended to segment the overall duration into multiple ranges to better understand the model's accuracy across different outage lengths."
   ]
  },
  {
   "cell_type": "code",
   "execution_count": 36,
   "id": "9dbb23fd-658b-480d-83cc-ea32cdd2b8c0",
   "metadata": {},
   "outputs": [],
   "source": [
    "GPS_OUTAGE_DURATIONS_EVAL_AT_BEGINNING = [(\"00:10\", \"00:30\"), (\"00:30\", \"01:00\"), (\"01:00\", \"02:00\"), (\"02:00\", \"04:00\")]"
   ]
  },
  {
   "cell_type": "markdown",
   "id": "f434d46d-a2a9-4373-89eb-ca2beed8e33a",
   "metadata": {},
   "source": [
    "- <u>**GPS outage duration eval within**</u>\n",
    "    - A list of tuple following the format (\"MM:SS\", \"MM:SS\")\n",
    "    - Default = <code>[]</code>\n",
    "\n",
    "After training the neural networks on your data, the framework will evaluate their accuracy using the evaluation dataset.\n",
    "\n",
    "This parameter controls the ranges of GPS outage durations for **within cases** (i.e., GPS outages that occur neither starting at the very first sample nor ending at the very last sample) on which the networks will be evaluated. The format is a list of tuples: <code>(\"MM:SS\", \"MM:SS\")</code>, representing GPS outages lasting from MM minutes and SS seconds to MM minutes and SS seconds.\n",
    "\n",
    "These ranges should align with your specific needs, particularly the characteristics of GPS outages observed during normal sensor usage. It is recommended to segment the overall duration into multiple ranges to better understand the model's accuracy across different outage lengths."
   ]
  },
  {
   "cell_type": "code",
   "execution_count": 37,
   "id": "15386c27-bb3b-4510-989f-bb25cacca0bc",
   "metadata": {},
   "outputs": [],
   "source": [
    "GPS_OUTAGE_DURATIONS_EVAL_WITHIN = [(\"00:30\", \"01:00\"), (\"01:00\", \"02:00\"), (\"02:00\", \"04:00\"), (\"04:00\", \"10:00\")]"
   ]
  },
  {
   "cell_type": "markdown",
   "id": "9197f1ca-088b-4da1-9748-9f7037877426",
   "metadata": {},
   "source": [
    "- <u>**GPS outage duration eval at end**</u>\n",
    "    - A list of tuple following the format (\"MM:SS\", \"MM:SS\")\n",
    "    - Default = <code>[]</code>\n",
    "\n",
    "After training the neural networks on your data, the framework will evaluate their accuracy using the evaluation dataset.\n",
    "\n",
    "This parameter controls the ranges of GPS outage durations for **end cases** (i.e., GPS outages that occur ending at the very last recorded sample) on which the networks will be evaluated. The format is a list of tuples: <code>(\"MM:SS\", \"MM:SS\")</code>, representing GPS outages lasting from MM minutes and SS seconds to MM minutes and SS seconds.\n",
    "\n",
    "These ranges should align with your specific needs, particularly the characteristics of GPS outages observed during normal sensor usage. It is recommended to segment the overall duration into multiple ranges to better understand the model's accuracy across different outage lengths."
   ]
  },
  {
   "cell_type": "code",
   "execution_count": 38,
   "id": "63a85d6f-db8e-4124-9596-da697d5594ac",
   "metadata": {},
   "outputs": [],
   "source": [
    "GPS_OUTAGE_DURATIONS_EVAL_AT_END = [(\"00:10\", \"00:25\"), (\"00:30\", \"01:00\")]"
   ]
  },
  {
   "cell_type": "markdown",
   "id": "a7a04472-9a8d-4e98-a028-9fb3dd39f9d0",
   "metadata": {
    "jp-MarkdownHeadingCollapsed": true
   },
   "source": [
    "#### 5.1.6. Training settings"
   ]
  },
  {
   "attachments": {
    "343675be-557a-4adc-ba6a-3025cb7c25aa.png": {
     "image/png": "[encoded data removed]"
    }
   },
   "cell_type": "markdown",
   "id": "f999eb45-8125-4130-89b1-bbb6751d1366",
   "metadata": {},
   "source": [
    "- <u>**Coeff sampling training**</u>\n",
    "    - Strictly positive integer\n",
    "    - Default = <code>10000</code>\n",
    "\n",
    "When neural networks are trained, they sequentially receive windows of data containing simulated GPS outages. Not every sample in each session is considered as a starting point for a window. Using every sample would generate nearly identical windows, which would provide minimal additional information to the neural networks while significantly increasing training time.\n",
    "\n",
    "The sampling coefficient for training controls the number of samples between the starting points of two consecutive windows.\n",
    "\n",
    "![Coefficient sampling illustration](attachment:343675be-557a-4adc-ba6a-3025cb7c25aa.png)\n",
    "\n",
    "Setting this value too high can lead to poor performance, while setting it too low can result in slow training and, if excessively low, potentially suboptimal results. The appropriate value depends on your dataset size, sensor frequency, and the duration of GPS outages you're targeting. You must define a value that is suitable for your specific configuration. Here’s how each parameter influences the choice of the sampling coefficient:\n",
    "\n",
    "- Dataset size: The smaller your dataset, the lower the coefficient should be. A small coefficient allows for denser window sampling, helping compensate for limited data. If your dataset is large enough, you can increase the coefficient to avoid spending time training on nearly identical windows.\n",
    "\n",
    "- Sensor frequency: This affects the coefficient because the number of samples defines a duration. The time between two windows is equal to the coefficient divided by the frequency.\n",
    "\n",
    "- Target GPS outage durations: These also play a key role, especially the maximum duration. If you're focusing on short outages, the input windows will be small, allowing you to use a smaller coefficient while still maintaining varied windows. For longer outages, the windows are larger, and you must increase the coefficient to prevent excessive overlap and redundancy.\n",
    "\n",
    "Baseline example: The POSNNET framework was developed using a dataset of 76 hours, targeting GPS outages ranging from 10 seconds to 5 minutes, with a sensor frequency of 100 Hz. A coefficient value of 10,000 was used and produced good results. In other words, 5-minute windows were extracted every 100 seconds for each session."
   ]
  },
  {
   "cell_type": "code",
   "execution_count": 39,
   "id": "f051e93e-3d57-4721-abc1-e60c55a27e71",
   "metadata": {},
   "outputs": [],
   "source": [
    "COEFF_SAMPLING_TRAINING = 10000"
   ]
  },
  {
   "cell_type": "markdown",
   "id": "38fc96ba-bbf3-4760-abc0-283ffe144294",
   "metadata": {},
   "source": [
    "- <u>**Coeff sampling validation**</u>\n",
    "    - Strictly positive integer\n",
    "    - Default = <code>2000</code>\n",
    "\n",
    "The sampling coefficient for validation follows the same principle as the one used for training. While a coefficient that is too high can lead to poorly representative tuning results, a coefficient that is too low will only slow down the validation process—there is no risk of suboptimal results due to excessive redundancy during validation.\n",
    "\n",
    "It is recommended to use one-fifth of the sampling coefficient used for training."
   ]
  },
  {
   "cell_type": "code",
   "execution_count": 40,
   "id": "b0a5de78-ec5b-4287-86cd-f4821efd0347",
   "metadata": {},
   "outputs": [],
   "source": [
    "COEFF_SAMPLING_VALIDATION = 2000"
   ]
  },
  {
   "cell_type": "markdown",
   "id": "7c763a5f-a5bd-4cc8-b2c3-787f15b91edc",
   "metadata": {},
   "source": [
    "- <u>**N epochs**</u>\n",
    "    - Striclty positive integer\n",
    "    - Default = <code>100</code>\n",
    "\n",
    "This parameter controls the maximum number of epochs for which the neural networks will be trained. Note that the framework includes an early stopping mechanism (see *patience* setting), so training may stop before reaching this number if no improvement is detected. The higher this value, the longer the training time—assuming improvements are still being made. Setting this value too high can lead to unnecessarily long training, while setting it too low may cause training to stop prematurely, potentially missing better configurations.\n",
    "\n",
    "Some recommendations:\n",
    "\n",
    "- In general, it is recommended to use <code>100</code> epochs.  \n",
    "- If you want to save some time, you can use <code>50</code> epochs, though this may result in slightly suboptimal outcomes.  \n",
    "- To save even more time, you can use between <code>20</code> and <code>30</code> epochs, but this carries a higher risk of poor results.  \n",
    "- If you have ample time and want to maximize accuracy, you can use <code>200</code> epochs."
   ]
  },
  {
   "cell_type": "code",
   "execution_count": 41,
   "id": "98b8e3b4-6b24-493d-a3ae-b1b497a4a595",
   "metadata": {},
   "outputs": [],
   "source": [
    "N_EPOCHS = 100"
   ]
  },
  {
   "cell_type": "markdown",
   "id": "a35a5ef5-441a-4ce9-b61a-4c82d1af410b",
   "metadata": {},
   "source": [
    "- <u>**Patience**</u>\n",
    "    - Strictly positive integer or <code>None</code>\n",
    "    - Default = <code>10</code>\n",
    "\n",
    "At the end of every training epoch, the neural networks are evaluated on the validation dataset. The *patience* parameter controls the number of consecutive epochs without improvement before stopping the training early (early stopping). This mechanism helps prevent spending unnecessary time when the models have already reached their optimal performance.\n",
    "\n",
    "If you set <code>None</code>, early stopping is disabled, and each neural network will be trained for the full number of epochs specified by the *N epochs* parameter. The higher the patience value, the longer the framework will continue training despite no improvement.\n",
    "\n",
    "Setting the value too high may result in wasted time training models that have already achieved their best results, while setting it too low may prematurely stop training on configurations that could improve with more epochs.\n",
    "\n",
    "Some recommendations:\n",
    "\n",
    "- Generally, a patience value of <code>10</code> epochs is recommended.  \n",
    "- To save time, you can use <code>8</code> epochs, with a slight risk of suboptimal results.  \n",
    "- For even faster training, you can reduce it to <code>5</code> epochs, though this increases the risk of poor performance.  \n",
    "- If you have plenty of time and want to maximize accuracy, you can use <code>20</code> epochs."
   ]
  },
  {
   "cell_type": "code",
   "execution_count": 42,
   "id": "861fde0e-6389-4a0c-824f-e2a4106bcfea",
   "metadata": {},
   "outputs": [],
   "source": [
    "PATIENCE = 10"
   ]
  },
  {
   "attachments": {
    "4e28167a-4ab5-40da-8333-1bec219caeed.png": {
     "image/png": "[encoded data removed]"
    }
   },
   "cell_type": "markdown",
   "id": "31e553f4-9d71-4109-b77c-8006f6b96201",
   "metadata": {},
   "source": [
    "- <u>**N epochs sampling**</u>\n",
    "    - Strictly positive integer\n",
    "    - Default = <code>20</code>\n",
    "\n",
    "During training and validation, not every sample in each session is used as a starting point for a window. This behavior is controlled by the *sampling coefficient for training* and the *sampling coefficient for validation*. \n",
    "\n",
    "For validation, the same samples are used at each epoch to ensure consistent validation results. In contrast, for training, the set of samples changes with each epoch to improve data diversity.\n",
    "\n",
    "The *number of epochs for sampling* controls how often the sampling cycle resets. It defines how many epochs occur before restarting the sampling pattern from the beginning. The higher the number of epochs, the smaller the offset added at each epoch. \n",
    "\n",
    "![N epochs sampling illustration](attachment:4e28167a-4ab5-40da-8333-1bec219caeed.png)\n",
    "\n",
    "General guidelines:\n",
    "\n",
    "- Aim for a number of epochs for sampling around to one-fifth of the maximum number of epochs.  \n",
    "- It is recommended to use at least <code>10</code> epochs for sampling."
   ]
  },
  {
   "cell_type": "code",
   "execution_count": 43,
   "id": "2b783771-cab5-4f6a-90f5-04a56c86a4fc",
   "metadata": {},
   "outputs": [],
   "source": [
    "N_EPOCHS_SAMPLING = 20"
   ]
  },
  {
   "cell_type": "markdown",
   "id": "40c9ecca-6849-403f-9e64-7fb3dd021a30",
   "metadata": {},
   "source": [
    "- <u>**Velocity loss**</u>\n",
    "    - Either <code>'mae'</code> or <code>'mse'</code>\n",
    "    - Default = <code>'mse'</code>\n",
    "\n",
    "The velocity loss function is used to optimize the neural networks:\n",
    "\n",
    "- <code>'mae'</code> for Mean Absolute Error (MAE): MAE penalizes errors linearly. An error of value *a × e* will be penalized *a* times more than an error of value *e*. In other words, the model will aim to reduce all errors equally.\n",
    "\n",
    "- <code>'mse'</code> for Mean Squared Error (MSE): MSE penalizes errors quadratically. An error of value *a × e* will be penalized *a²* times more than an error of value *e*. In other words, the model will focus more on reducing large errors.\n",
    "\n",
    "Your choice affects the neural networks' training objective and should align with your goals:\n",
    "\n",
    "- If you don't mind occasional large errors and want all errors to be treated equally, use <code>'mae'</code>.\n",
    "- If you want to avoid large errors, even if it means slightly higher average errors, consider <code>'mse'</code>.\n",
    "\n",
    "To help you decide, consider the example you prefer:\n",
    "\n",
    "- “My system can reconstruct the trajectory with an average error of 2 meters, with occasional errors of up to 10 meters.” → Choose <code>'mae'</code>\n",
    "- “My system can reconstruct the trajectory with an average error of 3 meters, with occasional errors of up to 5 meters.” → Choose <code>'mse'</code>\n",
    "\n",
    "\n",
    "If you're unsure, it is recommended to use <code>'mse'</code>. In most business applications, it's preferable to minimize extreme errors, even if it comes at the cost of slightly higher average errors. It's usually better to be consistently accurate than to perform well 99% of the time but produce significant errors 1% of the time.\n"
   ]
  },
  {
   "cell_type": "code",
   "execution_count": 44,
   "id": "737fa512-052d-4bb4-9149-57893fb0e69e",
   "metadata": {},
   "outputs": [],
   "source": [
    "VELOCITY_LOSS = 'mse'"
   ]
  },
  {
   "cell_type": "markdown",
   "id": "d43b30a6-7ab5-4095-b7dd-d0834ad9ea1f",
   "metadata": {},
   "source": [
    "- <u>**Use mixed precision**</u>\n",
    "    - Boolean\n",
    "    - Default = <code>True</code>\n",
    "\n",
    "Defines whether mixed precision training is activated or not. Mixed precision training automatically determines the lowest variable precision suitable for operations, typically resulting in faster training and reduced memory consumption. While it may slightly reduce final accuracy, the difference is usually negligible.\n",
    "\n",
    "It is recommended to set this to <code>True</code> unless you have a specific reason to disable mixed precision training."
   ]
  },
  {
   "cell_type": "code",
   "execution_count": 45,
   "id": "d9282bcf-51f4-4972-919b-763a61bd4fd0",
   "metadata": {},
   "outputs": [],
   "source": [
    "USE_MIXED_PRECISION = True"
   ]
  },
  {
   "cell_type": "markdown",
   "id": "077c1613-a03d-4c27-a324-c407b353d513",
   "metadata": {},
   "source": [
    "- <u>**Num workers**</u>\n",
    "    - Positive integer\n",
    "    - Default = <code>0</c\n",
    "\n",
    "The number of processes used to load data during training and inference. If set to <code>0</code>, the data will be loaded by the main process. \n",
    "\n",
    "A common rule of thumb is to set the number of workers to 4 times the number of GPUs used. If you're not familiar with software engineering, it's recommended to stick with <code>0</code>."
   ]
  },
  {
   "cell_type": "code",
   "execution_count": 46,
   "id": "f2338258-ec6c-40f9-8d21-2db4f9a1a65b",
   "metadata": {},
   "outputs": [],
   "source": [
    "NUM_WORKERS = 0"
   ]
  },
  {
   "cell_type": "markdown",
   "id": "11b3d036-d2e3-4735-b675-b2960f01db64",
   "metadata": {},
   "source": [
    "- <u>**N epochs training checkpoint**</u>\n",
    "    - Strictly positive integer\n",
    "    - Default = <code>10</code>\n",
    "\n",
    "Training neural networks can be time-consuming, depending on your computing system, the amount of data, and the GPS outage durations you're targeting. During training, checkpoints are saved periodically so that training can be resumed from the last checkpoint if it is interrupted.\n",
    "\n",
    "While saving checkpoints is useful, doing so too frequently can slow down the training process, so there’s a trade-off:\n",
    "\n",
    "- If you're confident that training will never (or only rarely) be interrupted, set the number of checkpoints equal to the total number of epochs (effectively disabling checkpointing).\n",
    "\n",
    "- If training may be occasionally interrupted, choose a value between <code>10</code> and <code>20</code>.\n",
    "\n",
    "- If interruptions are likely to occur more frequently, choose a value between <code>3</code> and <code>10</code>.\n",
    "\n",
    "This helps balance reliability with training efficiency."
   ]
  },
  {
   "cell_type": "code",
   "execution_count": 47,
   "id": "8c3e6e91-058f-46f2-8daf-de04ba604d1d",
   "metadata": {},
   "outputs": [],
   "source": [
    "N_EPOCHS_TRAINING_CHECKPOINT = 10"
   ]
  },
  {
   "cell_type": "markdown",
   "id": "41830dfc-c48f-4d18-b70d-c9573a8e2efd",
   "metadata": {
    "jp-MarkdownHeadingCollapsed": true
   },
   "source": [
    "#### 5.1.7. Tuning settings"
   ]
  },
  {
   "cell_type": "markdown",
   "id": "b74f9ff8-cae5-457d-8faf-dba13c1f05d1",
   "metadata": {},
   "source": [
    "- <u>**N startup trials**</u>\n",
    "    - Strictly positive integer\n",
    "    - Default = <code>10</code>\n",
    "\n",
    "For every model architecture, several combinations of hyperparameters will be tested in a stage called tuning. To perform this, the POSNNET framework uses Bayesian optimization to select which combinations to try. Before the Bayesian optimization begins, some combinations are selected at random. The *number of startup trials* parameter controls how many combinations are randomly sampled before Bayesian optimization starts.\n",
    "\n",
    "As a rule of thumb, you can set this parameter to 1/10 to 1/5 of the total number of trials you plan to run for each model architecture. If you're unsure, it is recommended to set this parameter to <code>10</code>. It is also recommended not to decrease it below <code>8</code>."
   ]
  },
  {
   "cell_type": "code",
   "execution_count": 48,
   "id": "5c7eeffe-2f3a-4af4-bd67-ebb4f28aded0",
   "metadata": {},
   "outputs": [],
   "source": [
    "N_STARTUP_TRIALS = 10"
   ]
  },
  {
   "cell_type": "markdown",
   "id": "1039ee8d-f421-4eeb-b1f8-995fd237ecf5",
   "metadata": {},
   "source": [
    "- <u>**Save every state dicts**</u>\n",
    "    - Boolean\n",
    "    - Default = <code>False</code>\n",
    "\n",
    "Defines whether the state dictionaries of all models tested during the tuning stage are saved (<code>True</code>) or only the best one (<code>False</code>). Saving all state dictionaries can be useful for debugging or for developers with specific needs, but in most cases, it is unnecessary. It is recommended to set this parameter to <code>False</code>.\n",
    "\n",
    "Note: Saving every state dictionary can consume a significant amount of disk space (up to hundreds of GB)."
   ]
  },
  {
   "cell_type": "code",
   "execution_count": 49,
   "id": "f873d4f4-d07e-403a-95f3-ee8f6e0c2438",
   "metadata": {},
   "outputs": [],
   "source": [
    "SAVE_EVERY_STATE_DICTS = False"
   ]
  },
  {
   "cell_type": "markdown",
   "id": "d0650a1d-130b-4874-a3c4-8bc2540029a3",
   "metadata": {
    "jp-MarkdownHeadingCollapsed": true
   },
   "source": [
    "### 5.2. Modify the settings"
   ]
  },
  {
   "cell_type": "markdown",
   "id": "ae7dee3f-79cc-4aa6-9512-ccb81a5f24dd",
   "metadata": {},
   "source": [
    "This section presents how to modify the settings of a POSNNET project:\n",
    "\n",
    "[5.2.1. Project methods](#5.2.1.-Project-methods)  \n",
    "[5.2.2. Partial modification](#5.2.2.-Partial-modification)  \n",
    "[5.2.3. Incorrect values](#5.2.3.-Incorrect-values)"
   ]
  },
  {
   "cell_type": "markdown",
   "id": "f26102e0-2da6-4933-9fac-7452a7d7afb8",
   "metadata": {
    "jp-MarkdownHeadingCollapsed": true
   },
   "source": [
    "#### 5.2.1. Project methods"
   ]
  },
  {
   "cell_type": "markdown",
   "id": "81d77ce8-757c-48a2-af71-c5628d307bcf",
   "metadata": {},
   "source": [
    "To modify the settings of your POSNNET project, you have access to seven different methods, one for each category of settings."
   ]
  },
  {
   "cell_type": "markdown",
   "id": "9c468a60-ea73-4b83-8f31-c52c771aeb2d",
   "metadata": {},
   "source": [
    "**General settings**"
   ]
  },
  {
   "cell_type": "code",
   "execution_count": 50,
   "id": "9c3fb663-72ef-451c-9b93-fc3aa99f9289",
   "metadata": {},
   "outputs": [],
   "source": [
    "project.set_general_settings(\n",
    "    random_seed=RANDOM_SEED,\n",
    "    dtype=DTYPE,\n",
    "    device=DEVICE\n",
    ")"
   ]
  },
  {
   "cell_type": "markdown",
   "id": "3d7c39c7-47fc-4c27-aeb9-d440a4a4f620",
   "metadata": {},
   "source": [
    "**CSV files settings**"
   ]
  },
  {
   "cell_type": "code",
   "execution_count": 51,
   "id": "d2d14451-b6cd-4f9a-8a59-359b6a8cb1b1",
   "metadata": {},
   "outputs": [],
   "source": [
    "project.set_csv_files_settings(\n",
    "    csv_sep=CSV_SEP,\n",
    "    csv_encoding=CSV_ENCODING\n",
    ")"
   ]
  },
  {
   "cell_type": "markdown",
   "id": "7be468d3-d5e0-4bd3-ac95-3da1421f2983",
   "metadata": {},
   "source": [
    "**Sensor settings**"
   ]
  },
  {
   "cell_type": "code",
   "execution_count": 52,
   "id": "31cbf514-79bd-4af6-bb3a-3575154ca530",
   "metadata": {},
   "outputs": [],
   "source": [
    "project.set_sensor_settings(\n",
    "    frequency=FREQUENCY,\n",
    "    name_accelerometer_x=NAME_ACCELEROMETER_X,\n",
    "    name_accelerometer_y=NAME_ACCELEROMETER_Y,\n",
    "    name_accelerometer_z=NAME_ACCELEROMETER_Z,\n",
    "    name_gyroscope_x=NAME_GYROSCOPE_X,\n",
    "    name_gyroscope_y=NAME_GYROSCOPE_Y,\n",
    "    name_gyroscope_z=NAME_GYROSCOPE_Z,\n",
    "    name_magnetometer_x=NAME_MAGNETOMETER_X,\n",
    "    name_magnetometer_y=NAME_MAGNETOMETER_Y,\n",
    "    name_magnetometer_z=NAME_MAGNETOMETER_Z,\n",
    "    name_velocity_gps_x=NAME_VELOCITY_GPS_X,\n",
    "    name_velocity_gps_y=NAME_VELOCITY_GPS_Y,\n",
    "    name_velocity_gps_z=NAME_VELOCITY_GPS_Z,\n",
    "    name_position_fusion_x=NAME_POSITION_FUSION_X,\n",
    "    name_position_fusion_y=NAME_POSITION_FUSION_Y,\n",
    "    name_position_fusion_z=NAME_POSITION_FUSION_Z,\n",
    "    name_velocity_fusion_x=NAME_VELOCITY_FUSION_X,\n",
    "    name_velocity_fusion_y=NAME_VELOCITY_FUSION_Y,\n",
    "    name_velocity_fusion_z=NAME_VELOCITY_FUSION_Z,\n",
    "    name_orientation_fusion_x=NAME_ORIENTATION_FUSION_X,\n",
    "    name_orientation_fusion_y=NAME_ORIENTATION_FUSION_Y,\n",
    "    name_orientation_fusion_z=NAME_ORIENTATION_FUSION_Z\n",
    ")"
   ]
  },
  {
   "cell_type": "markdown",
   "id": "7ac18edc-238d-440e-ba50-498b3e077e22",
   "metadata": {},
   "source": [
    "**Dataset settings**"
   ]
  },
  {
   "cell_type": "code",
   "execution_count": 53,
   "id": "a4823a3a-60c0-4cfb-8a02-5b34645178e5",
   "metadata": {},
   "outputs": [],
   "source": [
    "project.set_dataset_settings(\n",
    "    n_duplications_per_eval_session=N_DUPLICATIONS_PER_EVAL_SESSION,\n",
    "    sessions_id_training=SESSIONS_ID_TRAINING,\n",
    "    sessions_id_validation=SESSIONS_ID_VALIDATION,\n",
    "    sessions_id_evaluation=SESSIONS_ID_EVALUATION\n",
    ")"
   ]
  },
  {
   "cell_type": "markdown",
   "id": "a00196c3-59c7-4bb0-9504-915ecf1129b8",
   "metadata": {},
   "source": [
    "**Objective settings**"
   ]
  },
  {
   "cell_type": "code",
   "execution_count": 54,
   "id": "a7c0afaa-9810-406b-8d17-424cecdc8427",
   "metadata": {},
   "outputs": [],
   "source": [
    "project.set_objective_settings(\n",
    "    n_minimum_seconds_operational_gps=N_MINIMUM_SECONDS_OPERATIONAL_GPS,\n",
    "    gps_outage_durations_eval_at_beginning=GPS_OUTAGE_DURATIONS_EVAL_AT_BEGINNING,\n",
    "    gps_outage_durations_eval_within=GPS_OUTAGE_DURATIONS_EVAL_WITHIN,\n",
    "    gps_outage_durations_eval_at_end=GPS_OUTAGE_DURATIONS_EVAL_AT_END\n",
    ")"
   ]
  },
  {
   "cell_type": "markdown",
   "id": "2f4b895d-c7a9-45dc-8078-8625fbcfd32c",
   "metadata": {},
   "source": [
    "**Training settings**"
   ]
  },
  {
   "cell_type": "code",
   "execution_count": 55,
   "id": "502b603b-a2a7-44f4-8b88-a6eb5ba6698c",
   "metadata": {},
   "outputs": [],
   "source": [
    "project.set_training_settings(\n",
    "    coeff_sampling_training=COEFF_SAMPLING_TRAINING,\n",
    "    coeff_sampling_validation=COEFF_SAMPLING_VALIDATION,\n",
    "    n_epochs_sampling=N_EPOCHS_SAMPLING,\n",
    "    n_epochs=N_EPOCHS,\n",
    "    patience=PATIENCE,\n",
    "    num_workers=NUM_WORKERS,\n",
    "    use_mixed_precision=USE_MIXED_PRECISION,\n",
    "    n_epochs_training_checkpoint=N_EPOCHS_TRAINING_CHECKPOINT\n",
    ")"
   ]
  },
  {
   "cell_type": "markdown",
   "id": "4706310e-3917-4c2a-87a7-b103737b7244",
   "metadata": {},
   "source": [
    "**Tuning settings**"
   ]
  },
  {
   "cell_type": "code",
   "execution_count": 56,
   "id": "df364adf-a804-43e5-92b4-810302b6d80b",
   "metadata": {},
   "outputs": [],
   "source": [
    "project.set_tuning_settings(\n",
    "    n_startup_trials=N_STARTUP_TRIALS,\n",
    "    save_every_state_dicts=SAVE_EVERY_STATE_DICTS\n",
    ")"
   ]
  },
  {
   "cell_type": "markdown",
   "id": "a31e3d64-4aaa-4946-994d-2aa0ca213668",
   "metadata": {
    "jp-MarkdownHeadingCollapsed": true
   },
   "source": [
    "#### 5.2.2. Partial modification"
   ]
  },
  {
   "cell_type": "markdown",
   "id": "332f4fa3-f715-46e4-8a9d-a2ba6137de6e",
   "metadata": {},
   "source": [
    "When modifying a category of settings, you do not need to provide all the settings—only the ones you want to change. Any settings you do not provide will remain unchanged."
   ]
  },
  {
   "cell_type": "code",
   "execution_count": 57,
   "id": "2288685a-2d41-4298-a707-9499ad7c8634",
   "metadata": {},
   "outputs": [],
   "source": [
    "# Full call, modify every general setting.\n",
    "project.set_general_settings(\n",
    "    random_seed=RANDOM_SEED,\n",
    "    dtype=DTYPE,\n",
    "    device=DEVICE\n",
    ")\n",
    "\n",
    "# Modify only dtype setting.\n",
    "project.set_general_settings(\n",
    "    dtype=DTYPE\n",
    ")"
   ]
  },
  {
   "cell_type": "markdown",
   "id": "9a8a19ad-434c-4680-9306-134946ac3ac1",
   "metadata": {
    "jp-MarkdownHeadingCollapsed": true
   },
   "source": [
    "#### 5.2.3. Incorrect values"
   ]
  },
  {
   "cell_type": "markdown",
   "id": "3cf447e2-03de-4a32-9c6b-2c52b3e6357d",
   "metadata": {},
   "source": [
    "If you provide a value that is not accepted for a setting, you will receive a notification and that specific setting will not be modified. However, if you provide multiple settings and some of them are valid, only the valid ones will be updated."
   ]
  },
  {
   "cell_type": "code",
   "execution_count": 58,
   "id": "c6200188-7357-4109-9f18-4b82f8513f80",
   "metadata": {},
   "outputs": [
    {
     "name": "stdout",
     "output_type": "stream",
     "text": [
      " - The parameter 'random_seed' should be a positive integer (0 included) but you provided the value -1. The value of the parameter has been ignored. The actual value is 42.\n",
      "\n"
     ]
    }
   ],
   "source": [
    "# Random seed is not updated.\n",
    "project.set_general_settings(\n",
    "    random_seed=-1\n",
    ")"
   ]
  },
  {
   "cell_type": "code",
   "execution_count": 59,
   "id": "6b12ec00-cf72-46da-96c9-792b756abcae",
   "metadata": {},
   "outputs": [
    {
     "name": "stdout",
     "output_type": "stream",
     "text": [
      " - The parameter 'random_seed' should be a positive integer (0 included) but you provided the value -1. The value of the parameter has been ignored. The actual value is 42.\n",
      "\n",
      " - The parameter 'dtype' has to be one of the available choices (['float16', 'float32', 'float64']) but you provided the value my_dtype. The value of the parameter has been ignored. The actual value is float32.\n",
      "\n"
     ]
    }
   ],
   "source": [
    "# Random seed and dtype are not updated but device is updated.\n",
    "project.set_general_settings(\n",
    "    random_seed=-1,\n",
    "    dtype='my_dtype',\n",
    "    device='auto'\n",
    ")"
   ]
  },
  {
   "cell_type": "markdown",
   "id": "5ee831ac-212f-4377-8bc9-69294062b7a2",
   "metadata": {
    "jp-MarkdownHeadingCollapsed": true
   },
   "source": [
    "### 5.3. Display the settings"
   ]
  },
  {
   "cell_type": "markdown",
   "id": "e53f0a42-e88c-4f5f-915d-a9fee6a808b4",
   "metadata": {},
   "source": [
    "To display the settings of your POSNNET project, you have access to seven different methods, one for each category of settings."
   ]
  },
  {
   "cell_type": "markdown",
   "id": "edcd8ba7-eade-4b66-be6d-7694fbb9253c",
   "metadata": {},
   "source": [
    "**General settings**"
   ]
  },
  {
   "cell_type": "code",
   "execution_count": 60,
   "id": "310b1032-1423-48f5-bf02-3e505ed9d934",
   "metadata": {},
   "outputs": [
    {
     "name": "stdout",
     "output_type": "stream",
     "text": [
      "The parameter 'random_seed' is set to 42\n",
      "The parameter 'dtype' is set to float32\n",
      "The parameter 'device' is set to cuda\n"
     ]
    }
   ],
   "source": [
    "project.print_general_settings()"
   ]
  },
  {
   "cell_type": "markdown",
   "id": "bfbef229-0c12-46fe-8907-574cc802a2e3",
   "metadata": {},
   "source": [
    "**CSV files settings**"
   ]
  },
  {
   "cell_type": "code",
   "execution_count": 61,
   "id": "8e320266-bc9a-404b-88cb-026d4712e0b1",
   "metadata": {},
   "outputs": [
    {
     "name": "stdout",
     "output_type": "stream",
     "text": [
      "The parameter 'csv_sep' is set to ,\n",
      "The parameter 'csv_encoding' is set to utf-8\n"
     ]
    }
   ],
   "source": [
    "project.print_csv_files_settings()"
   ]
  },
  {
   "cell_type": "markdown",
   "id": "70690b5d-4bad-4931-ae3f-36dac777b2f5",
   "metadata": {},
   "source": [
    "**Sensor settings**"
   ]
  },
  {
   "cell_type": "code",
   "execution_count": 62,
   "id": "0a0b975a-4d48-4ca8-8fb1-b745b8efbf97",
   "metadata": {},
   "outputs": [
    {
     "name": "stdout",
     "output_type": "stream",
     "text": [
      "The parameter 'frequency' is set to 100\n",
      "The parameter 'name_accelerometer_x' is set to accelerometer_x\n",
      "The parameter 'name_accelerometer_y' is set to accelerometer_y\n",
      "The parameter 'name_accelerometer_z' is set to accelerometer_z\n",
      "The parameter 'name_gyroscope_x' is set to gyroscope_x\n",
      "The parameter 'name_gyroscope_y' is set to gyroscope_y\n",
      "The parameter 'name_gyroscope_z' is set to gyroscope_z\n",
      "The parameter 'name_magnetometer_x' is set to magnetometer_x\n",
      "The parameter 'name_magnetometer_y' is set to magnetometer_y\n",
      "The parameter 'name_magnetometer_z' is set to magnetometer_z\n",
      "The parameter 'name_velocity_gps_x' is set to velocity_gps_x\n",
      "The parameter 'name_velocity_gps_y' is set to velocity_gps_y\n",
      "The parameter 'name_velocity_gps_z' is set to velocity_gps_z\n",
      "The parameter 'name_position_fusion_x' is set to position_fusion_x\n",
      "The parameter 'name_position_fusion_y' is set to position_fusion_y\n",
      "The parameter 'name_position_fusion_z' is set to position_fusion_z\n",
      "The parameter 'name_velocity_fusion_x' is set to velocity_fusion_x\n",
      "The parameter 'name_velocity_fusion_y' is set to velocity_fusion_y\n",
      "The parameter 'name_velocity_fusion_z' is set to velocity_fusion_z\n",
      "The parameter 'name_orientation_fusion_x' is set to orientation_fusion_x\n",
      "The parameter 'name_orientation_fusion_y' is set to orientation_fusion_y\n",
      "The parameter 'name_orientation_fusion_z' is set to orientation_fusion_z\n"
     ]
    }
   ],
   "source": [
    "project.print_sensor_settings()"
   ]
  },
  {
   "cell_type": "markdown",
   "id": "ceeff4f6-b2df-4f92-b650-c57ddb7e1568",
   "metadata": {},
   "source": [
    "**Dataset settings**"
   ]
  },
  {
   "cell_type": "code",
   "execution_count": 63,
   "id": "cf0ff967-edd6-4a98-b72d-9426a758c631",
   "metadata": {},
   "outputs": [
    {
     "name": "stdout",
     "output_type": "stream",
     "text": [
      "The parameter 'n_duplications_per_eval_session' is set to normal\n",
      "The parameter 'sessions_id_training' is set to [3, 5, 8, 9, 12, 14, 16, 25, 29, 34, 45, 74, 103]\n",
      "The parameter 'sessions_id_validation' is set to [4, 7, 44, 55]\n",
      "The parameter 'sessions_id_evaluation' is set to [1, 13, 28, 65]\n"
     ]
    }
   ],
   "source": [
    "project.print_dataset_settings()"
   ]
  },
  {
   "cell_type": "markdown",
   "id": "e3919049-023d-4ff9-828f-ae0c4136528f",
   "metadata": {},
   "source": [
    "**Objective settings**"
   ]
  },
  {
   "cell_type": "code",
   "execution_count": 64,
   "id": "2d423400-1148-4f20-9384-a41f799870f6",
   "metadata": {},
   "outputs": [
    {
     "name": "stdout",
     "output_type": "stream",
     "text": [
      "The parameter 'n_minimum_seconds_operational_gps' is set to 4\n",
      "The parameter 'gps_outage_durations_eval_at_beginning' is set to [('00:10', '00:30'), ('00:30', '01:00'), ('01:00', '02:00'), ('02:00', '04:00')]\n",
      "The parameter 'gps_outage_durations_eval_within' is set to [('00:30', '01:00'), ('01:00', '02:00'), ('02:00', '04:00'), ('04:00', '10:00')]\n",
      "The parameter 'gps_outage_durations_eval_at_end' is set to [('00:10', '00:25'), ('00:30', '01:00')]\n"
     ]
    }
   ],
   "source": [
    "project.print_objective_settings()"
   ]
  },
  {
   "cell_type": "markdown",
   "id": "8392c89a-77af-45f7-a6b1-ecdf2fd43bad",
   "metadata": {},
   "source": [
    "**Training settings**"
   ]
  },
  {
   "cell_type": "code",
   "execution_count": 65,
   "id": "ca8f3b26-788d-496e-a37e-bbf5cadd35d1",
   "metadata": {},
   "outputs": [
    {
     "name": "stdout",
     "output_type": "stream",
     "text": [
      "The parameter 'coeff_sampling_training' is set to 10000\n",
      "The parameter 'coeff_sampling_validation' is set to 2000\n",
      "The parameter 'n_epochs_sampling' is set to 20\n",
      "The parameter 'n_epochs' is set to 100\n",
      "The parameter 'patience' is set to 10\n",
      "The parameter 'num_workers' is set to 0\n",
      "The parameter 'use_mixed_precision' is set to True\n",
      "The parameter 'n_epochs_training_checkpoint' is set to 10\n",
      "The parameter 'velocity_loss' is set to mse\n"
     ]
    }
   ],
   "source": [
    "project.print_training_settings()"
   ]
  },
  {
   "cell_type": "markdown",
   "id": "a507a6c5-4291-4356-9389-8afdcc8002c6",
   "metadata": {},
   "source": [
    "**Tuning settings**"
   ]
  },
  {
   "cell_type": "code",
   "execution_count": 66,
   "id": "eb823813-d6bb-4d68-803a-fc0d147002cc",
   "metadata": {},
   "outputs": [
    {
     "name": "stdout",
     "output_type": "stream",
     "text": [
      "The parameter 'n_startup_trials' is set to 10\n",
      "The parameter 'save_every_state_dicts' is set to False\n"
     ]
    }
   ],
   "source": [
    "project.print_tuning_settings()"
   ]
  },
  {
   "cell_type": "markdown",
   "id": "88bdac8d-51b7-455e-848c-fffe7cb00520",
   "metadata": {
    "jp-MarkdownHeadingCollapsed": true
   },
   "source": [
    "### 5.4. Validate the settings"
   ]
  },
  {
   "attachments": {},
   "cell_type": "markdown",
   "id": "5882e1af-5955-40c5-8c92-0cee36092f63",
   "metadata": {},
   "source": [
    "When you have finished configuring the settings for your POSNNET project, you must validate them. To do this, use the method <code>Project.validate_settings</code>.\n",
    "\n",
    "There are three possible outcomes:\n",
    "\n",
    "[5.4.1. The method returns error(s) (with or without warning(s))](#5.4.1.-The-method-returns-error(s)-(with-or-without-warning(s)))  \n",
    "[5.4.2. The method returns warning(s) but no error](#5.4.2.-The-method-returns-warning(s)-but-no-error)  \n",
    "[5.4.3. The settings are successfully validated without errors or warnings](#5.4.3.-The-settings-are-successfully-validated-without-errors-or-warnings)"
   ]
  },
  {
   "cell_type": "markdown",
   "id": "07479c8c-fe44-47d4-8779-ad05b6f4561f",
   "metadata": {
    "jp-MarkdownHeadingCollapsed": true
   },
   "source": [
    "#### 5.4.1. The method returns error(s) (with or without warning(s))"
   ]
  },
  {
   "cell_type": "code",
   "execution_count": 67,
   "id": "3a875647-5d53-4287-935e-e564afc8325c",
   "metadata": {},
   "outputs": [
    {
     "name": "stdout",
     "output_type": "stream",
     "text": [
      "You have actually 1 error(s) inside your settings. The settings cannot be validated. Please correct the errors and call again the validation settings method.\n",
      "\n",
      "\n",
      "Errors in the settings:\n",
      "\t E1: You do not have provided any session for the training dataset.\n",
      "\n"
     ]
    }
   ],
   "source": [
    "# For the purpose of the user guide, let generate an error by providing an empty training dataset.\n",
    "project.set_dataset_settings(\n",
    "    sessions_id_training=[]\n",
    ")\n",
    "\n",
    "# The validation method return an error.\n",
    "project.validate_settings()"
   ]
  },
  {
   "cell_type": "markdown",
   "id": "91ee2fc5-8393-497a-b92e-74608a75ffb4",
   "metadata": {},
   "source": [
    "In this case, you need to modify your settings to correct the error(s). Once corrected, call the method again."
   ]
  },
  {
   "cell_type": "code",
   "execution_count": 68,
   "id": "40b8866c-f0db-4948-b109-c85261409a40",
   "metadata": {},
   "outputs": [
    {
     "name": "stdout",
     "output_type": "stream",
     "text": [
      "The project settings have been validated.\n"
     ]
    }
   ],
   "source": [
    "# Correct the error.\n",
    "project.set_dataset_settings(\n",
    "    sessions_id_training=SESSIONS_ID_TRAINING\n",
    ")\n",
    "\n",
    "# Now the validation method successfully validates the settings.\n",
    "project.validate_settings()"
   ]
  },
  {
   "cell_type": "markdown",
   "id": "5aff4b69-d997-498a-90ad-cf02a43b99be",
   "metadata": {},
   "source": [
    "If you have no warning(s), you can proceed to the next stage. Otherwise, please refer to Section 5.4.2: *The method returns warning(s) but no error*."
   ]
  },
  {
   "cell_type": "markdown",
   "id": "e4fca9b5-b56f-4c43-9fca-32c14594e7b7",
   "metadata": {
    "jp-MarkdownHeadingCollapsed": true
   },
   "source": [
    "#### 5.4.2. The method returns warning(s) but no error"
   ]
  },
  {
   "cell_type": "raw",
   "id": "d7b29911-c28f-443f-9110-d30e8ba2b197",
   "metadata": {},
   "source": [
    "# For the purpose of the user guide\n",
    "\n",
    "from posnnet.project_life_cycle_manager import ProjectLifeCycleManager\n",
    "\n",
    "project.move_to_previous_stage(desired_stage=ProjectLifeCycleManager.SETTINGS_DEFINITION_STAGE, force_move=True)"
   ]
  },
  {
   "cell_type": "code",
   "execution_count": 70,
   "id": "65728b8a-1828-4184-bcea-e2883eb422cd",
   "metadata": {},
   "outputs": [
    {
     "name": "stdout",
     "output_type": "stream",
     "text": [
      "You have actually 1 warning(s) inside your settings. You can either change your settings or you can call again the validation settings method with the argument 'force_validation=True'.\n",
      "\n",
      "\n",
      "Warnings in the settings:\n",
      "\t W1: You selected the device 'cpu' for training and inference. Due to this choice, the training and inference will be performed on your CPU even if your system has a CUDA compatible GPU, resulting in significant higher computation time. If you are not sure about your system having a CUDA compatible GPU or not, it is recommended to select the mode 'auto' to let the framework determine if CUDA is available. Ignore this message if you are sure to use the CPU.\n",
      "\n"
     ]
    }
   ],
   "source": [
    "# For the purpose of the user guide, let generate a warning by providing the device 'cpu'\n",
    "project.set_general_settings(\n",
    "    device='cpu'\n",
    ")\n",
    "\n",
    "# The validation method return a warning.\n",
    "project.validate_settings()"
   ]
  },
  {
   "cell_type": "markdown",
   "id": "46fb831f-e352-49fe-a1ee-72e4a8cb9b70",
   "metadata": {},
   "source": [
    "In this case, you have two options. The first option is to modify your settings to address the warning."
   ]
  },
  {
   "cell_type": "code",
   "execution_count": 71,
   "id": "d9af1d3f-ef21-4e0f-b060-593ff5581b06",
   "metadata": {},
   "outputs": [
    {
     "name": "stdout",
     "output_type": "stream",
     "text": [
      "The project settings have been validated.\n"
     ]
    }
   ],
   "source": [
    "# Correct the warning\n",
    "project.set_general_settings(\n",
    "    device=DEVICE\n",
    ")\n",
    "\n",
    "# Now the validation method successfully validates the settings.\n",
    "project.validate_settings()"
   ]
  },
  {
   "cell_type": "markdown",
   "id": "43b4d0c8-b8a4-4a6b-a5d0-f9a55b026d2f",
   "metadata": {},
   "source": [
    "The second option is to keep your current settings and force the validation."
   ]
  },
  {
   "cell_type": "raw",
   "id": "fd3076e4-0d19-4e63-8d5b-80b0e1fc7267",
   "metadata": {},
   "source": [
    "# For the purpose of the user guide\n",
    "\n",
    "from posnnet.project_life_cycle_manager import ProjectLifeCycleManager\n",
    "\n",
    "project.move_to_previous_stage(desired_stage=ProjectLifeCycleManager.SETTINGS_DEFINITION_STAGE, force_move=True)"
   ]
  },
  {
   "cell_type": "code",
   "execution_count": 73,
   "id": "5dad91e7-e9dc-46b4-9a27-64d0bd0b3fd7",
   "metadata": {},
   "outputs": [
    {
     "name": "stdout",
     "output_type": "stream",
     "text": [
      "The project settings have been validated.\n",
      "\n",
      "\n",
      "Warnings in the settings:\n",
      "\t W1: You selected the device 'cpu' for training and inference. Due to this choice, the training and inference will be performed on your CPU even if your system has a CUDA compatible GPU, resulting in significant higher computation time. If you are not sure about your system having a CUDA compatible GPU or not, it is recommended to select the mode 'auto' to let the framework determine if CUDA is available. Ignore this message if you are sure to use the CPU.\n",
      "\n"
     ]
    }
   ],
   "source": [
    "# For the purpose of the user guide, let generate a warning by providing the device 'cpu'\n",
    "project.set_general_settings(\n",
    "    device='cpu'\n",
    ")\n",
    "\n",
    "# Now the validation method successfully validates the settings.\n",
    "project.validate_settings(force_validation=True)"
   ]
  },
  {
   "cell_type": "markdown",
   "id": "30fef7ba-d90d-44fb-930d-6b6f31509fb4",
   "metadata": {},
   "source": [
    "You can proceed to the next stage."
   ]
  },
  {
   "cell_type": "markdown",
   "id": "4d87fc3d-954a-41c4-819d-e2575b035689",
   "metadata": {
    "jp-MarkdownHeadingCollapsed": true
   },
   "source": [
    "#### 5.4.3. The settings are successfully validated without errors or warnings"
   ]
  },
  {
   "cell_type": "raw",
   "id": "b43fe9d5-1f5d-482a-9fd0-d1f41dea9e0d",
   "metadata": {},
   "source": [
    "# For the purpose of the user guide\n",
    "\n",
    "from posnnet.project_life_cycle_manager import ProjectLifeCycleManager\n",
    "\n",
    "project.move_to_previous_stage(desired_stage=ProjectLifeCycleManager.SETTINGS_DEFINITION_STAGE, force_move=True)\n",
    "\n",
    "project.set_general_settings(\n",
    "    device=DEVICE\n",
    ")"
   ]
  },
  {
   "cell_type": "code",
   "execution_count": 75,
   "id": "ecebad8e-c464-4c87-9153-e881e0399ae0",
   "metadata": {},
   "outputs": [
    {
     "name": "stdout",
     "output_type": "stream",
     "text": [
      "The project settings have been validated.\n"
     ]
    }
   ],
   "source": [
    "project.validate_settings()"
   ]
  },
  {
   "cell_type": "markdown",
   "id": "0971f7b5-8070-4faf-bdb6-cac563839a45",
   "metadata": {},
   "source": [
    "You can proceed to the next stage."
   ]
  },
  {
   "cell_type": "markdown",
   "id": "95513556-9980-4b70-b561-eb7f5e2a6daf",
   "metadata": {
    "jp-MarkdownHeadingCollapsed": true
   },
   "source": [
    "## 6. Preprocess your data"
   ]
  },
  {
   "cell_type": "markdown",
   "id": "f3b48589-e625-46bd-bb5f-e070586e6dd3",
   "metadata": {},
   "source": [
    "After validating your POSNNET project settings, the project enters the **Data preprocessing stage**. You can now begin preprocessing your data using the method <code>Project.preprocess_data</code>. \n",
    "\n",
    "Use the argument <code>verbosity=True</code> if you want to see detailed progress during preprocessing. At the end of the process, you will receive a report summarizing the number of GPS outages simulated for each case."
   ]
  },
  {
   "cell_type": "code",
   "execution_count": 76,
   "id": "98098ded-dcda-44f7-b05d-2ad210b1476c",
   "metadata": {},
   "outputs": [
    {
     "name": "stdout",
     "output_type": "stream",
     "text": [
      "Preprocessing of the training data: 100.00%\n",
      "Preprocessing of the validation data: 100.00%\n",
      "Loading of the evaluation data: 100.00%\n",
      "GPS outage simulation for case 'beginning' from 00-10 to 00-30: 100.00%\n",
      "GPS outage simulation for case 'beginning' from 00-30 to 01-00: 100.00%\n",
      "GPS outage simulation for case 'beginning' from 01-00 to 02-00: 100.00%\n",
      "GPS outage simulation for case 'beginning' from 02-00 to 04-00: 100.00%\n",
      "GPS outage simulation for case 'within' from 00-30 to 01-00: 100.00%\n",
      "GPS outage simulation for case 'within' from 01-00 to 02-00: 100.00%\n",
      "GPS outage simulation for case 'within' from 02-00 to 04-00: 100.00%\n",
      "GPS outage simulation for case 'within' from 04-00 to 10-00: 100.00%\n",
      "GPS outage simulation for case 'end' from 00-10 to 00-25: 100.00%\n",
      "GPS outage simulation for case 'end' from 00-30 to 01-00: 100.00%\n",
      "****************************************************************************************************\n",
      "********************************************** REPORT **********************************************\n",
      "****************************************************************************************************\n",
      "Case beginning with GPS outage from 00-10 to 00-30: 16 GPS outages simulated.\n",
      "Case beginning with GPS outage from 00-30 to 01-00: 24 GPS outages simulated.\n",
      "Case beginning with GPS outage from 01-00 to 02-00: 48 GPS outages simulated.\n",
      "Case beginning with GPS outage from 02-00 to 04-00: 96 GPS outages simulated.\n",
      "Case within with GPS outage from 00-30 to 01-00: 178 GPS outages simulated.\n",
      "Case within with GPS outage from 01-00 to 02-00: 198 GPS outages simulated.\n",
      "Case within with GPS outage from 02-00 to 04-00: 234 GPS outages simulated.\n",
      "Case within with GPS outage from 04-00 to 10-00: 374 GPS outages simulated.\n",
      "Case end with GPS outage from 00-10 to 00-25: 12 GPS outages simulated.\n",
      "Case end with GPS outage from 00-30 to 01-00: 24 GPS outages simulated.\n",
      "****************************************************************************************************\n"
     ]
    }
   ],
   "source": [
    "project.preprocess_data(verbosity=True)"
   ]
  },
  {
   "cell_type": "markdown",
   "id": "61a95521-9ae3-4b1e-aefd-2e673e36f75e",
   "metadata": {},
   "source": [
    "If you have specified GPS outage durations that are longer than the duration of the sessions in the evaluation dataset, the framework will not be able to simulate GPS outages for those cases. In such instances, you will receive a warning report informing you of the cases that could not be processed.\n",
    "\n",
    "If you want to modify these settings, please see section [11. Revert to a previous stage](#11.-Revert-to-a-previous-stage) to come back to the settings definition stage. Otherwise, this case will be ignored."
   ]
  },
  {
   "cell_type": "raw",
   "id": "2bbc84b8-73e1-40a9-9c64-9672bb5553c8",
   "metadata": {},
   "source": [
    "# For the purpose of the user guide\n",
    "\n",
    "from posnnet.project_life_cycle_manager import ProjectLifeCycleManager\n",
    "\n",
    "project.move_to_previous_stage(desired_stage=ProjectLifeCycleManager.SETTINGS_DEFINITION_STAGE, force_move=True)\n",
    "\n",
    "project.set_objective_settings(\n",
    "    gps_outage_durations_eval_within=[(\"00:30\", \"01:00\"), (\"01:00\", \"02:00\"), (\"02:00\", \"04:00\"), (\"04:00\", \"10:00\"), (\"59:00\", \"59:59\")]\n",
    ")\n",
    "project.validate_settings()"
   ]
  },
  {
   "cell_type": "code",
   "execution_count": 78,
   "id": "95b6e397-3592-4c15-bbf2-f4644e147499",
   "metadata": {},
   "outputs": [
    {
     "name": "stdout",
     "output_type": "stream",
     "text": [
      "Preprocessing of the training data: 100.00%\n",
      "Preprocessing of the validation data: 100.00%\n",
      "Loading of the evaluation data: 100.00%\n",
      "GPS outage simulation for case 'beginning' from 00-10 to 00-30: 100.00%\n",
      "GPS outage simulation for case 'beginning' from 00-30 to 01-00: 100.00%\n",
      "GPS outage simulation for case 'beginning' from 01-00 to 02-00: 100.00%\n",
      "GPS outage simulation for case 'beginning' from 02-00 to 04-00: 100.00%\n",
      "GPS outage simulation for case 'within' from 00-30 to 01-00: 100.00%\n",
      "GPS outage simulation for case 'within' from 01-00 to 02-00: 100.00%\n",
      "GPS outage simulation for case 'within' from 02-00 to 04-00: 100.00%\n",
      "GPS outage simulation for case 'within' from 04-00 to 10-00: 100.00%\n",
      "GPS outage simulation for case 'within' from 59-00 to 59-59: 100.00%\n",
      "GPS outage simulation for case 'end' from 00-10 to 00-25: 100.00%\n",
      "GPS outage simulation for case 'end' from 00-30 to 01-00: 100.00%\n",
      "****************************************************************************************************\n",
      "********************************************** REPORT **********************************************\n",
      "****************************************************************************************************\n",
      "Case beginning with GPS outage from 00-10 to 00-30: 16 GPS outages simulated.\n",
      "Case beginning with GPS outage from 00-30 to 01-00: 24 GPS outages simulated.\n",
      "Case beginning with GPS outage from 01-00 to 02-00: 48 GPS outages simulated.\n",
      "Case beginning with GPS outage from 02-00 to 04-00: 96 GPS outages simulated.\n",
      "Case within with GPS outage from 00-30 to 01-00: 178 GPS outages simulated.\n",
      "Case within with GPS outage from 01-00 to 02-00: 198 GPS outages simulated.\n",
      "Case within with GPS outage from 02-00 to 04-00: 234 GPS outages simulated.\n",
      "Case within with GPS outage from 04-00 to 10-00: 374 GPS outages simulated.\n",
      "Case end with GPS outage from 00-10 to 00-25: 12 GPS outages simulated.\n",
      "Case end with GPS outage from 00-30 to 01-00: 24 GPS outages simulated.\n",
      "****************************************************************************************************\n",
      "********************************************* WARNINGS *********************************************\n",
      "****************************************************************************************************\n",
      "The framework was unable to simulate GPS outage for one or several subcases. The reason is that the duration of your sessions is not enough. For example, if you ask a case with GPS outage that last between 30 seconds and 50 seconds, with 4 seconds of operational GPS, the framework will only be able to simulate GPS outages on sessions for which the duration is at least 34 seconds. Here is the list of the GPS outage subcases that have not been treated:\n",
      "\t- Case within with GPS outage from 59-00 to 59-59\n",
      "\n",
      "You have two choices. Option 1: If you are able to provide sessions with longer duration, add these data into the project folder (inside the raw data folder). Then, call Project.move_to_previous_stage(desired_stage=ProjectLifeCycleManager.SETTINGS_DEFINITION_STAGE, force_move=True) to come back to the settings definition. Call the method Project.set_dataset_settings after adding the new sessions to the list that already contains the ones you used this time, validate the settings and proceed again to the data preprocessing. Option 2: If you are not able to provide sessions with longer duration, ignore this message and the subcases will not be treated by the framework.\n",
      "****************************************************************************************************\n"
     ]
    }
   ],
   "source": [
    "# For the purpose of this user guide, a GPS outage duration for the case `'within'` ranging from 59 minutes to 59 minutes and 59 seconds \n",
    "# has been added to the objective. Since no session is long enough to simulate such a GPS outage, \n",
    "# the framework will not process this case and will generate a warning report.\n",
    "\n",
    "project.preprocess_data(verbosity=True)"
   ]
  },
  {
   "cell_type": "raw",
   "id": "585a53fc-8e23-42c5-805b-ea2d6c8e23db",
   "metadata": {},
   "source": [
    "# For the purpose of the user guide\n",
    "\n",
    "from posnnet.project_life_cycle_manager import ProjectLifeCycleManager\n",
    "\n",
    "project.move_to_previous_stage(desired_stage=ProjectLifeCycleManager.SETTINGS_DEFINITION_STAGE, force_move=True)\n",
    "\n",
    "project.set_objective_settings(\n",
    "    gps_outage_durations_eval_within=[(\"00:30\", \"01:00\"), (\"01:00\", \"02:00\"), (\"02:00\", \"04:00\"), (\"04:00\", \"10:00\")]\n",
    ")\n",
    "project.validate_settings()\n",
    "project.preprocess_data(verbosity=True)"
   ]
  },
  {
   "cell_type": "markdown",
   "id": "9a17c9ff-7948-463e-9247-1f37eea0da5d",
   "metadata": {
    "jp-MarkdownHeadingCollapsed": true
   },
   "source": [
    "## 7. Fit the scalers"
   ]
  },
  {
   "cell_type": "markdown",
   "id": "25445306-901e-45eb-9f48-903a43997b9e",
   "metadata": {},
   "source": [
    "Now that you have preprocessed your data, the project has moved to the **Scalers fitting stage**. You can proceed to fit the scalers using the method <code>Project.fit_scalers</code>."
   ]
  },
  {
   "cell_type": "code",
   "execution_count": 80,
   "id": "5d0d6835-9fa7-4ac8-979a-dab65c295193",
   "metadata": {},
   "outputs": [],
   "source": [
    "project.fit_scalers()"
   ]
  },
  {
   "cell_type": "markdown",
   "id": "0d45290b-9b28-4af7-837c-db60df95ec18",
   "metadata": {
    "jp-MarkdownHeadingCollapsed": true
   },
   "source": [
    "## 8. Tune and evaluate the neural networks"
   ]
  },
  {
   "cell_type": "markdown",
   "id": "ab88ce76-afd4-4870-ad54-d08fe8927b38",
   "metadata": {},
   "source": [
    "After fitting the scalers, the project enters the **Models tuning stage**. It is finally time to proceed with the tuning and evaluation of the neural networks.\n",
    "\n",
    "[8.1. Project methods](#8.1.-Project-methods)  \n",
    "[8.2. Tuning/Evaluation flow](#8.2.-Tuning/Evaluation-flow)  \n",
    "[8.3. Configurations choice](#8.3.-Configurations-choice)  \n",
    "[8.4. Validate models tuning](#8.4.-Validate-models-tuning)"
   ]
  },
  {
   "cell_type": "markdown",
   "id": "297d5bca-fccc-415e-98a5-503a8c5339a8",
   "metadata": {
    "jp-MarkdownHeadingCollapsed": true
   },
   "source": [
    "### 8.1. Project methods"
   ]
  },
  {
   "cell_type": "markdown",
   "id": "f88136d6-4e39-424a-aee5-cc317ea97122",
   "metadata": {},
   "source": [
    "This section presents the different <code>Project</code> methods used to perform the tuning and evaluation of the neural networks.\n",
    "\n",
    "[8.1.1. Tuning](#8.1.1.-Tuning)  \n",
    "[8.1.2. Evaluation](#8.1.2.-Evaluation)  \n",
    "[8.1.3 Results dashboard](#8.1.3.-Results-dashboard)  "
   ]
  },
  {
   "cell_type": "markdown",
   "id": "5856ba73-504b-4959-a00b-db676a0f5444",
   "metadata": {
    "jp-MarkdownHeadingCollapsed": true
   },
   "source": [
    "#### 8.1.1. Tuning"
   ]
  },
  {
   "cell_type": "markdown",
   "id": "3e3b0b89-58ff-402e-948b-e6df3d9d2465",
   "metadata": {},
   "source": [
    "To perform the tuning of a neural network architecture, use the method <code>Project.run_tuning</code>.\n",
    "\n",
    "For configurations choice, please refer to the part [8.3. Configurations choice](#8.3.-Configurations-choice)\n",
    "\n",
    "This method takes several arguments:\n",
    "\n",
    "- <code>n_experiments</code>: The number of hyperparameter sets (i.e., different combinations) that will be tried for the specified architecture. A higher number increases the chances of finding an optimal combination but also increases the tuning time.\n",
    "    - If you have a basic computing system or limited time, consider a value between <code>15</code> and <code>30</code>. There is a chance the framework may not find a suitable combination.\n",
    "    - A recommended value is <code>50</code>.\n",
    "    - If you have a powerful computing system and/or plenty of time, you can go up to <code>100</code> to maximize accuracy.<br><br>\n",
    "\n",
    "- <code>model_name</code>: The name of the neural network architecture to tune. Options include:\n",
    "    - <code>'CLSTMTWB'</code>: Convolutional Long Short-Term Memory With Bypass  \n",
    "    - <code>'CLSTMTFAWB'</code>: Convolutional Long Short-Term Memory Frequency Aware With Bypass  \n",
    "    - <code>'STTWB'</code>: Spatio-Temporal Transformer With Bypass  \n",
    "    - <code>'STTFAWB'</code>: Spatio-Temporal Transformer Frequency Aware With Bypass  \n",
    "    - <code>'TCANWB'</code>: Temporal Convolutional Attentive Network With Bypass  <br><br>\n",
    "\n",
    "- <code>use_adversarial</code>: Determines whether adversarial examples are used during training:\n",
    "    - <code>None</code>: No adversarial examples  \n",
    "    - <code>'imu'</code>: Apply adversarial examples to IMU data only  \n",
    "    - <code>'full'</code>: Apply adversarial examples to all input data  <br><br>\n",
    "\n",
    "- <code>training_type</code>: Determines where the GPS outage will be simulated during training:\n",
    "    - <code>'beginning'</code>: Outages at the beginning of the sequence; network will handle only beginning outages in production  \n",
    "    - <code>'centered'</code>: Outages within the sequence; network will handle only inside-session outages  \n",
    "    - <code>'end'</code>: Outages at the end of the sequence; network will handle only end-of-session outages  \n",
    "    - <code>'random'</code>: Outages at random positions; network can handle outages at any point in the session  <br><br>\n",
    "\n",
    "- <code>coeff_frequency_division</code>: Controls the factor by which the input frequency is divided before feeding the network. \n",
    "    - <code>1</code> = no division.  \n",
    "    - A value > <code>1</code> reduces the number of samples and thus memory and time consumption. \n",
    "    - Frequency reduction may slightly reduce accuracy, but this is often compensated by being able to try more combinations or use deeper architectures.  <br><br>\n",
    "\n",
    "    *To choose a suitable value*, calculate:  \n",
    "    (minimal number seconds of operational GPS + max GPS outage duration in seconds) × sensor frequency = total input samples  \n",
    "    Use this value to determine if frequency division is needed:\n",
    "    - *Basic system (old GPU or CPU only)*: target 300–800 samples  \n",
    "    - *Moderate system (standard GPU)*: target 1000–2000 samples  \n",
    "    - *High-end system (latest-gen GPU)*: target 3000–5000 samples  \n",
    "\n",
    "    *Note:* During the development of POSNNET, a coefficient of <code>10</code> was used with excellent results and no accuracy loss. If unsure, use <code>10</code>.\n",
    "\n",
    "- <code>gps_outage_duration</code>: The minimum and maximum duration of GPS outages the network should be trained to handle. Format: <code>(\"MM:SS\", \"MM:SS\")</code>.\n",
    "\n",
    "- <code>verbosity</code>: Controls how much information is displayed during tuning (for information only, does not affect tuning):\n",
    "    - <code>0</code>: No output  \n",
    "    - <code>1</code>: Display results of each combination  \n",
    "    - <code>2</code>: Display intermediate results after each epoch (generates a large amount of output)  \n"
   ]
  },
  {
   "cell_type": "raw",
   "id": "1205d0e5-f574-4ad6-951f-244244e2ba56",
   "metadata": {},
   "source": [
    "# For the purpose of the user guide\n",
    "\n",
    "from posnnet.project_life_cycle_manager import ProjectLifeCycleManager\n",
    "\n",
    "project.move_to_previous_stage(desired_stage=ProjectLifeCycleManager.SETTINGS_DEFINITION_STAGE, force_move=True)\n",
    "\n",
    "project.set_training_settings(\n",
    "    n_epochs=1,\n",
    ")\n",
    "project.validate_settings(force_validation=True)\n",
    "project.preprocess_data(verbosity=False)\n",
    "project.fit_scalers()"
   ]
  },
  {
   "cell_type": "code",
   "execution_count": 84,
   "id": "1d997c66-515a-429f-8561-8b9c849e84e9",
   "metadata": {},
   "outputs": [],
   "source": [
    "# NB : For the purpose of the demonstration, the number of epochs in the settings have been set to 1 (instead of 100). \n",
    "# Also, only one trial is experimented instead of 100.\n",
    "\n",
    "project.run_tuning(\n",
    "    n_experiments=1, # 100\n",
    "    model_name=\"TCANWB\",\n",
    "    use_adversarial=None,\n",
    "    training_type=\"centered\",\n",
    "    coeff_frequency_division=10,\n",
    "    gps_outage_duration=(\"00:30\", \"02:00\"),\n",
    "    verbosity=0\n",
    ")\n",
    "\n",
    "project.run_tuning(\n",
    "    n_experiments=1, # 100\n",
    "    model_name=\"CLSTMTWB\",\n",
    "    use_adversarial=\"imu\",\n",
    "    training_type=\"centered\",\n",
    "    coeff_frequency_division=10,\n",
    "    gps_outage_duration=(\"00:30\", \"02:00\"),\n",
    "    verbosity=0\n",
    ")\n",
    "\n",
    "project.run_tuning(\n",
    "    n_experiments=1, # 100\n",
    "    model_name=\"STTWB\",\n",
    "    use_adversarial=\"full\",\n",
    "    training_type=\"random\",\n",
    "    coeff_frequency_division=10,\n",
    "    gps_outage_duration=(\"00:30\", \"02:00\"),\n",
    "    verbosity=0\n",
    ")"
   ]
  },
  {
   "cell_type": "markdown",
   "id": "61ea239d-a3ae-4844-a811-8e6877ece3f0",
   "metadata": {
    "jp-MarkdownHeadingCollapsed": true
   },
   "source": [
    "#### 8.1.2. Evaluation"
   ]
  },
  {
   "cell_type": "markdown",
   "id": "b4692bd0-37dc-45e1-9f32-9c37f206185a",
   "metadata": {},
   "source": [
    "After tuning a configuration, you can evaluate it to obtain representative performance scores as they would appear in a production setting. To do this, use the method <code>Project.evaluate_configuration</code>.\n",
    "\n",
    "This method takes several arguments:\n",
    "\n",
    "- <code>model_name</code>: The name of the neural network architecture to evaluate.\n",
    "- <code>use_adversarial</code>: Determines whether adversarial examples are used during training.\n",
    "- <code>training_type</code>: Determines where the GPS outage will be simulated during training.\n",
    "- <code>coeff_frequency_division</code>: Controls the factor by which the input frequency is divided before feeding the network.\n",
    "- <code>gps_outage_duration</code>: The minimum and maximum duration of GPS outages the network should be trained to handle. Format: <code>(\"MM:SS\", \"MM:SS\")</code>.\n",
    "- <code>verbosity</code>: Either to print progress or not."
   ]
  },
  {
   "cell_type": "code",
   "execution_count": 85,
   "id": "1552008a-bbc6-4ea4-824c-35607123879a",
   "metadata": {},
   "outputs": [
    {
     "name": "stdout",
     "output_type": "stream",
     "text": [
      "Case within from 00-30 to 01-00 progress: 100.00%\n",
      "Case within from 01-00 to 02-00 progress: 100.00%\n",
      "Case within from 00-30 to 01-00 progress: 100.00%\n",
      "Case within from 01-00 to 02-00 progress: 100.00%\n",
      "Case beginning from 00-30 to 01-00 progress: 100.00%\n",
      "Case beginning from 01-00 to 02-00 progress: 100.00%\n",
      "Case within from 00-30 to 01-00 progress: 100.00%\n",
      "Case within from 01-00 to 02-00 progress: 100.00%\n",
      "Case end from 00-30 to 01-00 progress: 100.00%\n"
     ]
    }
   ],
   "source": [
    "project.evaluate_configuration(\n",
    "    model_name=\"TCANWB\",\n",
    "    use_adversarial=None,\n",
    "    training_type=\"centered\",\n",
    "    coeff_frequency_division=10,\n",
    "    gps_outage_duration=(\"00:30\", \"02:00\"),\n",
    "    verbosity=True\n",
    ")\n",
    "\n",
    "project.evaluate_configuration(\n",
    "    model_name=\"CLSTMTWB\",\n",
    "    use_adversarial=\"imu\",\n",
    "    training_type=\"centered\",\n",
    "    coeff_frequency_division=10,\n",
    "    gps_outage_duration=(\"00:30\", \"02:00\"),\n",
    "    verbosity=True\n",
    ")\n",
    "\n",
    "project.evaluate_configuration(\n",
    "    model_name=\"STTWB\",\n",
    "    use_adversarial=\"full\",\n",
    "    training_type=\"random\",\n",
    "    coeff_frequency_division=10,\n",
    "    gps_outage_duration=(\"00:30\", \"02:00\"),\n",
    "    verbosity=True\n",
    ")"
   ]
  },
  {
   "cell_type": "markdown",
   "id": "49cdf41a-4a86-4d0c-b4ef-bb4f068a3c4b",
   "metadata": {
    "jp-MarkdownHeadingCollapsed": true
   },
   "source": [
    "#### 8.1.3. Results dashboard"
   ]
  },
  {
   "cell_type": "markdown",
   "id": "c1d2dce7-4de7-49a9-ba02-08d7c3e193dc",
   "metadata": {},
   "source": [
    "The framework presents tuning and evaluation results through a dashboard that you can access with the method <code>project.display_dashboard</code>.\n",
    "\n",
    "For each configuration, the dashboard provides two tuning-related metrics:\n",
    "\n",
    "- **Velocity loss**  \n",
    "  The value of the loss function (either MAE or MSE, depending on your project settings) during validation.  \n",
    "  *Note: This value is computed on scaled data and cannot be interpreted directly in m/s.*\n",
    "\n",
    "- **ATE (in m)**  \n",
    "  Average Trajectory Error—the mean Euclidean distance between ground-truth and reconstructed positions.\n",
    "    \n",
    "For each configuration, the dashboard provides two evaluation-related metrics:\n",
    "\n",
    "- **AVE (in m/s)**  \n",
    "  Average Velocity Error—the mean Euclidean norm of the difference between ground-truth and reconstructed velocities.  \n",
    "  *Interpretation:* “The configuration reconstructed velocity with an average error of **x m/s**.”\n",
    "\n",
    "- **RMVE (%)**  \n",
    "  Relative Maximum Velocity Error—the maximum Eucliean norm of the difference between ground-truth and reconstructed velocities, divided by the AVE.  \n",
    "  *Interpretation:* “The maximum velocity error is *x %* of the AVE.”  \n",
    "  A value of 100 % means the maximum error equals the average error.  \n",
    "  Maximum velocity error = <code>(RMVE / 100) × AVE m/s</code>.  \n",
    "  *E.g. If the AVE is 1 m/s and the RMVE is 150%, the maximum velocity error is 1.5 m/s*  \n",
    "\n",
    "- **STDVE (in m/s)**  \n",
    "  Standard Deviation of the Velocity Error—the standard deviation of the Euclidean norm of the difference between ground-truth and reconstructed velocities.\n",
    "  It quantifies if the errors are condensate (low STDVE) or spread out (high STDVE).  \n",
    "  *Interpretation (assuming a Gaussian distribution):*  \n",
    "  - 68 % of errors fall between <code>AVE ± STDVE</code>  \n",
    "  - 95 % between <code>AVE ± 2 × STDVE</code>  \n",
    "  - 99.7 % between <code>AVE ± 3 × STDVE</code><br><br>\n",
    "\n",
    "- **ATE (in m)**  \n",
    "  Average Trajectory Error—the mean Euclidean norm of the difference between ground-truth and reconstructed positions.  \n",
    "  *Interpretation:* “The configuration reconstructed position with an average error of *x m*.”\n",
    "\n",
    "- **RMTE (%)**  \n",
    "  Relative Maximum Trajectory Error—the maximum Eucliean norm of the difference between ground-truth and reconstructed positions, divided by the ATE.  \n",
    "  *Interpretation:* “The maximum position error is *x %* of the ATE.”  \n",
    "  A value of 100 % means the maximum error equals the average error.  \n",
    "  Maximum trajectory error = <code>(RMTE / 100) × ATE m</code>.  \n",
    "  *E.g. If the ATE is 1 m and the RMTE is 150%, the maximum position error is 1.5 m*  \n",
    "\n",
    "- **STDTE (in m/s)**  \n",
    "  Standard Deviation of the Trajectory Error—the standard deviation of the Euclidean norm of the difference between ground-truth and reconstructed positions.\n",
    "  It quantifies if the errors are condensate (low STDVE) or spread out (high STDVE).  \n",
    "  *Interpretation (assuming a Gaussian distribution):*  \n",
    "  - 68 % of errors fall between <code>AVE ± STDVE</code>  \n",
    "  - 95 % between <code>AVE ± 2 × STDVE</code>  \n",
    "  - 99.7 % between <code>AVE ± 3 × STDVE</code><br><br>\n",
    "\n",
    "- **RDE**  \n",
    "  Relative Distance Error—<code>| (total predicted distance / total ground-truth distance) − 1 |</code>.  \n",
    "  A value of 0 means the predicted total distance matches the ground truth.  \n",
    "  *Interpretation: The reconstruction distance is *x* more/less than the ground-truth distance.*\n",
    "\n",
    "<u>Note for the next metrics:</u> For any reconstruction, their is a set of three transformations (one translation, one rotation, and one scaling) that can minimize the distance between the reconstructed and the ground-truth positions. These metrics do not modify the form of the reconstruction, they only move, rotate, and enlarge/shrink the form.\n",
    "\n",
    "- **RFTTE (%)**  \n",
    "  Relative Form-Transformation Trajectory Error—the ratio of ATE *after* optimal form-preserving transformations to the original ATE.  \n",
    "  *Interpretation:* “*x %* of the ATE is due to form differences.”  \n",
    "  Values near 0 % indicate the reconstructed form closely matches the ground truth (up to one translation, one rotation, and one scaling).  \n",
    "  Values near 100 % indicate a completely different form.  \n",
    "\n",
    "- **STE (%)**  \n",
    "  Scale Transformation Error—<code>| optimal scale factor − 100 % |</code>.  \n",
    "  *Interpretation:* “The reconstructed form is *x %* larger/smaller than the ground-truth form.”\n",
    "  Meaningful only when forms are similar.  \n",
    "  A value of 0 % indicates that the scale of both forms is identical.\n",
    "\n",
    "- **TTE (in m)**  \n",
    "  Translation Transformation Error—the distance (in meters) of the optimal translation that aligns the reconstruction with the ground truth.  \n",
    "  *Interpretation:* “The reconstructed form is offset by *x m*.”  \n",
    "  Meaningful only when forms are similar.  \n",
    "  A value of 0 meter indicates that the reconstructed form is correctly placed on the ground-truth form.\n",
    "\n",
    "- **RTE (in deg)**  \n",
    "  Rotation Transformation Error—the angle (in degrees) of the optimal rotation that aligns the reconstruction with the ground truth.  \n",
    "  *Interpretation:* “The reconstructed form is rotated by *x °*.”  \n",
    "  Meaningful only when forms are similar.  \n",
    "  A value of 0 ° indicates that the reconstructed form is correctly aligne with the ground-truth form."
   ]
  },
  {
   "cell_type": "code",
   "execution_count": 86,
   "id": "b8022076-5b05-4a38-8fe0-7600ed63a03e",
   "metadata": {},
   "outputs": [],
   "source": [
    "project.display_dashboard()"
   ]
  },
  {
   "cell_type": "markdown",
   "id": "1517bfaa-a755-4318-890f-8da62a5e870e",
   "metadata": {
    "jp-MarkdownHeadingCollapsed": true
   },
   "source": [
    "### 8.2. Tuning/Evaluation flow"
   ]
  },
  {
   "cell_type": "markdown",
   "id": "f840fe0e-c883-4d81-bf7a-58581230f9fd",
   "metadata": {},
   "source": [
    "This section presents the tuning and evaluation flow.\n",
    "\n",
    "[8.2.1. Basic flow](#8.2.1.-Basic-flow)  \n",
    "[8.2.2. Tuning interruption](#8.2.2.-Tuning-interruption)  \n",
    "[8.2.3. Tune in several executions / in different order](#8.2.3.-Tune-in-several-executions-/-in-different-order)  \n",
    "[8.2.4. Continue the tuning after evaluation](#8.2.4.-Continue-the-tuning-after-evaluation)  "
   ]
  },
  {
   "cell_type": "markdown",
   "id": "ea59e601-f486-422c-88fd-80f2c8ed7230",
   "metadata": {
    "jp-MarkdownHeadingCollapsed": true
   },
   "source": [
    "#### 8.2.1. Basic flow"
   ]
  },
  {
   "cell_type": "markdown",
   "id": "3d6159b0-a7bd-478d-963c-1cce31d1b2cf",
   "metadata": {},
   "source": [
    "The tuning and evaluation flow is quite simple. For each configuration—a combination of a neural network architecture, the use (or not) of adversarial examples, a training type, a frequency division coefficient, and a gps outage duration capacity—you must first perform the tuning of that configuration:"
   ]
  },
  {
   "cell_type": "code",
   "execution_count": null,
   "id": "408346a5-afa7-4617-89ff-21d5c2ec4cee",
   "metadata": {},
   "outputs": [],
   "source": [
    "project.run_tuning(\n",
    "    n_experiments=100,\n",
    "    model_name=\"TCANWB\",\n",
    "    use_adversarial=None,\n",
    "    training_type=\"centered\",\n",
    "    coeff_frequency_division=10,\n",
    "    gps_outage_duration=(\"00:30\", \"02:00\"),\n",
    "    verbosity=0\n",
    ")"
   ]
  },
  {
   "cell_type": "markdown",
   "id": "f720b924-ea23-4cb7-be9e-8c357a0c9601",
   "metadata": {},
   "source": [
    "You can then observe the tuning results:"
   ]
  },
  {
   "cell_type": "code",
   "execution_count": null,
   "id": "0293c42f-c349-4f72-a24a-58187fcae4c1",
   "metadata": {},
   "outputs": [],
   "source": [
    "project.display_dashboard()"
   ]
  },
  {
   "cell_type": "markdown",
   "id": "2ac5195c-be4c-479f-be1c-7f5338ae8acc",
   "metadata": {},
   "source": [
    "If you are satisfied with the tuning results, proceed with the evaluation:"
   ]
  },
  {
   "cell_type": "code",
   "execution_count": null,
   "id": "60fc376b-fd86-4952-9376-57cb22f41118",
   "metadata": {},
   "outputs": [],
   "source": [
    "project.evaluate_configuration(\n",
    "    model_name=\"TCANWB\",\n",
    "    use_adversarial=None,\n",
    "    training_type=\"centered\",\n",
    "    coeff_frequency_division=10,\n",
    "    gps_outage_duration=(\"00:30\", \"02:00\"),\n",
    "    verbosity=True\n",
    ")"
   ]
  },
  {
   "cell_type": "markdown",
   "id": "a6be4d88-52bb-4a9f-af82-5473dabcb730",
   "metadata": {},
   "source": [
    "Finally, review the evaluation results:"
   ]
  },
  {
   "cell_type": "code",
   "execution_count": null,
   "id": "7b94ec11-b0ca-49ff-8789-83c858dd7e14",
   "metadata": {},
   "outputs": [],
   "source": [
    "project.display_dashboard()"
   ]
  },
  {
   "cell_type": "markdown",
   "id": "c9e5e245-ec91-4789-9f50-a9038404aa0e",
   "metadata": {
    "jp-MarkdownHeadingCollapsed": true
   },
   "source": [
    "#### 8.2.2. Tuning interruption"
   ]
  },
  {
   "cell_type": "markdown",
   "id": "6d46331d-5df9-4680-af71-1a3b92759094",
   "metadata": {},
   "source": [
    "If you start to tune a configuration:"
   ]
  },
  {
   "cell_type": "code",
   "execution_count": null,
   "id": "9fed7ed0-416c-475d-bc72-fc406b6ffdf8",
   "metadata": {},
   "outputs": [],
   "source": [
    "project.run_tuning(\n",
    "    n_experiments=100,\n",
    "    model_name=\"TCANWB\",\n",
    "    use_adversarial=None,\n",
    "    training_type=\"centered\",\n",
    "    coeff_frequency_division=10,\n",
    "    gps_outage_duration=(\"00:30\", \"02:00\"),\n",
    "    verbosity=0\n",
    ")"
   ]
  },
  {
   "cell_type": "markdown",
   "id": "38611eb5-e3f5-4c8d-a1b7-ee566e00f01e",
   "metadata": {},
   "source": [
    "But if the tuning is interrupted (e.g., due to a computer shutdown, computation node time limit, etc.), simply restart the tuning using the exact same parameters as the first time. The tuning process will resume from where it left off."
   ]
  },
  {
   "cell_type": "code",
   "execution_count": null,
   "id": "6fe0a59b-92d8-4986-a4e5-1c21208ffe97",
   "metadata": {},
   "outputs": [],
   "source": [
    "project.run_tuning(\n",
    "    n_experiments=100,\n",
    "    model_name=\"TCANWB\",\n",
    "    use_adversarial=None,\n",
    "    training_type=\"centered\",\n",
    "    coeff_frequency_division=10,\n",
    "    gps_outage_duration=(\"00:30\", \"02:00\"),\n",
    "    verbosity=0\n",
    ")"
   ]
  },
  {
   "cell_type": "markdown",
   "id": "3a337fed-2e92-4b4d-aef4-012176df6c5a",
   "metadata": {
    "jp-MarkdownHeadingCollapsed": true
   },
   "source": [
    "#### 8.2.3. Tune in several executions / in different order"
   ]
  },
  {
   "cell_type": "markdown",
   "id": "5ec9edd0-7836-4809-b6a5-74118588dd23",
   "metadata": {},
   "source": [
    "You can tune a model for a specific number of trials and then perform additional trials later. You are also free to tune other configurations in any order you prefer."
   ]
  },
  {
   "cell_type": "code",
   "execution_count": null,
   "id": "6451149a-9aa0-46e9-afcf-ccdf63cf2c75",
   "metadata": {},
   "outputs": [],
   "source": [
    "# Run 20 trials on the configuration A\n",
    "project.run_tuning(\n",
    "    n_experiments=20,\n",
    "    model_name=\"TCANWB\",\n",
    "    use_adversarial=None,\n",
    "    training_type=\"centered\",\n",
    "    coeff_frequency_division=10,\n",
    "    gps_outage_duration=(\"00:30\", \"02:00\"),\n",
    "    verbosity=0\n",
    ")\n",
    "\n",
    "# Run 10 more trials on the configuration A\n",
    "project.run_tuning(\n",
    "    n_experiments=30,\n",
    "    model_name=\"TCANWB\",\n",
    "    use_adversarial=None,\n",
    "    training_type=\"centered\",\n",
    "    coeff_frequency_division=10,\n",
    "    gps_outage_duration=(\"00:30\", \"02:00\"),\n",
    "    verbosity=0\n",
    ")\n",
    "\n",
    "# Run 15 more trials on the configuration B\n",
    "project.run_tuning(\n",
    "    n_experiments=15,\n",
    "    model_name=\"TCANWB\",\n",
    "    use_adversarial=None,\n",
    "    training_type=\"random\",\n",
    "    coeff_frequency_division=10,\n",
    "    gps_outage_duration=(\"00:30\", \"02:00\"),\n",
    "    verbosity=0\n",
    ")\n",
    "\n",
    "# Run 30 more trials on the configuration A\n",
    "project.run_tuning(\n",
    "    n_experiments=60,\n",
    "    model_name=\"TCANWB\",\n",
    "    use_adversarial=None,\n",
    "    training_type=\"centered\",\n",
    "    coeff_frequency_division=10,\n",
    "    gps_outage_duration=(\"00:30\", \"02:00\"),\n",
    "    verbosity=0\n",
    ")"
   ]
  },
  {
   "cell_type": "markdown",
   "id": "4e3cf8d0-039d-4da2-ad88-c0258409a84d",
   "metadata": {
    "jp-MarkdownHeadingCollapsed": true
   },
   "source": [
    "#### 8.2.4. Continue the tuning after evaluation"
   ]
  },
  {
   "cell_type": "markdown",
   "id": "73a156ad-29da-42cf-952b-7f6819fc1924",
   "metadata": {},
   "source": [
    "Let’s say you perform the tuning for a configuration and then evaluate it."
   ]
  },
  {
   "cell_type": "code",
   "execution_count": null,
   "id": "54e1eb09-7c96-4add-99fa-7f768ecda592",
   "metadata": {},
   "outputs": [],
   "source": [
    "# Run 20 trials.\n",
    "project.run_tuning(\n",
    "    n_experiments=20,\n",
    "    model_name=\"TCANWB\",\n",
    "    use_adversarial=None,\n",
    "    training_type=\"centered\",\n",
    "    coeff_frequency_division=10,\n",
    "    gps_outage_duration=(\"00:30\", \"02:00\"),\n",
    "    verbosity=0\n",
    ")\n",
    "\n",
    "# Evaluate the configuration\n",
    "project.evaluate_configuration(\n",
    "    model_name=\"TCANWB\",\n",
    "    use_adversarial=None,\n",
    "    training_type=\"centered\",\n",
    "    coeff_frequency_division=10,\n",
    "    gps_outage_duration=(\"00:30\", \"02:00\"),\n",
    "    verbosity=True\n",
    ")\n",
    "\n",
    "# Observe results in the dashboard.\n",
    "project.display_dashboard()"
   ]
  },
  {
   "cell_type": "markdown",
   "id": "af9cdbba-a8c9-4bd2-aca6-6cfa5722927e",
   "metadata": {},
   "source": [
    "If the results are not satisfying, or if you have more time and wish to extend the tuning, you can still run additional tuning trials after the evaluation. \n",
    "\n",
    "Please note: the previous evaluation results will be deleted, and you will need to re-evaluate the configuration after completing the new tuning trials."
   ]
  },
  {
   "cell_type": "code",
   "execution_count": null,
   "id": "3f2807f1-e4e5-48f1-bd6e-2bbd918a505c",
   "metadata": {},
   "outputs": [],
   "source": [
    "# Run 15 additional trials.\n",
    "project.run_tuning(\n",
    "    n_experiments=35,\n",
    "    model_name=\"TCANWB\",\n",
    "    use_adversarial=None,\n",
    "    training_type=\"centered\",\n",
    "    coeff_frequency_division=10,\n",
    "    gps_outage_duration=(\"00:30\", \"02:00\"),\n",
    "    verbosity=0\n",
    ")\n",
    "\n",
    "# Evaluate the configuration\n",
    "project.evaluate_configuration(\n",
    "    model_name=\"TCANWB\",\n",
    "    use_adversarial=None,\n",
    "    training_type=\"centered\",\n",
    "    coeff_frequency_division=10,\n",
    "    gps_outage_duration=(\"00:30\", \"02:00\"),\n",
    "    verbosity=True\n",
    ")\n",
    "\n",
    "# Observe results in the dashboard.\n",
    "project.display_dashboard()"
   ]
  },
  {
   "cell_type": "code",
   "execution_count": null,
   "id": "f5924731-f1a5-41f1-b85a-70829c4b8bbd",
   "metadata": {},
   "outputs": [],
   "source": [
    "# Run 10 additional trials.\n",
    "project.run_tuning(\n",
    "    n_experiments=45,\n",
    "    model_name=\"TCANWB\",\n",
    "    use_adversarial=None,\n",
    "    training_type=\"centered\",\n",
    "    coeff_frequency_division=10,\n",
    "    gps_outage_duration=(\"00:30\", \"02:00\"),\n",
    "    verbosity=0\n",
    ")\n",
    "\n",
    "# Evaluate the configuration\n",
    "project.evaluate_configuration(\n",
    "    model_name=\"TCANWB\",\n",
    "    use_adversarial=None,\n",
    "    training_type=\"centered\",\n",
    "    coeff_frequency_division=10,\n",
    "    gps_outage_duration=(\"00:30\", \"02:00\"),\n",
    "    verbosity=True\n",
    ")\n",
    "\n",
    "# Observe results in the dashboard.\n",
    "project.display_dashboard()"
   ]
  },
  {
   "cell_type": "markdown",
   "id": "b400ed7d-43cc-45c9-8dac-3a5b024574d8",
   "metadata": {
    "jp-MarkdownHeadingCollapsed": true
   },
   "source": [
    "### 8.3. Configurations choice"
   ]
  },
  {
   "cell_type": "markdown",
   "id": "a86ba96e-0b54-43c1-bab8-782d3eaff0bd",
   "metadata": {},
   "source": [
    "As presented earlier, during tuning and evaluation, a configuration is defined by:\n",
    "\n",
    "- A neural network architecture (<code>CLSTMTWB</code>, <code>CLSTMTFAWB</code>, <code>STTWB</code>, <code>STTFAWB</code>, <code>TCANWB</code>)\n",
    "- A training type (<code>beginning</code>, <code>centered</code>, <code>end</code>, <code>random</code>)\n",
    "- A GPS outages duration range (e.g., 30 seconds to 2 minutes)\n",
    "- An adversarial examples type for training (<code>None</code>, <code>imu</code>, <code>full</code>)\n",
    "- A coefficient of frequency division (e.g. <code>10</code>)\n",
    "\n",
    "To accurately reconstruct trajectories in production, you must tune and evaluate **multiple configurations**. The framework aggregates the predictions of the best configurations to enhance reconstruction quality. Below are guidelines to help you choose which configurations to tune:\n",
    "\n",
    "- **Training type**\n",
    "\n",
    "  There are four training types:\n",
    "\n",
    "    - <code>beginning</code>: Trains the network to handle GPS outages starting at the beginning of a session.\n",
    "    - <code>centered</code>: Trains for outages within a session.\n",
    "    - <code>end</code>: Trains for outages at the end of a session.\n",
    "    - <code>random</code>: Trains for outages randomly placed, allowing the model to generalize across all positions.<br><br>\n",
    "\n",
    "  <u>If you have plenty of time:</u>\n",
    "  Use the <code>random</code> training type along with the fixed training types (beginning, centered, end) relevant to your use case.  \n",
    "  *Example:* If your sensor experiences outages at the beginning and within a session, use <code>random</code>, <code>beginning</code>, and <code>centered</code>.\n",
    "\n",
    "  <u>If you have limited time or a low-performance system:</u> \n",
    "  - If only one type of outage is relevant, use the corresponding fixed training type (<code>beginning</code>, <code>centered</code>, or <code>end</code>).\n",
    "  - If two or more types are relevant, use <code>random</code> training type only.<br><br>\n",
    "\n",
    "- **Neural network architecture**\n",
    "\n",
    "  There are five architectures, and performance varies by use case:\n",
    "\n",
    "    - <code>CLSTMTWB</code>  \n",
    "    - <code>CLSTMTFAWB</code>  \n",
    "    - <code>STTWB</code>  \n",
    "    - <code>STTFAWB</code>  \n",
    "    - <code>TCANWB</code><br><br>\n",
    "\n",
    "  All architectures provide strong results. It is **recommended to use all five**.\n",
    "\n",
    "- **Adversariable examples type for training**\n",
    "\n",
    "  Options:\n",
    "\n",
    "    - <code>None</code>: No adversarial examples.\n",
    "    - <code>imu</code>: Adversarial noise applied to IMU data.\n",
    "    - <code>full</code>: Adversarial noise applied to all inputs.<br><br>\n",
    "\n",
    "  Adversarial examples can increase robustness to input noise. During development, best performance was achievment most of the time with <code>None</code>, then with <code>imu</code> and sometime with <code>full</code>.\n",
    "\n",
    "  <u>If you have plenty of time:</u>  \n",
    "  Use both <code>None</code> and <code>imu</code>. Optionally include <code>full</code> if you have ample computing power.\n",
    "\n",
    "  <u>If you have limited time/resources:</u>  \n",
    "  Use <code>None</code> only.\n",
    "\n",
    "- **GPS outages capacity**\n",
    "\n",
    "  This defines the range of outage durations the network should handle.\n",
    "\n",
    "  <u>If you have plenty of time:</u>  \n",
    "  Break large ranges into smaller segments.  \n",
    "  *Example:* For outages from 10 seconds to 10 minutes, consider:\n",
    "    - 10 seconds to 1 minute\n",
    "    - 1 to 3 minutes\n",
    "    - 3 to 10 minutes<br><br>\n",
    "\n",
    "  <u>If time/resources are limited:</u>  \n",
    "  Use a single range covering the full duration range.\n",
    "\n",
    "- **Coefficient of frequency division**\n",
    "\n",
    "  See [Section 8.1.1. Tuning](#8.1.1.-Tuning) for details.  \n",
    "  **Recommendation:** Use a value of `10`.\n",
    "\n",
    "*Case example: A sensor is prone to GPS outages during and at the end of sessions, but never at the beginning. The within-session outages last from 30 seconds to 5 minutes. End-session outages last from 10 seconds to 1 minute and 45 seconds.*\n",
    "\n",
    "*List of configurations if I have not a lot of time / not a powerful computation system:*\n",
    "\n",
    "| Training type | Architecture | Adversarial examples | GPS outages capacity | Coeff freq division |\n",
    "| ------------- | ------------ | -------------------- | -------------------- | ------------------- |\n",
    "| Random        | CLSTMTWB     | None                 | 00:10 to 05:00       | 10                  |\n",
    "| Random        | CLSTMTFAWB   | None                 | 00:10 to 05:00       | 10                  |\n",
    "| Random        | STTWB        | None                 | 00:10 to 05:00       | 10                  |\n",
    "| Random        | STTFAWB      | None                 | 00:10 to 05:00       | 10                  |\n",
    "| Random        | TCANWB       | None                 | 00:10 to 05:00       | 10                  |\n",
    "\n",
    "*List of configurations intermediate 1:*\n",
    "\n",
    "| Training type | Architecture | Adversarial examples | GPS outages capacity | Coeff freq division |\n",
    "| ------------- | ------------ | -------------------- | -------------------- | ------------------- |\n",
    "| Random        | CLSTMTWB     | None                 | 00:10 to 02:00       | 10                  |\n",
    "| Random        | CLSTMTFAWB   | None                 | 00:10 to 02:00       | 10                  |\n",
    "| Random        | STTWB        | None                 | 00:10 to 02:00       | 10                  |\n",
    "| Random        | STTFAWB      | None                 | 00:10 to 02:00       | 10                  |\n",
    "| Random        | TCANWB       | None                 | 00:10 to 02:00       | 10                  |\n",
    "| Random        | CLSTMTWB     | None                 | 02:00 to 05:00       | 10                  |\n",
    "| Random        | CLSTMTFAWB   | None                 | 02:00 to 05:00       | 10                  |\n",
    "| Random        | STTWB        | None                 | 02:00 to 05:00       | 10                  |\n",
    "| Random        | STTFAWB      | None                 | 02:00 to 05:00       | 10                  |\n",
    "| Random        | TCANWB       | None                 | 02:00 to 05:00       | 10                  |\n",
    "\n",
    "*List of configurations intermediate 2:*\n",
    "\n",
    "| Training type | Architecture | Adversarial examples | GPS outages capacity | Coeff freq division |\n",
    "| ------------- | ------------ | -------------------- | -------------------- | ------------------- |\n",
    "| Random        | CLSTMTWB     | None                 | 00:10 to 02:00       | 10                  |\n",
    "| Random        | CLSTMTFAWB   | None                 | 00:10 to 02:00       | 10                  |\n",
    "| Random        | STTWB        | None                 | 00:10 to 02:00       | 10                  |\n",
    "| Random        | STTFAWB      | None                 | 00:10 to 02:00       | 10                  |\n",
    "| Random        | TCANWB       | None                 | 00:10 to 02:00       | 10                  |\n",
    "| Random        | CLSTMTWB     | imu                  | 00:10 to 02:00       | 10                  |\n",
    "| Random        | CLSTMTFAWB   | imu                  | 00:10 to 02:00       | 10                  |\n",
    "| Random        | STTWB        | imu                  | 00:10 to 02:00       | 10                  |\n",
    "| Random        | STTFAWB      | imu                  | 00:10 to 02:00       | 10                  |\n",
    "| Random        | TCANWB       | imu                  | 00:10 to 02:00       | 10                  |\n",
    "| Random        | CLSTMTWB     | None                 | 02:00 to 05:00       | 10                  |\n",
    "| Random        | CLSTMTFAWB   | None                 | 02:00 to 05:00       | 10                  |\n",
    "| Random        | STTWB        | None                 | 02:00 to 05:00       | 10                  |\n",
    "| Random        | STTFAWB      | None                 | 02:00 to 05:00       | 10                  |\n",
    "| Random        | TCANWB       | None                 | 02:00 to 05:00       | 10                  |\n",
    "| Random        | CLSTMTWB     | imu                  | 02:00 to 05:00       | 10                  |\n",
    "| Random        | CLSTMTFAWB   | imu                  | 02:00 to 05:00       | 10                  |\n",
    "| Random        | STTWB        | imu                  | 02:00 to 05:00       | 10                  |\n",
    "| Random        | STTFAWB      | imu                  | 02:00 to 05:00       | 10                  |\n",
    "| Random        | TCANWB       | imu                  | 02:00 to 05:00       | 10                  |\n",
    "\n",
    "*List of the configurations if I have plenty of time:*\n",
    "\n",
    "| Training type | Architecture | Adversarial examples | GPS outages capacity | Coeff freq division |\n",
    "| ------------- | ------------ | -------------------- | -------------------- | ------------------- |\n",
    "| Centered      | CLSTMTWB     | None                 | 00:30 to 02:00       | 10                  |\n",
    "| Centered      | CLSTMTFAWB   | None                 | 00:30 to 02:00       | 10                  |\n",
    "| Centered      | STTWB        | None                 | 00:30 to 02:00       | 10                  |\n",
    "| Centered      | STTFAWB      | None                 | 00:30 to 02:00       | 10                  |\n",
    "| Centered      | TCANWB       | None                 | 00:30 to 02:00       | 10                  |\n",
    "| Centered      | CLSTMTWB     | imu                  | 00:30 to 02:00       | 10                  |\n",
    "| Centered      | CLSTMTFAWB   | imu                  | 00:30 to 02:00       | 10                  |\n",
    "| Centered      | STTWB        | imu                  | 00:30 to 02:00       | 10                  |\n",
    "| Centered      | STTFAWB      | imu                  | 00:30 to 02:00       | 10                  |\n",
    "| Centered      | TCANWB       | imu                  | 00:30 to 02:00       | 10                  |\n",
    "| Centered      | CLSTMTWB     | None                 | 02:00 to 05:00       | 10                  |\n",
    "| Centered      | CLSTMTFAWB   | None                 | 02:00 to 05:00       | 10                  |\n",
    "| Centered      | STTWB        | None                 | 02:00 to 05:00       | 10                  |\n",
    "| Centered      | STTFAWB      | None                 | 02:00 to 05:00       | 10                  |\n",
    "| Centered      | TCANWB       | None                 | 02:00 to 05:00       | 10                  |\n",
    "| Centered      | CLSTMTWB     | imu                  | 02:00 to 05:00       | 10                  |\n",
    "| Centered      | CLSTMTFAWB   | imu                  | 02:00 to 05:00       | 10                  |\n",
    "| Centered      | STTWB        | imu                  | 02:00 to 05:00       | 10                  |\n",
    "| Centered      | STTFAWB      | imu                  | 02:00 to 05:00       | 10                  |\n",
    "| Centered      | TCANWB       | imu                  | 02:00 to 05:00       | 10                  |\n",
    "| End           | CLSTMTWB     | None                 | 00:10 to 01:45       | 10                  |\n",
    "| End           | CLSTMTFAWB   | None                 | 00:10 to 01:45       | 10                  |\n",
    "| End           | STTWB        | None                 | 00:10 to 01:45       | 10                  |\n",
    "| End           | STTFAWB      | None                 | 00:10 to 01:45       | 10                  |\n",
    "| End           | TCANWB       | None                 | 00:10 to 01:45       | 10                  |\n",
    "| End           | CLSTMTWB     | imu                  | 00:10 to 01:45       | 10                  |\n",
    "| End           | CLSTMTFAWB   | imu                  | 00:10 to 01:45       | 10                  |\n",
    "| End           | STTWB        | imu                  | 00:10 to 01:45       | 10                  |\n",
    "| End           | STTFAWB      | imu                  | 00:10 to 01:45       | 10                  |\n",
    "| End           | TCANWB       | imu                  | 00:10 to 01:45       | 10                  |\n",
    "| Random        | CLSTMTWB     | None                 | 00:10 to 02:00       | 10                  |\n",
    "| Random        | CLSTMTFAWB   | None                 | 00:10 to 02:00       | 10                  |\n",
    "| Random        | STTWB        | None                 | 00:10 to 02:00       | 10                  |\n",
    "| Random        | STTFAWB      | None                 | 00:10 to 02:00       | 10                  |\n",
    "| Random        | TCANWB       | None                 | 00:10 to 02:00       | 10                  |\n",
    "| Random        | CLSTMTWB     | imu                  | 00:10 to 02:00       | 10                  |\n",
    "| Random        | CLSTMTFAWB   | imu                  | 00:10 to 02:00       | 10                  |\n",
    "| Random        | STTWB        | imu                  | 00:10 to 02:00       | 10                  |\n",
    "| Random        | STTFAWB      | imu                  | 00:10 to 02:00       | 10                  |\n",
    "| Random        | TCANWB       | imu                  | 00:10 to 02:00       | 10                  |\n",
    "| Random        | CLSTMTWB     | None                 | 02:00 to 05:00       | 10                  |\n",
    "| Random        | CLSTMTFAWB   | None                 | 02:00 to 05:00       | 10                  |\n",
    "| Random        | STTWB        | None                 | 02:00 to 05:00       | 10                  |\n",
    "| Random        | STTFAWB      | None                 | 02:00 to 05:00       | 10                  |\n",
    "| Random        | TCANWB       | None                 | 02:00 to 05:00       | 10                  |\n",
    "| Random        | CLSTMTWB     | imu                  | 02:00 to 05:00       | 10                  |\n",
    "| Random        | CLSTMTFAWB   | imu                  | 02:00 to 05:00       | 10                  |\n",
    "| Random        | STTWB        | imu                  | 02:00 to 05:00       | 10                  |\n",
    "| Random        | STTFAWB      | imu                  | 02:00 to 05:00       | 10                  |\n",
    "| Random        | TCANWB       | imu                  | 02:00 to 05:00       | 10                  |"
   ]
  },
  {
   "cell_type": "markdown",
   "id": "70ff886f-700f-4f37-ace6-47a3c9942224",
   "metadata": {
    "jp-MarkdownHeadingCollapsed": true
   },
   "source": [
    "### 8.4. Validate models tuning"
   ]
  },
  {
   "cell_type": "markdown",
   "id": "301b5dc1-15f0-4193-a61a-cb52e50ad7f7",
   "metadata": {},
   "source": [
    "Once you have finished tuning and evaluating the individual neural networks, you can proceed to validate the model tuning using the method <code>Project.validate_models_tuning</code>.\n",
    "\n",
    "You may encounter two possible outcomes:\n",
    "\n",
    "- The method successfully validates the model tuning, or  \n",
    "- The method returns one or more warnings.\n",
    "\n",
    "In the second scenario, the warnings indicate that you did not evaluate some configurations that were previously tuned. As a result, the framework will not use those configurations in production.\n",
    "\n",
    "To resolve this:\n",
    "\n",
    "- If the missing evaluations were unintentional, evaluate the forgotten configurations and then call the method <code>Project.validate_models_tuning</code> again.\n",
    "- If the omission is intentional (e.g., those configurations performed poorly during tuning and are not worth evaluating), call the method <code>Project.validate_models_tuning</code> with the argument <code>force_validation=True</code>.\n"
   ]
  },
  {
   "cell_type": "code",
   "execution_count": 87,
   "id": "bbe8349a-4114-4975-87f7-51dd50be6b2e",
   "metadata": {},
   "outputs": [
    {
     "name": "stdout",
     "output_type": "stream",
     "text": [
      "The models tuning has been validated!\n"
     ]
    }
   ],
   "source": [
    "# E.g. when the method successfully validates the models tuning.\n",
    "\n",
    "project.validate_models_tuning()"
   ]
  },
  {
   "cell_type": "raw",
   "id": "5123b101-7bc4-4dec-8abd-1e7a85feefa7",
   "metadata": {},
   "source": [
    "# For the purpose of the user guide\n",
    "\n",
    "from posnnet.project_life_cycle_manager import ProjectLifeCycleManager\n",
    "\n",
    "project.move_to_previous_stage(desired_stage=ProjectLifeCycleManager.MODELS_TUNING_STAGE)"
   ]
  },
  {
   "cell_type": "code",
   "execution_count": 89,
   "id": "1098de3d-61a6-44a1-991e-8f037187f721",
   "metadata": {},
   "outputs": [
    {
     "name": "stdout",
     "output_type": "stream",
     "text": [
      "The models tuning has not been validated because of warnings. You have one or severals tuned configurations that do not have been evaluated. You can either perform the validation for these configurations or call again the models tuning validation method with the argument 'force_validation=True'.\n",
      "\n",
      "List of the configuration for which the evaluation has not been performed:\n",
      " - STTWB with training type random with full adv and a frequency division of 10 on GPS outage from 00-30 to 02-00\n",
      " - CLSTMTWB with training type centered with imu adv and a frequency division of 10 on GPS outage from 00-30 to 02-00\n",
      " - TCANWB with training type centered without adv and a frequency division of 10 on GPS outage from 00-30 to 02-00\n"
     ]
    }
   ],
   "source": [
    "# E.g. when the method raises warning(s).\n",
    "\n",
    "project.validate_models_tuning()"
   ]
  },
  {
   "cell_type": "code",
   "execution_count": 90,
   "id": "4feaad19-4b7e-44e3-9a57-8da2fe6422ab",
   "metadata": {},
   "outputs": [
    {
     "name": "stdout",
     "output_type": "stream",
     "text": [
      "The models tuning has been validated!\n",
      "\n",
      "List of the configuration for which the evaluation has not been performed:\n",
      " - STTWB with training type random with full adv and a frequency division of 10 on GPS outage from 00-30 to 02-00\n",
      " - CLSTMTWB with training type centered with imu adv and a frequency division of 10 on GPS outage from 00-30 to 02-00\n",
      " - TCANWB with training type centered without adv and a frequency division of 10 on GPS outage from 00-30 to 02-00\n"
     ]
    }
   ],
   "source": [
    "# # E.g. when the method is forced to validate the models tuning.\n",
    "\n",
    "project.validate_models_tuning(force_validation=True)"
   ]
  },
  {
   "cell_type": "raw",
   "id": "6064bae2-8ad7-42da-9953-51877600e22e",
   "metadata": {},
   "source": [
    "# For the purpose of the user guide\n",
    "\n",
    "from posnnet.project_life_cycle_manager import ProjectLifeCycleManager\n",
    "\n",
    "project.move_to_previous_stage(desired_stage=ProjectLifeCycleManager.MODELS_TUNING_STAGE)\n",
    "project.validate_models_tuning()"
   ]
  },
  {
   "cell_type": "markdown",
   "id": "8dd7c70a-0d6e-4afb-8c87-95209d3960f1",
   "metadata": {
    "jp-MarkdownHeadingCollapsed": true
   },
   "source": [
    "## 9. Configuration of the models' predictions averaging"
   ]
  },
  {
   "cell_type": "markdown",
   "id": "d282bdc5-232b-4aa5-8698-06d07323fe63",
   "metadata": {},
   "source": [
    "After validating the models tuning, the project enters the **Averaging configuration stage**. It is the last step to perform before being able to use POSNNET in production. To reconstruct the trajectory in production, POSNNET uses not only one but several individual neural networks. The trajectory proposed by each network is averaged to obtain a more accurate and consistent reconstruction. In this stage, the framework will elaborate the best set of models to use.\n",
    "\n",
    "To perform the elaboration of the best set, use the method <code>Project.averaging_configuration</code>. You will have to provide an argument <code>model_selection_levels</code> which is a list of float representing the different numbers of models you want to evaluate together. For example, if you have tuned 20 configuration and you provided the list <code>[2/10, 5/10, 10/10]</code>, the framework will evaluate the models' predictions averaging for the best (based on the tuning performances on the validation set) 4, 10 and 20 configurations.\n",
    "\n",
    "Use the argument <code>verbosity=True</code> if you want to have verbose during the process."
   ]
  },
  {
   "cell_type": "markdown",
   "id": "2a32a028-edad-465c-8f34-5ad9669197e6",
   "metadata": {},
   "source": [
    "After validating the model tuning, the project enters the **Averaging configuration stage**. This is the final step before deploying POSNNET in production.\n",
    "\n",
    "To reconstruct the trajectory in production, POSNNET relies on multiple individual neural networks rather than a single one. The trajectories proposed by each network are averaged to produce a more accurate and consistent reconstruction. During this stage, the framework will determine the optimal set of models to use.\n",
    "\n",
    "To perform this step, use the method <code>Project.averaging_configuration</code>. You must provide the argument <code>model_selection_levels</code>, which is a list of floats representing the different proportions of models you want to evaluate. \n",
    "\n",
    "For example, if you have tuned 20 configurations and provide the list <code>[0.2, 0.5, 1.0]</code>, the framework will evaluate the averaged predictions using the best 4, 10, and 20 configurations (based on their tuning performance on the validation dataset).\n",
    "\n",
    "Use the argument <code>verbosity=True</code> if you want detailed output during the process.\n"
   ]
  },
  {
   "cell_type": "code",
   "execution_count": 4,
   "id": "5be1e891-e36a-4c41-b2f3-2171a62769e3",
   "metadata": {},
   "outputs": [
    {
     "name": "stdout",
     "output_type": "stream",
     "text": [
      "Case beginning from 00-30 to 01-00 progress: 100.00%\n",
      "Case beginning from 01-00 to 02-00 progress: 100.00%\n",
      "Case within from 00-30 to 01-00 progress: 100.00%\n",
      "Case within from 01-00 to 02-00 progress: 100.00%\n",
      "Case end from 00-30 to 01-00 progress: 100.00%\n"
     ]
    }
   ],
   "source": [
    "project.averaging_configuration(\n",
    "    model_selection_levels=[0.34, 0.67, 1.0],\n",
    "    verbosity=True\n",
    ")"
   ]
  },
  {
   "cell_type": "markdown",
   "id": "b381dbd4-e4e1-43e4-84be-18e86d24daf1",
   "metadata": {},
   "source": [
    "You now have access to a new tab in the dashboard that displays the results of the models' prediction averaging."
   ]
  },
  {
   "cell_type": "code",
   "execution_count": 5,
   "id": "a59e8700-6c7e-4e6f-be0c-e6b016fb93dd",
   "metadata": {},
   "outputs": [],
   "source": [
    "project.display_dashboard()"
   ]
  },
  {
   "cell_type": "markdown",
   "id": "352a5124-1383-47fe-a418-901b8e8fb066",
   "metadata": {
    "jp-MarkdownHeadingCollapsed": true
   },
   "source": [
    "## 10. Use POSNNET in production"
   ]
  },
  {
   "cell_type": "markdown",
   "id": "8aabb2d2-3bd6-404d-9763-a137ed725a22",
   "metadata": {},
   "source": [
    "After running the averaging configuration, the framework automatically advances to the **Production** stage. You can now use POSNNET to reconstruct position and velocity during GNSS outages.\n",
    "\n",
    "The part of the guide, which covers production usage, is coming soon."
   ]
  },
  {
   "cell_type": "markdown",
   "id": "e9de8c7c-6771-45ff-8951-0011ce5746bc",
   "metadata": {
    "jp-MarkdownHeadingCollapsed": true
   },
   "source": [
    "## 11. Revert to a previous stage"
   ]
  },
  {
   "cell_type": "markdown",
   "id": "99e4d234-a8d7-4523-8e71-b9001e525cf1",
   "metadata": {},
   "source": [
    "If, for any reason, you missed something in a previous stage, you do not need to create a new project. You can revert the project to an earlier stage using the method <code>Project.move_to_previous_stage</code>.\n",
    "\n",
    "This method takes an argument named <code>desired_stage</code>, which can be one of the following:\n",
    "\n",
    "- <code>ProjectLifeCycleManager.SETTINGS_DEFINITION_STAGE</code>\n",
    "- <code>ProjectLifeCycleManager.DATA_PREPROCESSING_STAGE</code>\n",
    "- <code>ProjectLifeCycleManager.SCALER_FIT_STAGE</code>\n",
    "- <code>ProjectLifeCycleManager.MODELS_TUNING_STAGE</code>\n",
    "- <code>ProjectLifeCycleManager.AVERAGING_CONFIGURATION_STAGE</code>\n",
    "\n",
    "You can revert the project to one or more previous stages in a single call."
   ]
  },
  {
   "cell_type": "raw",
   "id": "10a3fabf-f2fd-4fa9-994e-12fc7f525f3a",
   "metadata": {},
   "source": [
    "# For the purpose of the user guide\n",
    "\n",
    "from posnnet.project_life_cycle_manager import ProjectLifeCycleManager\n",
    "\n",
    "project.move_to_previous_stage(desired_stage=ProjectLifeCycleManager.AVERAGING_CONFIGURATION_STAGE, force_move=True)"
   ]
  },
  {
   "cell_type": "code",
   "execution_count": 7,
   "id": "ed7c3e96-f444-4bb7-a1a0-f0fec11384ab",
   "metadata": {},
   "outputs": [
    {
     "name": "stdout",
     "output_type": "stream",
     "text": [
      "You have performed a stage move from AVERAGING_CONFIGURATION_STAGE to MODELS_TUNING_STAGE.\n",
      "\n"
     ]
    }
   ],
   "source": [
    "# E.g. revert from AVERAGING_CONFIGURATION_STAGE to MODELS_TUNING_STAGE\n",
    "\n",
    "from posnnet.project_life_cycle_manager import ProjectLifeCycleManager\n",
    "\n",
    "project.move_to_previous_stage(desired_stage=ProjectLifeCycleManager.MODELS_TUNING_STAGE)"
   ]
  },
  {
   "cell_type": "markdown",
   "id": "3ed85a24-91ec-4d46-8780-da1b6e9cc011",
   "metadata": {},
   "source": [
    "Some stage transitions are **destructive**, meaning that part of the progress will be lost and must be redone. The following transitions are considered destructive:\n",
    "\n",
    "- **PRODUCTION** to **AVERAGING_CONFIGURATION_STAGE**: You will lose the averaging configuration.\n",
    "- **MODELS_TUNING_STAGE** to **SCALER_FIT_STAGE**: You will lose the models tuning and evaluation.\n",
    "- **SCALER_FIT_STAGE** to **DATA_PREPROCESSING_STAGE**: You will lose the scalers and preprocessed data.\n",
    "\n",
    "If you attempt to revert to a previous stage that involves a destructive transition, the framework will notify you and will not proceed with the operation.\n",
    "\n",
    "If you are certain you want to perform the destructive transition, call the method again with the argument <code>force_move=True</code>."
   ]
  },
  {
   "cell_type": "code",
   "execution_count": 8,
   "id": "c4030b1a-69f1-4cef-890e-14d5b0b8bd19",
   "metadata": {},
   "outputs": [
    {
     "name": "stdout",
     "output_type": "stream",
     "text": [
      "You are trying to move from MODELS_TUNING_STAGE to SCALER_FIT_STAGE. This action is a destructive action. You will lose the scalers that have been already fitted, the tuned configurations and their evaluation results. Because 'force_move=False', this action has not been performed. If you are sure about realizing this action, call back the method with 'force_move=True'.\n",
      "\n"
     ]
    }
   ],
   "source": [
    "# E.g. revert from MODELS_TUNING_STAGE to SCALER_FIT_STAGE\n",
    "\n",
    "from posnnet.project_life_cycle_manager import ProjectLifeCycleManager\n",
    "\n",
    "project.move_to_previous_stage(desired_stage=ProjectLifeCycleManager.SCALER_FIT_STAGE)"
   ]
  },
  {
   "cell_type": "code",
   "execution_count": 9,
   "id": "1f94f89d-4987-4520-ba8c-3dff7ceeffb7",
   "metadata": {},
   "outputs": [
    {
     "name": "stdout",
     "output_type": "stream",
     "text": [
      "You have performed a stage move from MODELS_TUNING_STAGE to SCALER_FIT_STAGE. This is a destructive action. Scalers that have been already fitted, the tuned configurations and their evaluations results have been deleted. You will have to fit the scalers again.\n",
      "\n"
     ]
    }
   ],
   "source": [
    "# E.g. revert from MODELS_TUNING_STAGE to SCALER_FIT_STAGE with force move\n",
    "\n",
    "from posnnet.project_life_cycle_manager import ProjectLifeCycleManager\n",
    "\n",
    "project.move_to_previous_stage(desired_stage=ProjectLifeCycleManager.SCALER_FIT_STAGE, force_move=True)"
   ]
  }
 ],
 "metadata": {
  "kernelspec": {
   "display_name": "Python 3 (ipykernel)",
   "language": "python",
   "name": "python3"
  },
  "language_info": {
   "codemirror_mode": {
    "name": "ipython",
    "version": 3
   },
   "file_extension": ".py",
   "mimetype": "text/x-python",
   "name": "python",
   "nbconvert_exporter": "python",
   "pygments_lexer": "ipython3",
   "version": "3.12.9"
  }
 },
 "nbformat": 4,
 "nbformat_minor": 5
}
